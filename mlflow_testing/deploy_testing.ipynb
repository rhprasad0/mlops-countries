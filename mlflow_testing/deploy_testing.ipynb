{
 "cells": [
  {
   "cell_type": "markdown",
   "id": "8736e6e8-21a9-4190-936e-5e066a0c636b",
   "metadata": {},
   "source": [
    "# Ryan tries to deploy this thing\n",
    "No staging button in model registry for my single model. Cannot seem to deploy..."
   ]
  },
  {
   "cell_type": "markdown",
   "id": "c5dd347e-8972-4400-bcf0-4781e4bd4728",
   "metadata": {},
   "source": [
    "So uh, this is a problem. In the GUI, it says I have a registered model. However, here and when I go to deploy, it says there is no registered model.\n",
    "\n",
    "Let's try again."
   ]
  },
  {
   "cell_type": "code",
   "execution_count": 24,
   "id": "9d3ce3cc-bb63-4509-809c-e8508533d73e",
   "metadata": {},
   "outputs": [],
   "source": [
    "import pandas as pd\n",
    "import lakefs_client\n",
    "from lakefs_client.client import LakeFSClient\n",
    "import numpy as np\n",
    "from sklearn.pipeline import make_pipeline\n",
    "from sklearn.preprocessing import StandardScaler\n",
    "from sklearn.svm import LinearSVC\n",
    "from sklearn.model_selection import train_test_split\n",
    "from sklearn.metrics import accuracy_score, precision_score, recall_score, f1_score\n",
    "from mlflow.models import infer_signature\n",
    "import mlflow\n",
    "from mlflow import MlflowClient\n",
    "from pprint import pprint"
   ]
  },
  {
   "cell_type": "code",
   "execution_count": 3,
   "id": "bd4276af-8969-4346-bffd-41c1b114cf5c",
   "metadata": {},
   "outputs": [],
   "source": [
    "# lakeFS credentials and endpoint\n",
    "configuration = lakefs_client.Configuration()\n",
    "configuration.username = ''\n",
    "configuration.password = ''\n",
    "configuration.host = '' # yeah so you do need to make a hole in the security group\n",
    "                         # even if the two ec2 instances are in the same SG.\n",
    "                         # These are private IPs, if you are wondering - hopefully this\n",
    "                         # does not go over the net...\n",
    "client = LakeFSClient(configuration)"
   ]
  },
  {
   "cell_type": "code",
   "execution_count": 4,
   "id": "70e38a2e-7b77-4ac2-a862-c7ca970e95f7",
   "metadata": {},
   "outputs": [],
   "source": [
    "# This grabs the data.csv file out of the main branch of the countries repository in lakeFS \n",
    "file = client.objects.get_object('countries','main','data.csv')\n",
    "df = pd.read_csv(file)"
   ]
  },
  {
   "cell_type": "code",
   "execution_count": 5,
   "id": "f778e95e-92dd-42a2-98b1-c4371c55f142",
   "metadata": {},
   "outputs": [],
   "source": [
    "features = df[[\"Longitude\", \"Latitude\"]].to_numpy()\n",
    "target = df[[\"CID\"]].to_numpy()"
   ]
  },
  {
   "cell_type": "code",
   "execution_count": 6,
   "id": "4059e323-3376-4ab3-bb89-c5c40c5a50c7",
   "metadata": {},
   "outputs": [],
   "source": [
    "clf = make_pipeline(StandardScaler(), LinearSVC(dual=\"auto\", random_state=0, tol=1e-5))"
   ]
  },
  {
   "cell_type": "code",
   "execution_count": 7,
   "id": "4c0f4b26-8fd7-4a88-b73a-78cd875a2744",
   "metadata": {
    "scrolled": true
   },
   "outputs": [
    {
     "data": {
      "text/html": [
       "<style>#sk-container-id-1 {color: black;}#sk-container-id-1 pre{padding: 0;}#sk-container-id-1 div.sk-toggleable {background-color: white;}#sk-container-id-1 label.sk-toggleable__label {cursor: pointer;display: block;width: 100%;margin-bottom: 0;padding: 0.3em;box-sizing: border-box;text-align: center;}#sk-container-id-1 label.sk-toggleable__label-arrow:before {content: \"▸\";float: left;margin-right: 0.25em;color: #696969;}#sk-container-id-1 label.sk-toggleable__label-arrow:hover:before {color: black;}#sk-container-id-1 div.sk-estimator:hover label.sk-toggleable__label-arrow:before {color: black;}#sk-container-id-1 div.sk-toggleable__content {max-height: 0;max-width: 0;overflow: hidden;text-align: left;background-color: #f0f8ff;}#sk-container-id-1 div.sk-toggleable__content pre {margin: 0.2em;color: black;border-radius: 0.25em;background-color: #f0f8ff;}#sk-container-id-1 input.sk-toggleable__control:checked~div.sk-toggleable__content {max-height: 200px;max-width: 100%;overflow: auto;}#sk-container-id-1 input.sk-toggleable__control:checked~label.sk-toggleable__label-arrow:before {content: \"▾\";}#sk-container-id-1 div.sk-estimator input.sk-toggleable__control:checked~label.sk-toggleable__label {background-color: #d4ebff;}#sk-container-id-1 div.sk-label input.sk-toggleable__control:checked~label.sk-toggleable__label {background-color: #d4ebff;}#sk-container-id-1 input.sk-hidden--visually {border: 0;clip: rect(1px 1px 1px 1px);clip: rect(1px, 1px, 1px, 1px);height: 1px;margin: -1px;overflow: hidden;padding: 0;position: absolute;width: 1px;}#sk-container-id-1 div.sk-estimator {font-family: monospace;background-color: #f0f8ff;border: 1px dotted black;border-radius: 0.25em;box-sizing: border-box;margin-bottom: 0.5em;}#sk-container-id-1 div.sk-estimator:hover {background-color: #d4ebff;}#sk-container-id-1 div.sk-parallel-item::after {content: \"\";width: 100%;border-bottom: 1px solid gray;flex-grow: 1;}#sk-container-id-1 div.sk-label:hover label.sk-toggleable__label {background-color: #d4ebff;}#sk-container-id-1 div.sk-serial::before {content: \"\";position: absolute;border-left: 1px solid gray;box-sizing: border-box;top: 0;bottom: 0;left: 50%;z-index: 0;}#sk-container-id-1 div.sk-serial {display: flex;flex-direction: column;align-items: center;background-color: white;padding-right: 0.2em;padding-left: 0.2em;position: relative;}#sk-container-id-1 div.sk-item {position: relative;z-index: 1;}#sk-container-id-1 div.sk-parallel {display: flex;align-items: stretch;justify-content: center;background-color: white;position: relative;}#sk-container-id-1 div.sk-item::before, #sk-container-id-1 div.sk-parallel-item::before {content: \"\";position: absolute;border-left: 1px solid gray;box-sizing: border-box;top: 0;bottom: 0;left: 50%;z-index: -1;}#sk-container-id-1 div.sk-parallel-item {display: flex;flex-direction: column;z-index: 1;position: relative;background-color: white;}#sk-container-id-1 div.sk-parallel-item:first-child::after {align-self: flex-end;width: 50%;}#sk-container-id-1 div.sk-parallel-item:last-child::after {align-self: flex-start;width: 50%;}#sk-container-id-1 div.sk-parallel-item:only-child::after {width: 0;}#sk-container-id-1 div.sk-dashed-wrapped {border: 1px dashed gray;margin: 0 0.4em 0.5em 0.4em;box-sizing: border-box;padding-bottom: 0.4em;background-color: white;}#sk-container-id-1 div.sk-label label {font-family: monospace;font-weight: bold;display: inline-block;line-height: 1.2em;}#sk-container-id-1 div.sk-label-container {text-align: center;}#sk-container-id-1 div.sk-container {/* jupyter's `normalize.less` sets `[hidden] { display: none; }` but bootstrap.min.css set `[hidden] { display: none !important; }` so we also need the `!important` here to be able to override the default hidden behavior on the sphinx rendered scikit-learn.org. See: https://github.com/scikit-learn/scikit-learn/issues/21755 */display: inline-block !important;position: relative;}#sk-container-id-1 div.sk-text-repr-fallback {display: none;}</style><div id=\"sk-container-id-1\" class=\"sk-top-container\"><div class=\"sk-text-repr-fallback\"><pre>Pipeline(steps=[(&#x27;standardscaler&#x27;, StandardScaler()),\n",
       "                (&#x27;linearsvc&#x27;,\n",
       "                 LinearSVC(dual=&#x27;auto&#x27;, random_state=0, tol=1e-05))])</pre><b>In a Jupyter environment, please rerun this cell to show the HTML representation or trust the notebook. <br />On GitHub, the HTML representation is unable to render, please try loading this page with nbviewer.org.</b></div><div class=\"sk-container\" hidden><div class=\"sk-item sk-dashed-wrapped\"><div class=\"sk-label-container\"><div class=\"sk-label sk-toggleable\"><input class=\"sk-toggleable__control sk-hidden--visually\" id=\"sk-estimator-id-1\" type=\"checkbox\" ><label for=\"sk-estimator-id-1\" class=\"sk-toggleable__label sk-toggleable__label-arrow\">Pipeline</label><div class=\"sk-toggleable__content\"><pre>Pipeline(steps=[(&#x27;standardscaler&#x27;, StandardScaler()),\n",
       "                (&#x27;linearsvc&#x27;,\n",
       "                 LinearSVC(dual=&#x27;auto&#x27;, random_state=0, tol=1e-05))])</pre></div></div></div><div class=\"sk-serial\"><div class=\"sk-item\"><div class=\"sk-estimator sk-toggleable\"><input class=\"sk-toggleable__control sk-hidden--visually\" id=\"sk-estimator-id-2\" type=\"checkbox\" ><label for=\"sk-estimator-id-2\" class=\"sk-toggleable__label sk-toggleable__label-arrow\">StandardScaler</label><div class=\"sk-toggleable__content\"><pre>StandardScaler()</pre></div></div></div><div class=\"sk-item\"><div class=\"sk-estimator sk-toggleable\"><input class=\"sk-toggleable__control sk-hidden--visually\" id=\"sk-estimator-id-3\" type=\"checkbox\" ><label for=\"sk-estimator-id-3\" class=\"sk-toggleable__label sk-toggleable__label-arrow\">LinearSVC</label><div class=\"sk-toggleable__content\"><pre>LinearSVC(dual=&#x27;auto&#x27;, random_state=0, tol=1e-05)</pre></div></div></div></div></div></div></div>"
      ],
      "text/plain": [
       "Pipeline(steps=[('standardscaler', StandardScaler()),\n",
       "                ('linearsvc',\n",
       "                 LinearSVC(dual='auto', random_state=0, tol=1e-05))])"
      ]
     },
     "execution_count": 7,
     "metadata": {},
     "output_type": "execute_result"
    }
   ],
   "source": [
    "clf.fit(features, target.ravel())"
   ]
  },
  {
   "cell_type": "code",
   "execution_count": 10,
   "id": "89890d67-8c63-427a-99ae-78effb4d1e3f",
   "metadata": {},
   "outputs": [],
   "source": [
    "X_train, X_test, y_train, y_test = train_test_split(features, target.ravel(), test_size=0.2, random_state=42)"
   ]
  },
  {
   "cell_type": "code",
   "execution_count": 17,
   "id": "9fb2b628-2a82-4891-bcdb-3dfeb9c6d7ed",
   "metadata": {},
   "outputs": [],
   "source": [
    "params = {\"pipeline\":True, \"scaler\": \"standard\", \"dual\": \"auto\", \"random_state\": 0, \"tol\":1e-5}"
   ]
  },
  {
   "cell_type": "code",
   "execution_count": 12,
   "id": "33df34aa-1386-46d6-8699-5a7520d76c62",
   "metadata": {},
   "outputs": [],
   "source": [
    "y_pred = clf.predict(X_test)"
   ]
  },
  {
   "cell_type": "code",
   "execution_count": 13,
   "id": "997c6f72-7ec3-48d9-9b7c-7365233d54ab",
   "metadata": {
    "jupyter": {
     "source_hidden": true
    }
   },
   "outputs": [
    {
     "data": {
      "text/plain": [
       "0.07402298850574712"
      ]
     },
     "execution_count": 13,
     "metadata": {},
     "output_type": "execute_result"
    }
   ],
   "source": [
    "accuracy = accuracy_score(y_test, y_pred)\n",
    "\n",
    "accuracy"
   ]
  },
  {
   "cell_type": "markdown",
   "id": "8a68e211-adda-4afe-a5f3-a71ee3b5f2c2",
   "metadata": {},
   "source": [
    "Well that's still garbage, but better than SGD. Let's see if we can't deploy this puppy."
   ]
  },
  {
   "cell_type": "code",
   "execution_count": 16,
   "id": "2ee115a3-6cef-48e2-9ec3-fd9fb63d4561",
   "metadata": {},
   "outputs": [],
   "source": [
    "# Infer the model signature\n",
    "signature = infer_signature(X_train, clf.predict(X_train))"
   ]
  },
  {
   "cell_type": "code",
   "execution_count": 21,
   "id": "faf8c772-1b09-4c74-8501-8fb59a40658c",
   "metadata": {},
   "outputs": [],
   "source": [
    "mlflow.set_tracking_uri(uri=\"http://127.0.0.1:8080\")"
   ]
  },
  {
   "cell_type": "code",
   "execution_count": 33,
   "id": "22c5ce39-7446-49cb-977a-756e5b196610",
   "metadata": {},
   "outputs": [
    {
     "name": "stderr",
     "output_type": "stream",
     "text": [
      "Registered model 'tracking-countries' already exists. Creating a new version of this model...\n",
      "2023/12/03 03:21:00 INFO mlflow.store.model_registry.abstract_store: Waiting up to 300 seconds for model version to finish creation. Model name: tracking-countries, version 2\n",
      "Created version '2' of model 'tracking-countries'.\n"
     ]
    }
   ],
   "source": [
    "# Start an MLflow run\n",
    "with mlflow.start_run() as run:\n",
    "    # Log the hyperparameters\n",
    "    mlflow.log_params(params)\n",
    "\n",
    "    # Log the loss metric\n",
    "    mlflow.log_metric(\"accuracy\", accuracy)\n",
    "\n",
    "    # Set a tag that we can use to remind ourselves what this run was for\n",
    "    mlflow.set_tag(\"Training Info\", \"Country prediction take 2\")\n",
    "\n",
    "    # Log the model\n",
    "    model_info = mlflow.sklearn.log_model(\n",
    "        sk_model=clf,\n",
    "        artifact_path=\"countries_model\",\n",
    "        signature=signature,\n",
    "        input_example=X_train[:10],\n",
    "        registered_model_name=\"tracking-countries\",\n",
    "    )\n"
   ]
  },
  {
   "cell_type": "markdown",
   "id": "3dcb2753-8dcf-4f6b-bf7a-731bbb7e47e8",
   "metadata": {},
   "source": [
    "Yep that's not right. I resetted the instance to get mlflow model serve working... I don't think anything persisted after that... nor is this new run showing in the GUI... perhaps I should hook up the tracking server to RDS?\n",
    "\n",
    "So mlflow server needs to be run sudo..."
   ]
  },
  {
   "cell_type": "code",
   "execution_count": 25,
   "id": "a768662c-3b60-4bea-8e0e-cd12ab74d3b1",
   "metadata": {},
   "outputs": [
    {
     "name": "stdout",
     "output_type": "stream",
     "text": [
      "{   'aliases': {},\n",
      "    'creation_timestamp': 1701570256668,\n",
      "    'description': '',\n",
      "    'last_updated_timestamp': 1701570311957,\n",
      "    'latest_versions': [   <ModelVersion: aliases=[], creation_timestamp=1701570256679, current_stage='Production', description='', last_updated_timestamp=1701570311957, name='tracking-countries', run_id='a2cdf1d1e13744929fec496d15068a73', run_link='', source='mlflow-artifacts:/0/a2cdf1d1e13744929fec496d15068a73/artifacts/countries_model', status='READY', status_message='', tags={}, user_id='', version='1'>],\n",
      "    'name': 'tracking-countries',\n",
      "    'tags': {}}\n"
     ]
    }
   ],
   "source": [
    "client = MlflowClient()\n",
    "for rm in client.search_registered_models():\n",
    "    pprint(dict(rm), indent=4)\n"
   ]
  },
  {
   "cell_type": "code",
   "execution_count": 34,
   "id": "9b274f50-1366-4b39-8a66-4a8db0653612",
   "metadata": {},
   "outputs": [],
   "source": [
    "mlflow.end_run()"
   ]
  },
  {
   "cell_type": "code",
   "execution_count": 35,
   "id": "3757151e-092a-4f85-b1a6-3d327942c7ca",
   "metadata": {},
   "outputs": [],
   "source": [
    "model_uri = \"runs:/{}/model\".format(run.info.run_id)"
   ]
  },
  {
   "cell_type": "code",
   "execution_count": 36,
   "id": "f982827e-e78b-477e-a537-53d661f3bd30",
   "metadata": {},
   "outputs": [
    {
     "data": {
      "text/plain": [
       "'runs:/f150aeec44c74b3697cc9d18033802a0/model'"
      ]
     },
     "execution_count": 36,
     "metadata": {},
     "output_type": "execute_result"
    }
   ],
   "source": [
    "model_uri"
   ]
  },
  {
   "cell_type": "markdown",
   "id": "b72d91f5-5a68-4359-9714-73e4c7558375",
   "metadata": {},
   "source": [
    "I tooled around in the console for hours trying to get the local prediction server up, mostly in the console. After installing pyenv, I finally got it working by running: \n",
    "\n",
    "`mlflow models serve -m 'models:/countries-tracking/Production' -h 0.0.0.0 --port 5002 --no-conda`\n",
    "\n",
    "I was able to query it using \n",
    "\n",
    "```\n",
    "curl -d '{\"dataframe_split\": {\r\n",
    "\"columns\": [\"lon\",\"lat\"],\r\n",
    "\"data\": [[-98,36]]}}' \\\r\n",
    "-H 'Content-Type: application/json' -X POST localhost:5002/invocati\n",
    "```\n",
    "\n",
    "If you are seeing something about http or https, it cannot find your model.ons"
   ]
  },
  {
   "cell_type": "code",
   "execution_count": null,
   "id": "c7fd2e60-301c-49dc-b094-a50bd51ab552",
   "metadata": {},
   "outputs": [],
   "source": []
  }
 ],
 "metadata": {
  "kernelspec": {
   "display_name": "Python 3 (ipykernel)",
   "language": "python",
   "name": "python3"
  },
  "language_info": {
   "codemirror_mode": {
    "name": "ipython",
    "version": 3
   },
   "file_extension": ".py",
   "mimetype": "text/x-python",
   "name": "python",
   "nbconvert_exporter": "python",
   "pygments_lexer": "ipython3",
   "version": "3.10.12"
  }
 },
 "nbformat": 4,
 "nbformat_minor": 5
}
