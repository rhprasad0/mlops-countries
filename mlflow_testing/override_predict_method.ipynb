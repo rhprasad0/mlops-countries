{
 "cells": [
  {
   "cell_type": "markdown",
   "id": "8a43f990-10dd-40de-9fef-858793233d0f",
   "metadata": {},
   "source": [
    "# Gotta override the predict method for this to be usable\n",
    "A country of 64 is not going to help much. Thankfully, after doing some research it does not appear that the prediction inputs need to be scaled as the pipeline will take care of that for us."
   ]
  },
  {
   "cell_type": "code",
   "execution_count": 74,
   "id": "f7849ff0-0c92-42ac-a45d-a1897dbd0902",
   "metadata": {},
   "outputs": [],
   "source": [
    "import pandas as pd\n",
    "import lakefs_client\n",
    "from lakefs_client.client import LakeFSClient\n",
    "import numpy as np\n",
    "from sklearn.pipeline import make_pipeline\n",
    "from sklearn.preprocessing import StandardScaler\n",
    "from sklearn.svm import LinearSVC\n",
    "from sklearn.model_selection import train_test_split\n",
    "from sklearn.metrics import accuracy_score, precision_score, recall_score, f1_score\n",
    "import mlflow\n",
    "from sklearn.linear_model import SGDClassifier"
   ]
  },
  {
   "cell_type": "code",
   "execution_count": 75,
   "id": "51f6fa5d-e9c5-48db-a16a-b81405ff3186",
   "metadata": {},
   "outputs": [],
   "source": [
    "# lakeFS credentials and endpoint\n",
    "configuration = lakefs_client.Configuration()\n",
    "configuration.username = ''\n",
    "configuration.password = ''\n",
    "configuration.host = '' # yeah so you do need to make a hole in the security group\n",
    "                         # even if the two ec2 instances are in the same SG.\n",
    "                         # These are private IPs, if you are wondering - hopefully this\n",
    "                         # does not go over the net...\n",
    "client = LakeFSClient(configuration)"
   ]
  },
  {
   "cell_type": "code",
   "execution_count": 76,
   "id": "54749b48-d329-4d8f-b81e-467dc416900a",
   "metadata": {},
   "outputs": [],
   "source": [
    "# This grabs the data.csv file out of the main branch of the countries repository in lakeFS \n",
    "file = client.objects.get_object('countries','main','data.csv')\n",
    "df = pd.read_csv(file)"
   ]
  },
  {
   "cell_type": "code",
   "execution_count": 77,
   "id": "fa29819c-b949-4e63-8696-b45bb397fc06",
   "metadata": {},
   "outputs": [],
   "source": [
    "features = df[[\"Longitude\", \"Latitude\"]].to_numpy()\n",
    "target = df[[\"CID\"]].to_numpy()"
   ]
  },
  {
   "cell_type": "code",
   "execution_count": 78,
   "id": "1f931f30-f4ce-432f-b912-336348178001",
   "metadata": {},
   "outputs": [],
   "source": [
    "X_train, X_test, y_train, y_test = train_test_split(features, target.ravel(), test_size=0.2, random_state=42)"
   ]
  },
  {
   "cell_type": "code",
   "execution_count": 79,
   "id": "505b2f73-ad82-45d4-baee-bd7f8d0b0465",
   "metadata": {},
   "outputs": [],
   "source": [
    "clf = make_pipeline(StandardScaler(), LinearSVC(dual=\"auto\", random_state=0, tol=1e-4))"
   ]
  },
  {
   "cell_type": "code",
   "execution_count": 80,
   "id": "f4cedb50-dad5-4c12-8de0-57ab11184df5",
   "metadata": {
    "scrolled": true
   },
   "outputs": [
    {
     "data": {
      "text/html": [
       "<style>#sk-container-id-5 {color: black;}#sk-container-id-5 pre{padding: 0;}#sk-container-id-5 div.sk-toggleable {background-color: white;}#sk-container-id-5 label.sk-toggleable__label {cursor: pointer;display: block;width: 100%;margin-bottom: 0;padding: 0.3em;box-sizing: border-box;text-align: center;}#sk-container-id-5 label.sk-toggleable__label-arrow:before {content: \"▸\";float: left;margin-right: 0.25em;color: #696969;}#sk-container-id-5 label.sk-toggleable__label-arrow:hover:before {color: black;}#sk-container-id-5 div.sk-estimator:hover label.sk-toggleable__label-arrow:before {color: black;}#sk-container-id-5 div.sk-toggleable__content {max-height: 0;max-width: 0;overflow: hidden;text-align: left;background-color: #f0f8ff;}#sk-container-id-5 div.sk-toggleable__content pre {margin: 0.2em;color: black;border-radius: 0.25em;background-color: #f0f8ff;}#sk-container-id-5 input.sk-toggleable__control:checked~div.sk-toggleable__content {max-height: 200px;max-width: 100%;overflow: auto;}#sk-container-id-5 input.sk-toggleable__control:checked~label.sk-toggleable__label-arrow:before {content: \"▾\";}#sk-container-id-5 div.sk-estimator input.sk-toggleable__control:checked~label.sk-toggleable__label {background-color: #d4ebff;}#sk-container-id-5 div.sk-label input.sk-toggleable__control:checked~label.sk-toggleable__label {background-color: #d4ebff;}#sk-container-id-5 input.sk-hidden--visually {border: 0;clip: rect(1px 1px 1px 1px);clip: rect(1px, 1px, 1px, 1px);height: 1px;margin: -1px;overflow: hidden;padding: 0;position: absolute;width: 1px;}#sk-container-id-5 div.sk-estimator {font-family: monospace;background-color: #f0f8ff;border: 1px dotted black;border-radius: 0.25em;box-sizing: border-box;margin-bottom: 0.5em;}#sk-container-id-5 div.sk-estimator:hover {background-color: #d4ebff;}#sk-container-id-5 div.sk-parallel-item::after {content: \"\";width: 100%;border-bottom: 1px solid gray;flex-grow: 1;}#sk-container-id-5 div.sk-label:hover label.sk-toggleable__label {background-color: #d4ebff;}#sk-container-id-5 div.sk-serial::before {content: \"\";position: absolute;border-left: 1px solid gray;box-sizing: border-box;top: 0;bottom: 0;left: 50%;z-index: 0;}#sk-container-id-5 div.sk-serial {display: flex;flex-direction: column;align-items: center;background-color: white;padding-right: 0.2em;padding-left: 0.2em;position: relative;}#sk-container-id-5 div.sk-item {position: relative;z-index: 1;}#sk-container-id-5 div.sk-parallel {display: flex;align-items: stretch;justify-content: center;background-color: white;position: relative;}#sk-container-id-5 div.sk-item::before, #sk-container-id-5 div.sk-parallel-item::before {content: \"\";position: absolute;border-left: 1px solid gray;box-sizing: border-box;top: 0;bottom: 0;left: 50%;z-index: -1;}#sk-container-id-5 div.sk-parallel-item {display: flex;flex-direction: column;z-index: 1;position: relative;background-color: white;}#sk-container-id-5 div.sk-parallel-item:first-child::after {align-self: flex-end;width: 50%;}#sk-container-id-5 div.sk-parallel-item:last-child::after {align-self: flex-start;width: 50%;}#sk-container-id-5 div.sk-parallel-item:only-child::after {width: 0;}#sk-container-id-5 div.sk-dashed-wrapped {border: 1px dashed gray;margin: 0 0.4em 0.5em 0.4em;box-sizing: border-box;padding-bottom: 0.4em;background-color: white;}#sk-container-id-5 div.sk-label label {font-family: monospace;font-weight: bold;display: inline-block;line-height: 1.2em;}#sk-container-id-5 div.sk-label-container {text-align: center;}#sk-container-id-5 div.sk-container {/* jupyter's `normalize.less` sets `[hidden] { display: none; }` but bootstrap.min.css set `[hidden] { display: none !important; }` so we also need the `!important` here to be able to override the default hidden behavior on the sphinx rendered scikit-learn.org. See: https://github.com/scikit-learn/scikit-learn/issues/21755 */display: inline-block !important;position: relative;}#sk-container-id-5 div.sk-text-repr-fallback {display: none;}</style><div id=\"sk-container-id-5\" class=\"sk-top-container\"><div class=\"sk-text-repr-fallback\"><pre>Pipeline(steps=[(&#x27;standardscaler&#x27;, StandardScaler()),\n",
       "                (&#x27;linearsvc&#x27;, LinearSVC(dual=&#x27;auto&#x27;, random_state=0))])</pre><b>In a Jupyter environment, please rerun this cell to show the HTML representation or trust the notebook. <br />On GitHub, the HTML representation is unable to render, please try loading this page with nbviewer.org.</b></div><div class=\"sk-container\" hidden><div class=\"sk-item sk-dashed-wrapped\"><div class=\"sk-label-container\"><div class=\"sk-label sk-toggleable\"><input class=\"sk-toggleable__control sk-hidden--visually\" id=\"sk-estimator-id-13\" type=\"checkbox\" ><label for=\"sk-estimator-id-13\" class=\"sk-toggleable__label sk-toggleable__label-arrow\">Pipeline</label><div class=\"sk-toggleable__content\"><pre>Pipeline(steps=[(&#x27;standardscaler&#x27;, StandardScaler()),\n",
       "                (&#x27;linearsvc&#x27;, LinearSVC(dual=&#x27;auto&#x27;, random_state=0))])</pre></div></div></div><div class=\"sk-serial\"><div class=\"sk-item\"><div class=\"sk-estimator sk-toggleable\"><input class=\"sk-toggleable__control sk-hidden--visually\" id=\"sk-estimator-id-14\" type=\"checkbox\" ><label for=\"sk-estimator-id-14\" class=\"sk-toggleable__label sk-toggleable__label-arrow\">StandardScaler</label><div class=\"sk-toggleable__content\"><pre>StandardScaler()</pre></div></div></div><div class=\"sk-item\"><div class=\"sk-estimator sk-toggleable\"><input class=\"sk-toggleable__control sk-hidden--visually\" id=\"sk-estimator-id-15\" type=\"checkbox\" ><label for=\"sk-estimator-id-15\" class=\"sk-toggleable__label sk-toggleable__label-arrow\">LinearSVC</label><div class=\"sk-toggleable__content\"><pre>LinearSVC(dual=&#x27;auto&#x27;, random_state=0)</pre></div></div></div></div></div></div></div>"
      ],
      "text/plain": [
       "Pipeline(steps=[('standardscaler', StandardScaler()),\n",
       "                ('linearsvc', LinearSVC(dual='auto', random_state=0))])"
      ]
     },
     "execution_count": 80,
     "metadata": {},
     "output_type": "execute_result"
    }
   ],
   "source": [
    "clf.fit(X_train, y_train)"
   ]
  },
  {
   "cell_type": "code",
   "execution_count": 81,
   "id": "49c02045-cc1f-48ab-a352-26839569dcef",
   "metadata": {},
   "outputs": [],
   "source": [
    "params = {\"pipeline\":True, \"scaler\": \"standard\", \"dual\": \"auto\", \"random_state\": 0, \"tol\":1e-4}"
   ]
  },
  {
   "cell_type": "code",
   "execution_count": 82,
   "id": "e46ca095-fa46-46ec-8289-feef2b75a184",
   "metadata": {},
   "outputs": [],
   "source": [
    "y_pred = clf.predict(X_test)"
   ]
  },
  {
   "cell_type": "code",
   "execution_count": 83,
   "id": "1d9213d0-5e03-48d5-8582-f8238c9bffc8",
   "metadata": {},
   "outputs": [
    {
     "data": {
      "text/plain": [
       "0.07256704980842912"
      ]
     },
     "execution_count": 83,
     "metadata": {},
     "output_type": "execute_result"
    }
   ],
   "source": [
    "accuracy = accuracy_score(y_test, y_pred)\n",
    "accuracy"
   ]
  },
  {
   "cell_type": "code",
   "execution_count": 84,
   "id": "0ec873b0-d695-4d08-8dca-e7bc6b884d88",
   "metadata": {},
   "outputs": [
    {
     "data": {
      "text/html": [
       "<div>\n",
       "<style scoped>\n",
       "    .dataframe tbody tr th:only-of-type {\n",
       "        vertical-align: middle;\n",
       "    }\n",
       "\n",
       "    .dataframe tbody tr th {\n",
       "        vertical-align: top;\n",
       "    }\n",
       "\n",
       "    .dataframe thead th {\n",
       "        text-align: right;\n",
       "    }\n",
       "</style>\n",
       "<table border=\"1\" class=\"dataframe\">\n",
       "  <thead>\n",
       "    <tr style=\"text-align: right;\">\n",
       "      <th></th>\n",
       "      <th>lon</th>\n",
       "      <th>lat</th>\n",
       "      <th>actual_class</th>\n",
       "      <th>predicted_class</th>\n",
       "    </tr>\n",
       "  </thead>\n",
       "  <tbody>\n",
       "    <tr>\n",
       "      <th>0</th>\n",
       "      <td>177.754059</td>\n",
       "      <td>-17.431265</td>\n",
       "      <td>77</td>\n",
       "      <td>234</td>\n",
       "    </tr>\n",
       "    <tr>\n",
       "      <th>1</th>\n",
       "      <td>159.882172</td>\n",
       "      <td>-9.700796</td>\n",
       "      <td>208</td>\n",
       "      <td>158</td>\n",
       "    </tr>\n",
       "    <tr>\n",
       "      <th>2</th>\n",
       "      <td>-78.123383</td>\n",
       "      <td>24.624023</td>\n",
       "      <td>17</td>\n",
       "      <td>252</td>\n",
       "    </tr>\n",
       "    <tr>\n",
       "      <th>3</th>\n",
       "      <td>27.555864</td>\n",
       "      <td>61.573971</td>\n",
       "      <td>78</td>\n",
       "      <td>78</td>\n",
       "    </tr>\n",
       "    <tr>\n",
       "      <th>4</th>\n",
       "      <td>126.664238</td>\n",
       "      <td>38.245316</td>\n",
       "      <td>165</td>\n",
       "      <td>114</td>\n",
       "    </tr>\n",
       "    <tr>\n",
       "      <th>5</th>\n",
       "      <td>-73.444840</td>\n",
       "      <td>-46.934589</td>\n",
       "      <td>47</td>\n",
       "      <td>252</td>\n",
       "    </tr>\n",
       "    <tr>\n",
       "      <th>6</th>\n",
       "      <td>-8.826954</td>\n",
       "      <td>7.314955</td>\n",
       "      <td>127</td>\n",
       "      <td>252</td>\n",
       "    </tr>\n",
       "    <tr>\n",
       "      <th>7</th>\n",
       "      <td>-62.989243</td>\n",
       "      <td>17.494589</td>\n",
       "      <td>189</td>\n",
       "      <td>252</td>\n",
       "    </tr>\n",
       "    <tr>\n",
       "      <th>8</th>\n",
       "      <td>69.982071</td>\n",
       "      <td>30.833944</td>\n",
       "      <td>170</td>\n",
       "      <td>252</td>\n",
       "    </tr>\n",
       "    <tr>\n",
       "      <th>9</th>\n",
       "      <td>-13.343016</td>\n",
       "      <td>10.354385</td>\n",
       "      <td>97</td>\n",
       "      <td>252</td>\n",
       "    </tr>\n",
       "  </tbody>\n",
       "</table>\n",
       "</div>"
      ],
      "text/plain": [
       "          lon        lat  actual_class  predicted_class\n",
       "0  177.754059 -17.431265            77              234\n",
       "1  159.882172  -9.700796           208              158\n",
       "2  -78.123383  24.624023            17              252\n",
       "3   27.555864  61.573971            78               78\n",
       "4  126.664238  38.245316           165              114\n",
       "5  -73.444840 -46.934589            47              252\n",
       "6   -8.826954   7.314955           127              252\n",
       "7  -62.989243  17.494589           189              252\n",
       "8   69.982071  30.833944           170              252\n",
       "9  -13.343016  10.354385            97              252"
      ]
     },
     "execution_count": 84,
     "metadata": {},
     "output_type": "execute_result"
    }
   ],
   "source": [
    "predictions = clf.predict(X_test)\n",
    "\n",
    "feature_names = ['lon', 'lat']\n",
    "\n",
    "# Convert X_test validation feature data to a Pandas DataFrame\n",
    "result = pd.DataFrame(X_test, columns=feature_names)\n",
    "\n",
    "# Add the actual classes to the DataFrame\n",
    "result[\"actual_class\"] = y_test\n",
    "\n",
    "# Add the model predictions to the DataFrame\n",
    "result[\"predicted_class\"] = predictions\n",
    "\n",
    "result[:10]"
   ]
  },
  {
   "cell_type": "markdown",
   "id": "16ba21ee-db68-48fa-a9e9-9fa779a8aff9",
   "metadata": {},
   "source": [
    "Messed with the LSVC params a bit. It's stuck around 0.07. Don't think this can be improved much, but I don't really know what I am doing. Let's see if we can override the predict method.\n",
    "https://mlflow.org/docs/latest/traditional-ml/creating-custom-pyfunc/notebooks/override-predict.html"
   ]
  },
  {
   "cell_type": "code",
   "execution_count": 130,
   "id": "1f188262-c968-4b1b-a95f-828cd11c150c",
   "metadata": {},
   "outputs": [],
   "source": [
    "from joblib import dump\n",
    "\n",
    "from mlflow.pyfunc import PythonModel\n",
    "from mlflow.models import infer_signature"
   ]
  },
  {
   "cell_type": "code",
   "execution_count": 131,
   "id": "61ce22d3-5482-4f82-86f0-d4df6adab18b",
   "metadata": {},
   "outputs": [
    {
     "data": {
      "text/plain": [
       "['/tmp/sklearn_model.joblib']"
      ]
     },
     "execution_count": 131,
     "metadata": {},
     "output_type": "execute_result"
    }
   ],
   "source": [
    "model_directory = \"/tmp/sklearn_model.joblib\"\n",
    "dump(clf, model_directory)"
   ]
  },
  {
   "cell_type": "code",
   "execution_count": 132,
   "id": "4dbfb193-d869-4498-bcad-28b9f7fba095",
   "metadata": {},
   "outputs": [],
   "source": [
    "# This grabs the data.csv file out of the main branch of the countries repository in lakeFS \n",
    "file = client.objects.get_object('countries','main','countries.csv')\n",
    "df = pd.read_csv(file)"
   ]
  },
  {
   "cell_type": "code",
   "execution_count": 133,
   "id": "395fa175-a4da-4478-8444-401816f303e5",
   "metadata": {},
   "outputs": [],
   "source": [
    "# Need a python dictionary representation for my method. Not very fancy, I know.\n",
    "countries_dict = df.set_index('CID').T.to_dict('records')[0] # Comes in a list, stripping that with [0]"
   ]
  },
  {
   "cell_type": "code",
   "execution_count": 134,
   "id": "c08953e0-6e72-4b81-953f-8ec694c137ae",
   "metadata": {},
   "outputs": [],
   "source": [
    "class ModelWrapper(PythonModel):\n",
    "    def __init__(self):\n",
    "        self.model = None\n",
    "\n",
    "    def load_context(self, context):\n",
    "        import sklearn\n",
    "        from joblib import load\n",
    "\n",
    "        self.model = load(context.artifacts[\"model_path\"])\n",
    "\n",
    "    # Return the country string, not the country id from the prediction method\n",
    "    def predict(self, context, model_input):\n",
    "        countries_dict = {\n",
    "             1: 'Afghanistan',\n",
    "             2: 'Albania',\n",
    "             3: 'Algeria',\n",
    "             4: 'American Samoa',\n",
    "             5: 'Andorra',\n",
    "             6: 'Angola',\n",
    "             7: 'Anguilla',\n",
    "             8: 'Antarctica',\n",
    "             9: 'Antigua and Barbuda',\n",
    "             10: 'Argentina',\n",
    "             11: 'Armenia',\n",
    "             12: 'Aruba',\n",
    "             13: 'Australia',\n",
    "             14: 'Austria',\n",
    "             15: 'Azerbaijan',\n",
    "             16: 'Azores',\n",
    "             17: 'Bahamas',\n",
    "             18: 'Bahrain',\n",
    "             19: 'Bangladesh',\n",
    "             20: 'Barbados',\n",
    "             21: 'Belarus',\n",
    "             22: 'Belgium',\n",
    "             23: 'Belize',\n",
    "             24: 'Benin',\n",
    "             25: 'Bermuda',\n",
    "             26: 'Bhutan',\n",
    "             27: 'Bolivia',\n",
    "             28: 'Bonaire',\n",
    "             29: 'Bosnia and Herzegovina',\n",
    "             30: 'Botswana',\n",
    "             31: 'Bouvet Island',\n",
    "             32: 'Brazil',\n",
    "             33: 'British Indian Ocean Territory',\n",
    "             34: 'British Virgin Islands',\n",
    "             35: 'Brunei Darussalam',\n",
    "             36: 'Bulgaria',\n",
    "             37: 'Burkina Faso',\n",
    "             38: 'Burundi',\n",
    "             39: 'Cabo Verde',\n",
    "             40: 'Cambodia',\n",
    "             41: 'Cameroon',\n",
    "             42: 'Canada',\n",
    "             43: 'Canarias',\n",
    "             44: 'Cayman Islands',\n",
    "             45: 'Central African Republic',\n",
    "             46: 'Chad',\n",
    "             47: 'Chile',\n",
    "             48: 'China',\n",
    "             49: 'Christmas Island',\n",
    "             50: 'Cocos Islands',\n",
    "             51: 'Colombia',\n",
    "             52: 'Comoros',\n",
    "             53: 'Congo',\n",
    "             54: 'Congo DRC',\n",
    "             55: 'Cook Islands',\n",
    "             56: 'Costa Rica',\n",
    "             57: \"Côte d'Ivoire\",\n",
    "             58: 'Croatia',\n",
    "             59: 'Cuba',\n",
    "             60: 'Curacao',\n",
    "             61: 'Cyprus',\n",
    "             62: 'Czech Republic',\n",
    "             63: 'Denmark',\n",
    "             64: 'Djibouti',\n",
    "             65: 'Dominica',\n",
    "             66: 'Dominican Republic',\n",
    "             67: 'Ecuador',\n",
    "             68: 'Egypt',\n",
    "             69: 'El Salvador',\n",
    "             70: 'Equatorial Guinea',\n",
    "             71: 'Eritrea',\n",
    "             72: 'Estonia',\n",
    "             73: 'Eswatini',\n",
    "             74: 'Ethiopia',\n",
    "             75: 'Falkland Islands',\n",
    "             76: 'Faroe Islands',\n",
    "             77: 'Fiji',\n",
    "             78: 'Finland',\n",
    "             79: 'France',\n",
    "             80: 'French Guiana',\n",
    "             81: 'French Polynesia',\n",
    "             82: 'French Southern Territories',\n",
    "             83: 'Gabon',\n",
    "             84: 'Gambia',\n",
    "             85: 'Georgia',\n",
    "             86: 'Germany',\n",
    "             87: 'Ghana',\n",
    "             88: 'Gibraltar',\n",
    "             89: 'Glorioso Islands',\n",
    "             90: 'Greece',\n",
    "             91: 'Greenland',\n",
    "             92: 'Grenada',\n",
    "             93: 'Guadeloupe',\n",
    "             94: 'Guam',\n",
    "             95: 'Guatemala',\n",
    "             96: 'Guernsey',\n",
    "             97: 'Guinea',\n",
    "             98: 'Guinea-Bissau',\n",
    "             99: 'Guyana',\n",
    "             100: 'Haiti',\n",
    "             101: 'Heard Island and McDonald Islands',\n",
    "             102: 'Honduras',\n",
    "             103: 'Hungary',\n",
    "             104: 'Iceland',\n",
    "             105: 'India',\n",
    "             106: 'Indonesia',\n",
    "             107: 'Iran',\n",
    "             108: 'Iraq',\n",
    "             109: 'Ireland',\n",
    "             110: 'Isle of Man',\n",
    "             111: 'Israel',\n",
    "             112: 'Italy',\n",
    "             113: 'Jamaica',\n",
    "             114: 'Japan',\n",
    "             115: 'Jersey',\n",
    "             116: 'Jordan',\n",
    "             117: 'Juan De Nova Island',\n",
    "             118: 'Kazakhstan',\n",
    "             119: 'Kenya',\n",
    "             120: 'Kiribati',\n",
    "             121: 'Kuwait',\n",
    "             122: 'Kyrgyzstan',\n",
    "             123: 'Laos',\n",
    "             124: 'Latvia',\n",
    "             125: 'Lebanon',\n",
    "             126: 'Lesotho',\n",
    "             127: 'Liberia',\n",
    "             128: 'Libya',\n",
    "             129: 'Liechtenstein',\n",
    "             130: 'Lithuania',\n",
    "             131: 'Luxembourg',\n",
    "             132: 'Madagascar',\n",
    "             133: 'Madeira',\n",
    "             134: 'Malawi',\n",
    "             135: 'Malaysia',\n",
    "             136: 'Maldives',\n",
    "             137: 'Mali',\n",
    "             138: 'Malta',\n",
    "             139: 'Marshall Islands',\n",
    "             140: 'Martinique',\n",
    "             141: 'Mauritania',\n",
    "             142: 'Mauritius',\n",
    "             143: 'Mayotte',\n",
    "             144: 'Mexico',\n",
    "             145: 'Micronesia',\n",
    "             146: 'Moldova',\n",
    "             147: 'Monaco',\n",
    "             148: 'Mongolia',\n",
    "             149: 'Montenegro',\n",
    "             150: 'Montserrat',\n",
    "             151: 'Morocco',\n",
    "             152: 'Mozambique',\n",
    "             153: 'Myanmar',\n",
    "             154: 'Namibia',\n",
    "             155: 'Nauru',\n",
    "             156: 'Nepal',\n",
    "             157: 'Netherlands',\n",
    "             158: 'New Caledonia',\n",
    "             159: 'New Zealand',\n",
    "             160: 'Nicaragua',\n",
    "             161: 'Niger',\n",
    "             162: 'Nigeria',\n",
    "             163: 'Niue',\n",
    "             164: 'Norfolk Island',\n",
    "             165: 'North Korea',\n",
    "             166: 'North Macedonia',\n",
    "             167: 'Northern Mariana Islands',\n",
    "             168: 'Norway',\n",
    "             169: 'Oman',\n",
    "             170: 'Pakistan',\n",
    "             171: 'Palau',\n",
    "             172: 'Palestinian Territory',\n",
    "             173: 'Panama',\n",
    "             174: 'Papua New Guinea',\n",
    "             175: 'Paraguay',\n",
    "             176: 'Peru',\n",
    "             177: 'Philippines',\n",
    "             178: 'Pitcairn',\n",
    "             179: 'Poland',\n",
    "             180: 'Portugal',\n",
    "             181: 'Puerto Rico',\n",
    "             182: 'Qatar',\n",
    "             183: 'Réunion',\n",
    "             184: 'Romania',\n",
    "             185: 'Russian Federation',\n",
    "             186: 'Rwanda',\n",
    "             187: 'Saba',\n",
    "             188: 'Saint Barthelemy',\n",
    "             189: 'Saint Eustatius',\n",
    "             190: 'Saint Helena',\n",
    "             191: 'Saint Kitts and Nevis',\n",
    "             192: 'Saint Lucia',\n",
    "             193: 'Saint Martin',\n",
    "             194: 'Saint Pierre and Miquelon',\n",
    "             195: 'Saint Vincent and the Grenadines',\n",
    "             196: 'Samoa',\n",
    "             197: 'San Marino',\n",
    "             198: 'Sao Tome and Principe',\n",
    "             199: 'Saudi Arabia',\n",
    "             200: 'Senegal',\n",
    "             201: 'Serbia',\n",
    "             202: 'Seychelles',\n",
    "             203: 'Sierra Leone',\n",
    "             204: 'Singapore',\n",
    "             205: 'Sint Maarten',\n",
    "             206: 'Slovakia',\n",
    "             207: 'Slovenia',\n",
    "             208: 'Solomon Islands',\n",
    "             209: 'Somalia',\n",
    "             210: 'South Africa',\n",
    "             211: 'South Georgia and South Sandwich Islands',\n",
    "             212: 'South Korea',\n",
    "             213: 'South Sudan',\n",
    "             214: 'Spain',\n",
    "             215: 'Sri Lanka',\n",
    "             216: 'Sudan',\n",
    "             217: 'Suriname',\n",
    "             218: 'Svalbard',\n",
    "             219: 'Sweden',\n",
    "             220: 'Switzerland',\n",
    "             221: 'Syria',\n",
    "             222: 'Tajikistan',\n",
    "             223: 'Tanzania',\n",
    "             224: 'Thailand',\n",
    "             225: 'Timor-Leste',\n",
    "             226: 'Togo',\n",
    "             227: 'Tokelau',\n",
    "             228: 'Tonga',\n",
    "             229: 'Trinidad and Tobago',\n",
    "             230: 'Tunisia',\n",
    "             231: 'Turkiye',\n",
    "             232: 'Turkmenistan',\n",
    "             233: 'Turks and Caicos Islands',\n",
    "             234: 'Tuvalu',\n",
    "             235: 'Uganda',\n",
    "             236: 'Ukraine',\n",
    "             237: 'United Arab Emirates',\n",
    "             238: 'United Kingdom',\n",
    "             239: 'United States',\n",
    "             240: 'United States Minor Outlying Islands',\n",
    "             241: 'Uruguay',\n",
    "             242: 'US Virgin Islands',\n",
    "             243: 'Uzbekistan',\n",
    "             244: 'Vanuatu',\n",
    "             245: 'Vatican City',\n",
    "             246: 'Venezuela',\n",
    "             247: 'Vietnam',\n",
    "             248: 'Wallis and Futuna',\n",
    "             249: 'Yemen',\n",
    "             250: 'Zambia',\n",
    "             251: 'Zimbabwe',\n",
    "             252: 'Ocean'\n",
    "        }\n",
    "        key = self.model.predict(model_input)\n",
    "        return countries_dict[key[0]] # So this is for one prediction at a time, not an array of them\n"
   ]
  },
  {
   "cell_type": "code",
   "execution_count": 135,
   "id": "a4c121a4-71b2-4a34-882d-33e54d6f3775",
   "metadata": {},
   "outputs": [],
   "source": [
    "# Define the required artifacts associated with the saved custom pyfunc\n",
    "artifacts = {\"model_path\": model_directory}\n",
    "\n",
    "# Define the signature associated with the model\n",
    "signature = infer_signature(X_train)\n"
   ]
  },
  {
   "cell_type": "code",
   "execution_count": 149,
   "id": "24d9c1e0-d1af-473c-9339-e1296725eeb5",
   "metadata": {},
   "outputs": [],
   "source": [
    "mlflow.set_tracking_uri(uri=\"http://127.0.0.1:8080\")"
   ]
  },
  {
   "cell_type": "code",
   "execution_count": 150,
   "id": "44e8536c-0a55-4de9-a767-1d0b6bfe6e9e",
   "metadata": {},
   "outputs": [
    {
     "name": "stderr",
     "output_type": "stream",
     "text": [
      "Successfully registered model 'tracking-name'.\n",
      "2023/12/03 19:42:03 INFO mlflow.store.model_registry.abstract_store: Waiting up to 300 seconds for model version to finish creation. Model name: tracking-name, version 1\n",
      "Created version '1' of model 'tracking-name'.\n"
     ]
    }
   ],
   "source": [
    "with mlflow.start_run() as run:\n",
    "    mlflow.pyfunc.log_model(\n",
    "        python_model=ModelWrapper(),\n",
    "        input_example=X_train,\n",
    "        signature=signature,\n",
    "        artifacts=artifacts,\n",
    "        pip_requirements=[\"joblib\", \"sklearn\"],\n",
    "        artifact_path=\"countries_name\",\n",
    "        registered_model_name=\"tracking-name\",\n",
    "    )\n"
   ]
  },
  {
   "cell_type": "code",
   "execution_count": 151,
   "id": "cda5c780-1617-4590-8ff1-09f02e9139c0",
   "metadata": {},
   "outputs": [],
   "source": [
    "mlflow.end_run()"
   ]
  },
  {
   "cell_type": "markdown",
   "id": "463478ff-e1aa-4f62-90bb-2a29767a5cf4",
   "metadata": {},
   "source": [
    "So this should output the name for a single inference at a time. No batch inferences please, my ghetto code cannot handle your big ass numpy arrays"
   ]
  }
 ],
 "metadata": {
  "kernelspec": {
   "display_name": "Python 3 (ipykernel)",
   "language": "python",
   "name": "python3"
  },
  "language_info": {
   "codemirror_mode": {
    "name": "ipython",
    "version": 3
   },
   "file_extension": ".py",
   "mimetype": "text/x-python",
   "name": "python",
   "nbconvert_exporter": "python",
   "pygments_lexer": "ipython3",
   "version": "3.10.12"
  }
 },
 "nbformat": 4,
 "nbformat_minor": 5
}
