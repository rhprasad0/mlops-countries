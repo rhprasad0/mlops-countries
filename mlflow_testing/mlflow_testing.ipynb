{
 "cells": [
  {
   "cell_type": "markdown",
   "id": "6036b4b5-f5de-44f3-92b1-b9f46270b93f",
   "metadata": {},
   "source": [
    "# Ryan plays around with MLFlow\n",
    "SageMaker has been dumped... or has it? Anyway let's get the data out of lakeFS."
   ]
  },
  {
   "cell_type": "code",
   "execution_count": 39,
   "id": "a85a283e-ea0c-4aa8-b794-a8754b9f1913",
   "metadata": {},
   "outputs": [],
   "source": [
    "import pandas as pd\n",
    "import lakefs_client\n",
    "from lakefs_client.model.commit_creation import CommitCreation\n",
    "import mlflow\n",
    "from lakefs_client.client import LakeFSClient\n",
    "from sklearn.linear_model import SGDClassifier\n",
    "from sklearn.preprocessing import StandardScaler\n",
    "from sklearn.pipeline import make_pipeline\n",
    "import pickle\n",
    "from io import BytesIO  \n",
    "import mlflow\n",
    "from mlflow.models import infer_signature\n",
    "from sklearn.model_selection import train_test_split\n",
    "from sklearn.metrics import accuracy_score, precision_score, recall_score, f1_score"
   ]
  },
  {
   "cell_type": "code",
   "execution_count": 2,
   "id": "629e3abe-8104-4131-9f70-6575ac008db9",
   "metadata": {},
   "outputs": [],
   "source": [
    "# lakeFS credentials and endpoint\n",
    "configuration = lakefs_client.Configuration()\n",
    "configuration.username = ''\n",
    "configuration.password = ''\n",
    "configuration.host = '' # yeah so you do need to make a hole in the security group\n",
    "                                                 # even if the two ec2 instances are in the same SG.\n",
    "                                                 # These are private IPs, if you are wondering - hopefully this\n",
    "                                                 # does not go over the net...\n",
    "client = LakeFSClient(configuration)"
   ]
  },
  {
   "cell_type": "code",
   "execution_count": 3,
   "id": "abd5475f-b860-434d-9bba-a2fd6477b3ac",
   "metadata": {},
   "outputs": [
    {
     "data": {
      "text/html": [
       "<div>\n",
       "<style scoped>\n",
       "    .dataframe tbody tr th:only-of-type {\n",
       "        vertical-align: middle;\n",
       "    }\n",
       "\n",
       "    .dataframe tbody tr th {\n",
       "        vertical-align: top;\n",
       "    }\n",
       "\n",
       "    .dataframe thead th {\n",
       "        text-align: right;\n",
       "    }\n",
       "</style>\n",
       "<table border=\"1\" class=\"dataframe\">\n",
       "  <thead>\n",
       "    <tr style=\"text-align: right;\">\n",
       "      <th></th>\n",
       "      <th>CID</th>\n",
       "      <th>Longitude</th>\n",
       "      <th>Latitude</th>\n",
       "    </tr>\n",
       "  </thead>\n",
       "  <tbody>\n",
       "    <tr>\n",
       "      <th>0</th>\n",
       "      <td>500</td>\n",
       "      <td>-30.044039</td>\n",
       "      <td>24.216976</td>\n",
       "    </tr>\n",
       "    <tr>\n",
       "      <th>1</th>\n",
       "      <td>500</td>\n",
       "      <td>150.388214</td>\n",
       "      <td>-21.728706</td>\n",
       "    </tr>\n",
       "    <tr>\n",
       "      <th>2</th>\n",
       "      <td>500</td>\n",
       "      <td>168.733444</td>\n",
       "      <td>56.352604</td>\n",
       "    </tr>\n",
       "    <tr>\n",
       "      <th>3</th>\n",
       "      <td>500</td>\n",
       "      <td>-34.896107</td>\n",
       "      <td>4.820187</td>\n",
       "    </tr>\n",
       "    <tr>\n",
       "      <th>4</th>\n",
       "      <td>500</td>\n",
       "      <td>3.984333</td>\n",
       "      <td>-26.328730</td>\n",
       "    </tr>\n",
       "    <tr>\n",
       "      <th>...</th>\n",
       "      <td>...</td>\n",
       "      <td>...</td>\n",
       "      <td>...</td>\n",
       "    </tr>\n",
       "    <tr>\n",
       "      <th>260994</th>\n",
       "      <td>91</td>\n",
       "      <td>-27.684013</td>\n",
       "      <td>83.460632</td>\n",
       "    </tr>\n",
       "    <tr>\n",
       "      <th>260995</th>\n",
       "      <td>91</td>\n",
       "      <td>-29.777115</td>\n",
       "      <td>83.461273</td>\n",
       "    </tr>\n",
       "    <tr>\n",
       "      <th>260996</th>\n",
       "      <td>91</td>\n",
       "      <td>-33.087837</td>\n",
       "      <td>83.464043</td>\n",
       "    </tr>\n",
       "    <tr>\n",
       "      <th>260997</th>\n",
       "      <td>91</td>\n",
       "      <td>-33.384373</td>\n",
       "      <td>83.475655</td>\n",
       "    </tr>\n",
       "    <tr>\n",
       "      <th>260998</th>\n",
       "      <td>91</td>\n",
       "      <td>-30.455610</td>\n",
       "      <td>83.547875</td>\n",
       "    </tr>\n",
       "  </tbody>\n",
       "</table>\n",
       "<p>260999 rows × 3 columns</p>\n",
       "</div>"
      ],
      "text/plain": [
       "        CID   Longitude   Latitude\n",
       "0       500  -30.044039  24.216976\n",
       "1       500  150.388214 -21.728706\n",
       "2       500  168.733444  56.352604\n",
       "3       500  -34.896107   4.820187\n",
       "4       500    3.984333 -26.328730\n",
       "...     ...         ...        ...\n",
       "260994   91  -27.684013  83.460632\n",
       "260995   91  -29.777115  83.461273\n",
       "260996   91  -33.087837  83.464043\n",
       "260997   91  -33.384373  83.475655\n",
       "260998   91  -30.455610  83.547875\n",
       "\n",
       "[260999 rows x 3 columns]"
      ]
     },
     "execution_count": 3,
     "metadata": {},
     "output_type": "execute_result"
    }
   ],
   "source": [
    "# This grabs the data.csv file out of the main branch of the countries repository in lakeFS \n",
    "file = client.objects.get_object('countries','main','data.csv')\n",
    "df = pd.read_csv(file)\n",
    "df"
   ]
  },
  {
   "cell_type": "code",
   "execution_count": 4,
   "id": "ac864b2a-c207-4df1-85ec-fe1056be57fc",
   "metadata": {},
   "outputs": [
    {
     "data": {
      "text/html": [
       "<div>\n",
       "<style scoped>\n",
       "    .dataframe tbody tr th:only-of-type {\n",
       "        vertical-align: middle;\n",
       "    }\n",
       "\n",
       "    .dataframe tbody tr th {\n",
       "        vertical-align: top;\n",
       "    }\n",
       "\n",
       "    .dataframe thead th {\n",
       "        text-align: right;\n",
       "    }\n",
       "</style>\n",
       "<table border=\"1\" class=\"dataframe\">\n",
       "  <thead>\n",
       "    <tr style=\"text-align: right;\">\n",
       "      <th></th>\n",
       "      <th>CID</th>\n",
       "      <th>Longitude</th>\n",
       "      <th>Latitude</th>\n",
       "    </tr>\n",
       "  </thead>\n",
       "  <tbody>\n",
       "    <tr>\n",
       "      <th>42062</th>\n",
       "      <td>190</td>\n",
       "      <td>-5.752711</td>\n",
       "      <td>-15.979079</td>\n",
       "    </tr>\n",
       "    <tr>\n",
       "      <th>115106</th>\n",
       "      <td>12</td>\n",
       "      <td>-69.920410</td>\n",
       "      <td>12.480947</td>\n",
       "    </tr>\n",
       "    <tr>\n",
       "      <th>159954</th>\n",
       "      <td>137</td>\n",
       "      <td>0.683665</td>\n",
       "      <td>21.115690</td>\n",
       "    </tr>\n",
       "    <tr>\n",
       "      <th>38165</th>\n",
       "      <td>81</td>\n",
       "      <td>-149.356155</td>\n",
       "      <td>-17.699827</td>\n",
       "    </tr>\n",
       "    <tr>\n",
       "      <th>179444</th>\n",
       "      <td>111</td>\n",
       "      <td>34.979435</td>\n",
       "      <td>30.486445</td>\n",
       "    </tr>\n",
       "    <tr>\n",
       "      <th>...</th>\n",
       "      <td>...</td>\n",
       "      <td>...</td>\n",
       "      <td>...</td>\n",
       "    </tr>\n",
       "    <tr>\n",
       "      <th>76476</th>\n",
       "      <td>204</td>\n",
       "      <td>103.758972</td>\n",
       "      <td>1.409751</td>\n",
       "    </tr>\n",
       "    <tr>\n",
       "      <th>7755</th>\n",
       "      <td>252</td>\n",
       "      <td>168.207245</td>\n",
       "      <td>83.513908</td>\n",
       "    </tr>\n",
       "    <tr>\n",
       "      <th>115911</th>\n",
       "      <td>12</td>\n",
       "      <td>-70.035515</td>\n",
       "      <td>12.568818</td>\n",
       "    </tr>\n",
       "    <tr>\n",
       "      <th>123794</th>\n",
       "      <td>192</td>\n",
       "      <td>-61.018837</td>\n",
       "      <td>13.857307</td>\n",
       "    </tr>\n",
       "    <tr>\n",
       "      <th>71530</th>\n",
       "      <td>155</td>\n",
       "      <td>166.939362</td>\n",
       "      <td>-0.511337</td>\n",
       "    </tr>\n",
       "  </tbody>\n",
       "</table>\n",
       "<p>260999 rows × 3 columns</p>\n",
       "</div>"
      ],
      "text/plain": [
       "        CID   Longitude   Latitude\n",
       "42062   190   -5.752711 -15.979079\n",
       "115106   12  -69.920410  12.480947\n",
       "159954  137    0.683665  21.115690\n",
       "38165    81 -149.356155 -17.699827\n",
       "179444  111   34.979435  30.486445\n",
       "...     ...         ...        ...\n",
       "76476   204  103.758972   1.409751\n",
       "7755    252  168.207245  83.513908\n",
       "115911   12  -70.035515  12.568818\n",
       "123794  192  -61.018837  13.857307\n",
       "71530   155  166.939362  -0.511337\n",
       "\n",
       "[260999 rows x 3 columns]"
      ]
     },
     "execution_count": 4,
     "metadata": {},
     "output_type": "execute_result"
    }
   ],
   "source": [
    "df = df.replace(500, 252)\n",
    "df = df.sample(frac=1)\n",
    "df"
   ]
  },
  {
   "cell_type": "code",
   "execution_count": 5,
   "id": "b6f53451-032e-448f-ae8e-beda1797f031",
   "metadata": {},
   "outputs": [],
   "source": [
    "features = df[[\"Longitude\", \"Latitude\"]].to_numpy()\n",
    "target = df[[\"CID\"]].to_numpy()"
   ]
  },
  {
   "cell_type": "code",
   "execution_count": 6,
   "id": "b674fb02-c553-489a-91b2-aac6d9c50a65",
   "metadata": {},
   "outputs": [],
   "source": [
    "clf = make_pipeline(StandardScaler(), SGDClassifier(max_iter=1000, tol=1e-3))"
   ]
  },
  {
   "cell_type": "code",
   "execution_count": 7,
   "id": "e0ea761b-af1c-4897-b1c2-b826d2b1462e",
   "metadata": {},
   "outputs": [
    {
     "data": {
      "text/html": [
       "<style>#sk-container-id-1 {color: black;}#sk-container-id-1 pre{padding: 0;}#sk-container-id-1 div.sk-toggleable {background-color: white;}#sk-container-id-1 label.sk-toggleable__label {cursor: pointer;display: block;width: 100%;margin-bottom: 0;padding: 0.3em;box-sizing: border-box;text-align: center;}#sk-container-id-1 label.sk-toggleable__label-arrow:before {content: \"▸\";float: left;margin-right: 0.25em;color: #696969;}#sk-container-id-1 label.sk-toggleable__label-arrow:hover:before {color: black;}#sk-container-id-1 div.sk-estimator:hover label.sk-toggleable__label-arrow:before {color: black;}#sk-container-id-1 div.sk-toggleable__content {max-height: 0;max-width: 0;overflow: hidden;text-align: left;background-color: #f0f8ff;}#sk-container-id-1 div.sk-toggleable__content pre {margin: 0.2em;color: black;border-radius: 0.25em;background-color: #f0f8ff;}#sk-container-id-1 input.sk-toggleable__control:checked~div.sk-toggleable__content {max-height: 200px;max-width: 100%;overflow: auto;}#sk-container-id-1 input.sk-toggleable__control:checked~label.sk-toggleable__label-arrow:before {content: \"▾\";}#sk-container-id-1 div.sk-estimator input.sk-toggleable__control:checked~label.sk-toggleable__label {background-color: #d4ebff;}#sk-container-id-1 div.sk-label input.sk-toggleable__control:checked~label.sk-toggleable__label {background-color: #d4ebff;}#sk-container-id-1 input.sk-hidden--visually {border: 0;clip: rect(1px 1px 1px 1px);clip: rect(1px, 1px, 1px, 1px);height: 1px;margin: -1px;overflow: hidden;padding: 0;position: absolute;width: 1px;}#sk-container-id-1 div.sk-estimator {font-family: monospace;background-color: #f0f8ff;border: 1px dotted black;border-radius: 0.25em;box-sizing: border-box;margin-bottom: 0.5em;}#sk-container-id-1 div.sk-estimator:hover {background-color: #d4ebff;}#sk-container-id-1 div.sk-parallel-item::after {content: \"\";width: 100%;border-bottom: 1px solid gray;flex-grow: 1;}#sk-container-id-1 div.sk-label:hover label.sk-toggleable__label {background-color: #d4ebff;}#sk-container-id-1 div.sk-serial::before {content: \"\";position: absolute;border-left: 1px solid gray;box-sizing: border-box;top: 0;bottom: 0;left: 50%;z-index: 0;}#sk-container-id-1 div.sk-serial {display: flex;flex-direction: column;align-items: center;background-color: white;padding-right: 0.2em;padding-left: 0.2em;position: relative;}#sk-container-id-1 div.sk-item {position: relative;z-index: 1;}#sk-container-id-1 div.sk-parallel {display: flex;align-items: stretch;justify-content: center;background-color: white;position: relative;}#sk-container-id-1 div.sk-item::before, #sk-container-id-1 div.sk-parallel-item::before {content: \"\";position: absolute;border-left: 1px solid gray;box-sizing: border-box;top: 0;bottom: 0;left: 50%;z-index: -1;}#sk-container-id-1 div.sk-parallel-item {display: flex;flex-direction: column;z-index: 1;position: relative;background-color: white;}#sk-container-id-1 div.sk-parallel-item:first-child::after {align-self: flex-end;width: 50%;}#sk-container-id-1 div.sk-parallel-item:last-child::after {align-self: flex-start;width: 50%;}#sk-container-id-1 div.sk-parallel-item:only-child::after {width: 0;}#sk-container-id-1 div.sk-dashed-wrapped {border: 1px dashed gray;margin: 0 0.4em 0.5em 0.4em;box-sizing: border-box;padding-bottom: 0.4em;background-color: white;}#sk-container-id-1 div.sk-label label {font-family: monospace;font-weight: bold;display: inline-block;line-height: 1.2em;}#sk-container-id-1 div.sk-label-container {text-align: center;}#sk-container-id-1 div.sk-container {/* jupyter's `normalize.less` sets `[hidden] { display: none; }` but bootstrap.min.css set `[hidden] { display: none !important; }` so we also need the `!important` here to be able to override the default hidden behavior on the sphinx rendered scikit-learn.org. See: https://github.com/scikit-learn/scikit-learn/issues/21755 */display: inline-block !important;position: relative;}#sk-container-id-1 div.sk-text-repr-fallback {display: none;}</style><div id=\"sk-container-id-1\" class=\"sk-top-container\"><div class=\"sk-text-repr-fallback\"><pre>Pipeline(steps=[(&#x27;standardscaler&#x27;, StandardScaler()),\n",
       "                (&#x27;sgdclassifier&#x27;, SGDClassifier())])</pre><b>In a Jupyter environment, please rerun this cell to show the HTML representation or trust the notebook. <br />On GitHub, the HTML representation is unable to render, please try loading this page with nbviewer.org.</b></div><div class=\"sk-container\" hidden><div class=\"sk-item sk-dashed-wrapped\"><div class=\"sk-label-container\"><div class=\"sk-label sk-toggleable\"><input class=\"sk-toggleable__control sk-hidden--visually\" id=\"sk-estimator-id-1\" type=\"checkbox\" ><label for=\"sk-estimator-id-1\" class=\"sk-toggleable__label sk-toggleable__label-arrow\">Pipeline</label><div class=\"sk-toggleable__content\"><pre>Pipeline(steps=[(&#x27;standardscaler&#x27;, StandardScaler()),\n",
       "                (&#x27;sgdclassifier&#x27;, SGDClassifier())])</pre></div></div></div><div class=\"sk-serial\"><div class=\"sk-item\"><div class=\"sk-estimator sk-toggleable\"><input class=\"sk-toggleable__control sk-hidden--visually\" id=\"sk-estimator-id-2\" type=\"checkbox\" ><label for=\"sk-estimator-id-2\" class=\"sk-toggleable__label sk-toggleable__label-arrow\">StandardScaler</label><div class=\"sk-toggleable__content\"><pre>StandardScaler()</pre></div></div></div><div class=\"sk-item\"><div class=\"sk-estimator sk-toggleable\"><input class=\"sk-toggleable__control sk-hidden--visually\" id=\"sk-estimator-id-3\" type=\"checkbox\" ><label for=\"sk-estimator-id-3\" class=\"sk-toggleable__label sk-toggleable__label-arrow\">SGDClassifier</label><div class=\"sk-toggleable__content\"><pre>SGDClassifier()</pre></div></div></div></div></div></div></div>"
      ],
      "text/plain": [
       "Pipeline(steps=[('standardscaler', StandardScaler()),\n",
       "                ('sgdclassifier', SGDClassifier())])"
      ]
     },
     "execution_count": 7,
     "metadata": {},
     "output_type": "execute_result"
    }
   ],
   "source": [
    "clf.fit(features, target.ravel())"
   ]
  },
  {
   "cell_type": "code",
   "execution_count": 8,
   "id": "bf855842-e8c3-4e9f-9c36-0f72723c5137",
   "metadata": {},
   "outputs": [
    {
     "name": "stdout",
     "output_type": "stream",
     "text": [
      "[65]\n"
     ]
    }
   ],
   "source": [
    "print(clf.predict([[-98, 36]]))"
   ]
  },
  {
   "cell_type": "markdown",
   "id": "ea0252e0-381c-4689-9cf2-058f73eef23a",
   "metadata": {},
   "source": [
    "Hmm interesting. What is 65 anyway?"
   ]
  },
  {
   "cell_type": "code",
   "execution_count": 12,
   "id": "5d399772-e16a-49cf-8aa6-98890ac2d3b0",
   "metadata": {},
   "outputs": [
    {
     "data": {
      "text/html": [
       "<div>\n",
       "<style scoped>\n",
       "    .dataframe tbody tr th:only-of-type {\n",
       "        vertical-align: middle;\n",
       "    }\n",
       "\n",
       "    .dataframe tbody tr th {\n",
       "        vertical-align: top;\n",
       "    }\n",
       "\n",
       "    .dataframe thead th {\n",
       "        text-align: right;\n",
       "    }\n",
       "</style>\n",
       "<table border=\"1\" class=\"dataframe\">\n",
       "  <thead>\n",
       "    <tr style=\"text-align: right;\">\n",
       "      <th></th>\n",
       "      <th>CID</th>\n",
       "      <th>COUNTRY</th>\n",
       "    </tr>\n",
       "  </thead>\n",
       "  <tbody>\n",
       "    <tr>\n",
       "      <th>64</th>\n",
       "      <td>65</td>\n",
       "      <td>Dominica</td>\n",
       "    </tr>\n",
       "  </tbody>\n",
       "</table>\n",
       "</div>"
      ],
      "text/plain": [
       "    CID   COUNTRY\n",
       "64   65  Dominica"
      ]
     },
     "execution_count": 12,
     "metadata": {},
     "output_type": "execute_result"
    }
   ],
   "source": [
    "# This grabs the countries.csv file out of the main branch of the countries repository in lakeFS \n",
    "file = client.objects.get_object('countries','main','countries.csv')\n",
    "countries = pd.read_csv(file)\n",
    "countries.loc[countries['CID'] == 65]"
   ]
  },
  {
   "cell_type": "markdown",
   "id": "1f152c89-d51a-4c2f-9d3e-c49ea8e8965f",
   "metadata": {},
   "source": [
    "Hahaha. That is smack dab in the middle of the USA. This is going to be great.\n",
    "\n",
    "I am going to update the countries csv with the new key for ocean, and then commit these changes for both the data and the keys to lakeFS."
   ]
  },
  {
   "cell_type": "code",
   "execution_count": 15,
   "id": "dba9a8e6-a17a-4e32-b553-b5a06351e2dc",
   "metadata": {},
   "outputs": [
    {
     "data": {
      "text/plain": [
       "{'checksum': 'c755cb02819e1689e308d355e3dfb29e',\n",
       " 'content_type': 'application/octet-stream',\n",
       " 'mtime': 1701541555,\n",
       " 'path': 'data.csv',\n",
       " 'path_type': 'object',\n",
       " 'physical_address': 's3://ryans-lakefs-test/countries/data/gjhoojif4ngu7qoas2mg/cllndcif4ngu7qoas2n0',\n",
       " 'size_bytes': 6754629}"
      ]
     },
     "execution_count": 15,
     "metadata": {},
     "output_type": "execute_result"
    }
   ],
   "source": [
    "# switching from the main branch to the working branch\n",
    "client.objects.upload_object('countries','working','data.csv', \n",
    "                             content=BytesIO(df.to_csv(index=False).encode('utf-8')))"
   ]
  },
  {
   "cell_type": "code",
   "execution_count": 16,
   "id": "f7e524c6-9dbc-43db-a202-fdf371ae5e8d",
   "metadata": {},
   "outputs": [
    {
     "data": {
      "text/plain": [
       "{'checksum': '9d8ac4c86f669711a1fd35633d5c6f97',\n",
       " 'content_type': 'application/octet-stream',\n",
       " 'mtime': 1701541572,\n",
       " 'path': 'countries.csv',\n",
       " 'path_type': 'object',\n",
       " 'physical_address': 's3://ryans-lakefs-test/countries/data/gjhoojif4ngu7qoas2mg/cllndh2f4ngu7qoas2ng',\n",
       " 'size_bytes': 3609}"
      ]
     },
     "execution_count": 16,
     "metadata": {},
     "output_type": "execute_result"
    }
   ],
   "source": [
    "client.objects.upload_object('countries','working','countries.csv', \n",
    "                             content=BytesIO(countries.to_csv(index=False).encode('utf-8')))"
   ]
  },
  {
   "cell_type": "code",
   "execution_count": 20,
   "id": "3eab3579-74e5-4ad6-ab75-96b95d069119",
   "metadata": {},
   "outputs": [
    {
     "data": {
      "text/plain": [
       "{'committer': 'test-user',\n",
       " 'creation_date': 1701542034,\n",
       " 'id': 'de845f0d13f88f38636bd12cfb72cb46c6ab0ebbea356bccd4c8281bbefdc3d8',\n",
       " 'message': 'Updated data.csv and countries.csv',\n",
       " 'meta_range_id': '',\n",
       " 'metadata': {},\n",
       " 'parents': ['200a6679e879047bdd2225ac91a951ab39bd74356dc8471233f5d4ab99573a46']}"
      ]
     },
     "execution_count": 20,
     "metadata": {},
     "output_type": "execute_result"
    }
   ],
   "source": [
    "client.commits_api.commit('countries', 'working', \n",
    "                         CommitCreation(message='Updated data.csv and countries.csv')\n",
    "                         )"
   ]
  },
  {
   "cell_type": "code",
   "execution_count": 21,
   "id": "c17e9bb0-da4f-48b4-8e6e-39e66d5212c0",
   "metadata": {},
   "outputs": [
    {
     "data": {
      "text/plain": [
       "{'pagination': {'has_more': False,\n",
       "                'max_per_page': 1000,\n",
       "                'next_offset': '',\n",
       "                'results': 1},\n",
       " 'results': [{'path': 'data.csv',\n",
       "              'path_type': 'object',\n",
       "              'size_bytes': 6754629,\n",
       "              'type': 'changed'}]}"
      ]
     },
     "execution_count": 21,
     "metadata": {},
     "output_type": "execute_result"
    }
   ],
   "source": [
    "client.refs_api.diff_refs(repository='countries', left_ref='main', right_ref='working')"
   ]
  },
  {
   "cell_type": "code",
   "execution_count": 22,
   "id": "9a1c0f77-4d1c-49c3-9e9a-468cb814f72f",
   "metadata": {},
   "outputs": [
    {
     "data": {
      "text/html": [
       "<div>\n",
       "<style scoped>\n",
       "    .dataframe tbody tr th:only-of-type {\n",
       "        vertical-align: middle;\n",
       "    }\n",
       "\n",
       "    .dataframe tbody tr th {\n",
       "        vertical-align: top;\n",
       "    }\n",
       "\n",
       "    .dataframe thead th {\n",
       "        text-align: right;\n",
       "    }\n",
       "</style>\n",
       "<table border=\"1\" class=\"dataframe\">\n",
       "  <thead>\n",
       "    <tr style=\"text-align: right;\">\n",
       "      <th></th>\n",
       "      <th>CID</th>\n",
       "      <th>COUNTRY</th>\n",
       "    </tr>\n",
       "  </thead>\n",
       "  <tbody>\n",
       "    <tr>\n",
       "      <th>0</th>\n",
       "      <td>1</td>\n",
       "      <td>Afghanistan</td>\n",
       "    </tr>\n",
       "    <tr>\n",
       "      <th>1</th>\n",
       "      <td>2</td>\n",
       "      <td>Albania</td>\n",
       "    </tr>\n",
       "    <tr>\n",
       "      <th>2</th>\n",
       "      <td>3</td>\n",
       "      <td>Algeria</td>\n",
       "    </tr>\n",
       "    <tr>\n",
       "      <th>3</th>\n",
       "      <td>4</td>\n",
       "      <td>American Samoa</td>\n",
       "    </tr>\n",
       "    <tr>\n",
       "      <th>4</th>\n",
       "      <td>5</td>\n",
       "      <td>Andorra</td>\n",
       "    </tr>\n",
       "    <tr>\n",
       "      <th>...</th>\n",
       "      <td>...</td>\n",
       "      <td>...</td>\n",
       "    </tr>\n",
       "    <tr>\n",
       "      <th>247</th>\n",
       "      <td>248</td>\n",
       "      <td>Wallis and Futuna</td>\n",
       "    </tr>\n",
       "    <tr>\n",
       "      <th>248</th>\n",
       "      <td>249</td>\n",
       "      <td>Yemen</td>\n",
       "    </tr>\n",
       "    <tr>\n",
       "      <th>249</th>\n",
       "      <td>250</td>\n",
       "      <td>Zambia</td>\n",
       "    </tr>\n",
       "    <tr>\n",
       "      <th>250</th>\n",
       "      <td>251</td>\n",
       "      <td>Zimbabwe</td>\n",
       "    </tr>\n",
       "    <tr>\n",
       "      <th>251</th>\n",
       "      <td>252</td>\n",
       "      <td>Ocean</td>\n",
       "    </tr>\n",
       "  </tbody>\n",
       "</table>\n",
       "<p>252 rows × 2 columns</p>\n",
       "</div>"
      ],
      "text/plain": [
       "     CID            COUNTRY\n",
       "0      1        Afghanistan\n",
       "1      2            Albania\n",
       "2      3            Algeria\n",
       "3      4     American Samoa\n",
       "4      5            Andorra\n",
       "..   ...                ...\n",
       "247  248  Wallis and Futuna\n",
       "248  249              Yemen\n",
       "249  250             Zambia\n",
       "250  251           Zimbabwe\n",
       "251  252              Ocean\n",
       "\n",
       "[252 rows x 2 columns]"
      ]
     },
     "execution_count": 22,
     "metadata": {},
     "output_type": "execute_result"
    }
   ],
   "source": [
    "countries = countries.replace(500, 252)\n",
    "countries"
   ]
  },
  {
   "cell_type": "code",
   "execution_count": 24,
   "id": "b698d8a4-428a-4f09-a4f3-8df348978d38",
   "metadata": {},
   "outputs": [
    {
     "data": {
      "text/plain": [
       "{'checksum': 'd4efb1160fd95e2ddf3019e066d11a39',\n",
       " 'content_type': 'application/octet-stream',\n",
       " 'mtime': 1701542610,\n",
       " 'path': 'countries.csv',\n",
       " 'path_type': 'object',\n",
       " 'physical_address': 's3://ryans-lakefs-test/countries/data/gjhoojif4ngu7qoas2mg/cllnlkif4ngu7qoas2qg',\n",
       " 'size_bytes': 3609}"
      ]
     },
     "execution_count": 24,
     "metadata": {},
     "output_type": "execute_result"
    }
   ],
   "source": [
    "client.objects.upload_object('countries','working','countries.csv', \n",
    "                             content=BytesIO(countries.to_csv(index=False).encode('utf-8')))"
   ]
  },
  {
   "cell_type": "markdown",
   "id": "48354bc5-596b-4f04-81f3-e3308c2bf0ea",
   "metadata": {},
   "source": [
    "Oookay. Time time mess around with MLFlow. This model is absolutely terrible, and I am loving it.\n",
    "\n",
    "Okay let's do things their way. I think real men don't test and just deploy, but whatever. https://mlflow.org/docs/latest/getting-started/intro-quickstart/notebooks/tracking_quickstart.html"
   ]
  },
  {
   "cell_type": "code",
   "execution_count": 33,
   "id": "3dd9763e-5ebd-4f2b-ab48-4330f9eff7a2",
   "metadata": {},
   "outputs": [],
   "source": [
    "X_train, X_test, y_train, y_test = train_test_split(features, target.ravel(), test_size=0.2, random_state=42)"
   ]
  },
  {
   "cell_type": "code",
   "execution_count": 36,
   "id": "081d80f9-ff2f-4a78-b556-d0a46b0a2684",
   "metadata": {},
   "outputs": [],
   "source": [
    "params = {} # no hyperparameters for this guy"
   ]
  },
  {
   "cell_type": "code",
   "execution_count": 37,
   "id": "a7eae930-e8c0-48ab-913f-517b2c254075",
   "metadata": {},
   "outputs": [],
   "source": [
    "y_pred = clf.predict(X_test)"
   ]
  },
  {
   "cell_type": "code",
   "execution_count": 42,
   "id": "0f921d7e-fc01-46b3-9a6f-2e9ba9396707",
   "metadata": {},
   "outputs": [
    {
     "data": {
      "text/plain": [
       "0.03885057471264368"
      ]
     },
     "execution_count": 42,
     "metadata": {},
     "output_type": "execute_result"
    }
   ],
   "source": [
    "accuracy = accuracy_score(y_test, y_pred)\n",
    "\n",
    "accuracy"
   ]
  },
  {
   "cell_type": "markdown",
   "id": "193918d4-7531-4488-aa21-7146461e518b",
   "metadata": {},
   "source": [
    "Absolutely awful. Love it!!!"
   ]
  },
  {
   "cell_type": "code",
   "execution_count": 43,
   "id": "64a49953-0e98-466e-b6e3-4ef88f7b5a98",
   "metadata": {},
   "outputs": [
    {
     "name": "stderr",
     "output_type": "stream",
     "text": [
      "Successfully registered model 'tracking-countries'.\n",
      "2023/12/02 19:37:35 INFO mlflow.store.model_registry.abstract_store: Waiting up to 300 seconds for model version to finish creation. Model name: tracking-countries, version 1\n",
      "Created version '1' of model 'tracking-countries'.\n"
     ]
    }
   ],
   "source": [
    "# Set our tracking server uri for logging\n",
    "mlflow.set_tracking_uri(uri=\"http://172.31.92.133:8080\")\n",
    "\n",
    "# Create a new MLflow Experiment\n",
    "mlflow.set_experiment(\"MLflow Countries\")\n",
    "\n",
    "# Start an MLflow run\n",
    "with mlflow.start_run():\n",
    "    # Log the hyperparameters\n",
    "    mlflow.log_params(params)\n",
    "\n",
    "    # Log the loss metric\n",
    "    mlflow.log_metric(\"accuracy\", accuracy)\n",
    "\n",
    "    # Set a tag that we can use to remind ourselves what this run was for\n",
    "    mlflow.set_tag(\"Training Info\", \"Predict countries\")\n",
    "\n",
    "    # Infer the model signature\n",
    "    signature = infer_signature(X_train, clf.predict(X_train))\n",
    "\n",
    "    # Log the model\n",
    "    model_info = mlflow.sklearn.log_model(\n",
    "        sk_model=clf,\n",
    "        artifact_path=\"countries_model\",\n",
    "        signature=signature,\n",
    "        input_example=features,\n",
    "        registered_model_name=\"tracking-countries\",\n",
    "    )"
   ]
  },
  {
   "cell_type": "markdown",
   "id": "11694e63-d167-41a2-a515-a108307ef9ed",
   "metadata": {},
   "source": [
    "Well... that went smoother than I thought. Not that I really care, but let's have a closer look."
   ]
  },
  {
   "cell_type": "code",
   "execution_count": 44,
   "id": "0a3a125d-0c2c-4c72-ba86-0c28f5d171b4",
   "metadata": {},
   "outputs": [],
   "source": [
    "loaded_model = mlflow.pyfunc.load_model(model_info.model_uri)"
   ]
  },
  {
   "cell_type": "code",
   "execution_count": 46,
   "id": "f9f9a4bd-26e4-4d02-ba23-0baa9e6b67e4",
   "metadata": {},
   "outputs": [
    {
     "data": {
      "text/html": [
       "<div>\n",
       "<style scoped>\n",
       "    .dataframe tbody tr th:only-of-type {\n",
       "        vertical-align: middle;\n",
       "    }\n",
       "\n",
       "    .dataframe tbody tr th {\n",
       "        vertical-align: top;\n",
       "    }\n",
       "\n",
       "    .dataframe thead th {\n",
       "        text-align: right;\n",
       "    }\n",
       "</style>\n",
       "<table border=\"1\" class=\"dataframe\">\n",
       "  <thead>\n",
       "    <tr style=\"text-align: right;\">\n",
       "      <th></th>\n",
       "      <th>lon</th>\n",
       "      <th>lat</th>\n",
       "      <th>actual_class</th>\n",
       "      <th>predicted_class</th>\n",
       "    </tr>\n",
       "  </thead>\n",
       "  <tbody>\n",
       "    <tr>\n",
       "      <th>0</th>\n",
       "      <td>177.754059</td>\n",
       "      <td>-17.431265</td>\n",
       "      <td>77</td>\n",
       "      <td>77</td>\n",
       "    </tr>\n",
       "    <tr>\n",
       "      <th>1</th>\n",
       "      <td>159.882172</td>\n",
       "      <td>-9.700796</td>\n",
       "      <td>208</td>\n",
       "      <td>191</td>\n",
       "    </tr>\n",
       "    <tr>\n",
       "      <th>2</th>\n",
       "      <td>-78.123383</td>\n",
       "      <td>24.624023</td>\n",
       "      <td>17</td>\n",
       "      <td>65</td>\n",
       "    </tr>\n",
       "    <tr>\n",
       "      <th>3</th>\n",
       "      <td>27.555864</td>\n",
       "      <td>61.573971</td>\n",
       "      <td>78</td>\n",
       "      <td>124</td>\n",
       "    </tr>\n",
       "    <tr>\n",
       "      <th>4</th>\n",
       "      <td>126.664238</td>\n",
       "      <td>38.245316</td>\n",
       "      <td>165</td>\n",
       "      <td>124</td>\n",
       "    </tr>\n",
       "    <tr>\n",
       "      <th>5</th>\n",
       "      <td>-73.444840</td>\n",
       "      <td>-46.934589</td>\n",
       "      <td>47</td>\n",
       "      <td>75</td>\n",
       "    </tr>\n",
       "    <tr>\n",
       "      <th>6</th>\n",
       "      <td>-8.826954</td>\n",
       "      <td>7.314955</td>\n",
       "      <td>127</td>\n",
       "      <td>41</td>\n",
       "    </tr>\n",
       "    <tr>\n",
       "      <th>7</th>\n",
       "      <td>-62.989243</td>\n",
       "      <td>17.494589</td>\n",
       "      <td>189</td>\n",
       "      <td>65</td>\n",
       "    </tr>\n",
       "    <tr>\n",
       "      <th>8</th>\n",
       "      <td>69.982071</td>\n",
       "      <td>30.833944</td>\n",
       "      <td>170</td>\n",
       "      <td>124</td>\n",
       "    </tr>\n",
       "    <tr>\n",
       "      <th>9</th>\n",
       "      <td>-13.343016</td>\n",
       "      <td>10.354385</td>\n",
       "      <td>97</td>\n",
       "      <td>41</td>\n",
       "    </tr>\n",
       "  </tbody>\n",
       "</table>\n",
       "</div>"
      ],
      "text/plain": [
       "          lon        lat  actual_class  predicted_class\n",
       "0  177.754059 -17.431265            77               77\n",
       "1  159.882172  -9.700796           208              191\n",
       "2  -78.123383  24.624023            17               65\n",
       "3   27.555864  61.573971            78              124\n",
       "4  126.664238  38.245316           165              124\n",
       "5  -73.444840 -46.934589            47               75\n",
       "6   -8.826954   7.314955           127               41\n",
       "7  -62.989243  17.494589           189               65\n",
       "8   69.982071  30.833944           170              124\n",
       "9  -13.343016  10.354385            97               41"
      ]
     },
     "execution_count": 46,
     "metadata": {},
     "output_type": "execute_result"
    }
   ],
   "source": [
    "predictions = loaded_model.predict(X_test)\n",
    "\n",
    "feature_names = ['lon', 'lat']\n",
    "\n",
    "# Convert X_test validation feature data to a Pandas DataFrame\n",
    "result = pd.DataFrame(X_test, columns=feature_names)\n",
    "\n",
    "# Add the actual classes to the DataFrame\n",
    "result[\"actual_class\"] = y_test\n",
    "\n",
    "# Add the model predictions to the DataFrame\n",
    "result[\"predicted_class\"] = predictions\n",
    "\n",
    "result[:10]"
   ]
  },
  {
   "cell_type": "markdown",
   "id": "c57a1026-def1-43e6-97f0-7170ea840302",
   "metadata": {},
   "source": [
    "Well this thing needs to be right at least some of the time for it to be fun... this just looks like complete garbage but we'll deploy it anyway then start tweaking. "
   ]
  }
 ],
 "metadata": {
  "kernelspec": {
   "display_name": "Python 3 (ipykernel)",
   "language": "python",
   "name": "python3"
  },
  "language_info": {
   "codemirror_mode": {
    "name": "ipython",
    "version": 3
   },
   "file_extension": ".py",
   "mimetype": "text/x-python",
   "name": "python",
   "nbconvert_exporter": "python",
   "pygments_lexer": "ipython3",
   "version": "3.10.12"
  }
 },
 "nbformat": 4,
 "nbformat_minor": 5
}
