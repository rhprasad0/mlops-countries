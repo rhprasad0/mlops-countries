{
 "cells": [
  {
   "cell_type": "code",
   "execution_count": null,
   "id": "9b92bbc9-260f-4e44-9dd9-4bb2c9e9c362",
   "metadata": {},
   "outputs": [],
   "source": [
    "from mlflow.deployments import get_deploy_client\n",
    "\n",
    "}\n",
    "config = dict(\n",
    "    execution_role_arn=\"\",\n",
    "    bucket_name=\"my-s3-bucket\",\n",
    "    image_url=\"\",\n",
    "    region_name=\"us-east-1\",\n",
    "    archive=False,\n",
    "    instance_count=1,\n",
    "    synchronous=True,\n",
    "    timeout_seconds=300,\n",
    "    variant_name=\"prod-variant-1\",\n",
    "    env={\"DISABLE_NGINX\": \"true\", \"GUNICORN_CMD_ARGS\": '\"--timeout 60\"'},\n",
    "    tags={\"training_timestamp\": \"2023-12-07T05:12:26\"},\n",
    "    serverless_config = {\n",
    "        \"MemorySizeInMB\": 1024,\n",
    "        \"MaxConcurrency\": 1,\n",
    "    },\n",
    ")\n",
    "client = get_deploy_client(\"sagemaker\")\n",
    "client.create_deployment(\n",
    "    \"my-deployment\",\n",
    "    model_uri=\"\",\n",
    "    flavor=\"python_function\",\n",
    "    config=config,\n",
    ")\n"
   ]
  },
  {
   "cell_type": "code",
   "execution_count": null,
   "id": "cdef29be-764c-4e45-9dec-56693f4c0752",
   "metadata": {},
   "outputs": [],
   "source": []
  }
 ],
 "metadata": {
  "kernelspec": {
   "display_name": "Python 3 (ipykernel)",
   "language": "python",
   "name": "python3"
  },
  "language_info": {
   "codemirror_mode": {
    "name": "ipython",
    "version": 3
   },
   "file_extension": ".py",
   "mimetype": "text/x-python",
   "name": "python",
   "nbconvert_exporter": "python",
   "pygments_lexer": "ipython3",
   "version": "3.10.12"
  }
 },
 "nbformat": 4,
 "nbformat_minor": 5
}
