{
 "cells": [
  {
   "cell_type": "markdown",
   "id": "c7efd43f-ffd4-4252-81bd-42e050f1332e",
   "metadata": {},
   "source": [
    "# Let's play around with nearest neighbor and deploy it\n",
    "MLflow tracking is now sitting pretty up in the cloud, connected to Postgres and S3 for artifact storage. My last serverless deployment did not work due to no conda. Hopefully it works this time."
   ]
  },
  {
   "cell_type": "code",
   "execution_count": 65,
   "id": "1070e780-7092-4020-b82d-caf422ab3e1a",
   "metadata": {},
   "outputs": [],
   "source": [
    "import pandas as pd\n",
    "import numpy as np\n",
    "from sklearn.pipeline import make_pipeline\n",
    "from sklearn.preprocessing import StandardScaler\n",
    "from sklearn.preprocessing import MinMaxScaler\n",
    "from sklearn.neighbors import KNeighborsClassifier\n",
    "from sklearn.model_selection import train_test_split\n",
    "from sklearn.metrics import accuracy_score, precision_score, recall_score, f1_score\n",
    "import mlflow\n",
    "from sklearn.naive_bayes import CategoricalNB\n",
    "from sklearn.naive_bayes import GaussianNB\n",
    "from joblib import dump\n",
    "from mlflow.pyfunc import PythonModel\n",
    "from mlflow.models import infer_signature"
   ]
  },
  {
   "cell_type": "code",
   "execution_count": 2,
   "id": "0d529273-db57-4633-89c2-02a90f320880",
   "metadata": {},
   "outputs": [],
   "source": [
    "df = pd.read_parquet('/home/ryan/mlops-countries/data/data.parquet')"
   ]
  },
  {
   "cell_type": "code",
   "execution_count": 3,
   "id": "9fbecda5-f3eb-404e-8d52-7c90ed36e39a",
   "metadata": {},
   "outputs": [
    {
     "data": {
      "text/html": [
       "<div>\n",
       "<style scoped>\n",
       "    .dataframe tbody tr th:only-of-type {\n",
       "        vertical-align: middle;\n",
       "    }\n",
       "\n",
       "    .dataframe tbody tr th {\n",
       "        vertical-align: top;\n",
       "    }\n",
       "\n",
       "    .dataframe thead th {\n",
       "        text-align: right;\n",
       "    }\n",
       "</style>\n",
       "<table border=\"1\" class=\"dataframe\">\n",
       "  <thead>\n",
       "    <tr style=\"text-align: right;\">\n",
       "      <th></th>\n",
       "      <th>OBJECTID</th>\n",
       "      <th>CID</th>\n",
       "      <th>Longitude</th>\n",
       "      <th>Latitude</th>\n",
       "      <th>Elev</th>\n",
       "    </tr>\n",
       "  </thead>\n",
       "  <tbody>\n",
       "    <tr>\n",
       "      <th>0</th>\n",
       "      <td>1</td>\n",
       "      <td>252</td>\n",
       "      <td>-174.051758</td>\n",
       "      <td>-76.946091</td>\n",
       "      <td>0</td>\n",
       "    </tr>\n",
       "    <tr>\n",
       "      <th>1</th>\n",
       "      <td>2</td>\n",
       "      <td>252</td>\n",
       "      <td>-166.497513</td>\n",
       "      <td>-74.885017</td>\n",
       "      <td>0</td>\n",
       "    </tr>\n",
       "    <tr>\n",
       "      <th>2</th>\n",
       "      <td>3</td>\n",
       "      <td>252</td>\n",
       "      <td>-170.586243</td>\n",
       "      <td>-76.785477</td>\n",
       "      <td>0</td>\n",
       "    </tr>\n",
       "    <tr>\n",
       "      <th>3</th>\n",
       "      <td>4</td>\n",
       "      <td>252</td>\n",
       "      <td>-176.382172</td>\n",
       "      <td>-76.520096</td>\n",
       "      <td>0</td>\n",
       "    </tr>\n",
       "    <tr>\n",
       "      <th>4</th>\n",
       "      <td>5</td>\n",
       "      <td>252</td>\n",
       "      <td>-166.488525</td>\n",
       "      <td>-72.629555</td>\n",
       "      <td>0</td>\n",
       "    </tr>\n",
       "    <tr>\n",
       "      <th>...</th>\n",
       "      <td>...</td>\n",
       "      <td>...</td>\n",
       "      <td>...</td>\n",
       "      <td>...</td>\n",
       "      <td>...</td>\n",
       "    </tr>\n",
       "    <tr>\n",
       "      <th>260994</th>\n",
       "      <td>260995</td>\n",
       "      <td>252</td>\n",
       "      <td>172.614502</td>\n",
       "      <td>87.737358</td>\n",
       "      <td>0</td>\n",
       "    </tr>\n",
       "    <tr>\n",
       "      <th>260995</th>\n",
       "      <td>260996</td>\n",
       "      <td>252</td>\n",
       "      <td>177.343994</td>\n",
       "      <td>81.780121</td>\n",
       "      <td>0</td>\n",
       "    </tr>\n",
       "    <tr>\n",
       "      <th>260996</th>\n",
       "      <td>260997</td>\n",
       "      <td>252</td>\n",
       "      <td>173.388092</td>\n",
       "      <td>78.165291</td>\n",
       "      <td>0</td>\n",
       "    </tr>\n",
       "    <tr>\n",
       "      <th>260997</th>\n",
       "      <td>260998</td>\n",
       "      <td>252</td>\n",
       "      <td>169.568558</td>\n",
       "      <td>89.440628</td>\n",
       "      <td>0</td>\n",
       "    </tr>\n",
       "    <tr>\n",
       "      <th>260998</th>\n",
       "      <td>260999</td>\n",
       "      <td>252</td>\n",
       "      <td>178.489349</td>\n",
       "      <td>83.992798</td>\n",
       "      <td>0</td>\n",
       "    </tr>\n",
       "  </tbody>\n",
       "</table>\n",
       "<p>260999 rows × 5 columns</p>\n",
       "</div>"
      ],
      "text/plain": [
       "        OBJECTID  CID   Longitude   Latitude  Elev\n",
       "0              1  252 -174.051758 -76.946091     0\n",
       "1              2  252 -166.497513 -74.885017     0\n",
       "2              3  252 -170.586243 -76.785477     0\n",
       "3              4  252 -176.382172 -76.520096     0\n",
       "4              5  252 -166.488525 -72.629555     0\n",
       "...          ...  ...         ...        ...   ...\n",
       "260994    260995  252  172.614502  87.737358     0\n",
       "260995    260996  252  177.343994  81.780121     0\n",
       "260996    260997  252  173.388092  78.165291     0\n",
       "260997    260998  252  169.568558  89.440628     0\n",
       "260998    260999  252  178.489349  83.992798     0\n",
       "\n",
       "[260999 rows x 5 columns]"
      ]
     },
     "execution_count": 3,
     "metadata": {},
     "output_type": "execute_result"
    }
   ],
   "source": [
    "df"
   ]
  },
  {
   "cell_type": "code",
   "execution_count": 4,
   "id": "e3a9febf-32c0-4ab3-a108-49f198746835",
   "metadata": {},
   "outputs": [],
   "source": [
    "df = df.sample(frac=1) # shuffle the data"
   ]
  },
  {
   "cell_type": "code",
   "execution_count": 5,
   "id": "6f22e78c-8098-4371-9ac8-44e762d21d94",
   "metadata": {},
   "outputs": [
    {
     "data": {
      "text/html": [
       "<div>\n",
       "<style scoped>\n",
       "    .dataframe tbody tr th:only-of-type {\n",
       "        vertical-align: middle;\n",
       "    }\n",
       "\n",
       "    .dataframe tbody tr th {\n",
       "        vertical-align: top;\n",
       "    }\n",
       "\n",
       "    .dataframe thead th {\n",
       "        text-align: right;\n",
       "    }\n",
       "</style>\n",
       "<table border=\"1\" class=\"dataframe\">\n",
       "  <thead>\n",
       "    <tr style=\"text-align: right;\">\n",
       "      <th></th>\n",
       "      <th>OBJECTID</th>\n",
       "      <th>CID</th>\n",
       "      <th>Longitude</th>\n",
       "      <th>Latitude</th>\n",
       "      <th>Elev</th>\n",
       "    </tr>\n",
       "  </thead>\n",
       "  <tbody>\n",
       "    <tr>\n",
       "      <th>18181</th>\n",
       "      <td>18182</td>\n",
       "      <td>10</td>\n",
       "      <td>-62.647358</td>\n",
       "      <td>-29.964741</td>\n",
       "      <td>76</td>\n",
       "    </tr>\n",
       "    <tr>\n",
       "      <th>206702</th>\n",
       "      <td>206703</td>\n",
       "      <td>96</td>\n",
       "      <td>-2.537722</td>\n",
       "      <td>49.472713</td>\n",
       "      <td>1</td>\n",
       "    </tr>\n",
       "    <tr>\n",
       "      <th>11799</th>\n",
       "      <td>11800</td>\n",
       "      <td>252</td>\n",
       "      <td>-169.961044</td>\n",
       "      <td>-16.951956</td>\n",
       "      <td>0</td>\n",
       "    </tr>\n",
       "    <tr>\n",
       "      <th>155601</th>\n",
       "      <td>155602</td>\n",
       "      <td>145</td>\n",
       "      <td>158.153061</td>\n",
       "      <td>6.895745</td>\n",
       "      <td>18</td>\n",
       "    </tr>\n",
       "    <tr>\n",
       "      <th>249520</th>\n",
       "      <td>249521</td>\n",
       "      <td>114</td>\n",
       "      <td>144.167709</td>\n",
       "      <td>43.637287</td>\n",
       "      <td>323</td>\n",
       "    </tr>\n",
       "    <tr>\n",
       "      <th>...</th>\n",
       "      <td>...</td>\n",
       "      <td>...</td>\n",
       "      <td>...</td>\n",
       "      <td>...</td>\n",
       "      <td>...</td>\n",
       "    </tr>\n",
       "    <tr>\n",
       "      <th>21617</th>\n",
       "      <td>21618</td>\n",
       "      <td>190</td>\n",
       "      <td>-5.697285</td>\n",
       "      <td>-15.914624</td>\n",
       "      <td>161</td>\n",
       "    </tr>\n",
       "    <tr>\n",
       "      <th>98494</th>\n",
       "      <td>98495</td>\n",
       "      <td>195</td>\n",
       "      <td>-61.202251</td>\n",
       "      <td>13.195112</td>\n",
       "      <td>558</td>\n",
       "    </tr>\n",
       "    <tr>\n",
       "      <th>130707</th>\n",
       "      <td>130708</td>\n",
       "      <td>45</td>\n",
       "      <td>19.150009</td>\n",
       "      <td>5.998329</td>\n",
       "      <td>517</td>\n",
       "    </tr>\n",
       "    <tr>\n",
       "      <th>103066</th>\n",
       "      <td>103067</td>\n",
       "      <td>93</td>\n",
       "      <td>-61.670029</td>\n",
       "      <td>16.189217</td>\n",
       "      <td>181</td>\n",
       "    </tr>\n",
       "    <tr>\n",
       "      <th>213934</th>\n",
       "      <td>213935</td>\n",
       "      <td>2</td>\n",
       "      <td>19.726595</td>\n",
       "      <td>42.557056</td>\n",
       "      <td>1249</td>\n",
       "    </tr>\n",
       "  </tbody>\n",
       "</table>\n",
       "<p>260999 rows × 5 columns</p>\n",
       "</div>"
      ],
      "text/plain": [
       "        OBJECTID  CID   Longitude   Latitude  Elev\n",
       "18181      18182   10  -62.647358 -29.964741    76\n",
       "206702    206703   96   -2.537722  49.472713     1\n",
       "11799      11800  252 -169.961044 -16.951956     0\n",
       "155601    155602  145  158.153061   6.895745    18\n",
       "249520    249521  114  144.167709  43.637287   323\n",
       "...          ...  ...         ...        ...   ...\n",
       "21617      21618  190   -5.697285 -15.914624   161\n",
       "98494      98495  195  -61.202251  13.195112   558\n",
       "130707    130708   45   19.150009   5.998329   517\n",
       "103066    103067   93  -61.670029  16.189217   181\n",
       "213934    213935    2   19.726595  42.557056  1249\n",
       "\n",
       "[260999 rows x 5 columns]"
      ]
     },
     "execution_count": 5,
     "metadata": {},
     "output_type": "execute_result"
    }
   ],
   "source": [
    "df"
   ]
  },
  {
   "cell_type": "code",
   "execution_count": 6,
   "id": "98b97bfd-5b5b-486b-83b0-6a0c52760611",
   "metadata": {},
   "outputs": [],
   "source": [
    "features = df[[\"Longitude\", \"Latitude\", \"Elev\"]].to_numpy()\n",
    "target = df[[\"CID\"]].to_numpy()"
   ]
  },
  {
   "cell_type": "code",
   "execution_count": 7,
   "id": "a29cfc44-599c-441f-8479-ac98063b2222",
   "metadata": {},
   "outputs": [],
   "source": [
    "X_train, X_test, y_train, y_test = train_test_split(features, target.ravel(), test_size=0.2, random_state=42)"
   ]
  },
  {
   "cell_type": "code",
   "execution_count": 8,
   "id": "3c1ab8c2-4a84-423c-b0ae-2d060e2d399e",
   "metadata": {},
   "outputs": [],
   "source": [
    "clf = make_pipeline(StandardScaler(), KNeighborsClassifier(n_neighbors=11))"
   ]
  },
  {
   "cell_type": "code",
   "execution_count": 9,
   "id": "2e54fc5f-5407-4ce3-9289-853dfa432791",
   "metadata": {},
   "outputs": [
    {
     "data": {
      "text/html": [
       "<style>#sk-container-id-1 {color: black;}#sk-container-id-1 pre{padding: 0;}#sk-container-id-1 div.sk-toggleable {background-color: white;}#sk-container-id-1 label.sk-toggleable__label {cursor: pointer;display: block;width: 100%;margin-bottom: 0;padding: 0.3em;box-sizing: border-box;text-align: center;}#sk-container-id-1 label.sk-toggleable__label-arrow:before {content: \"▸\";float: left;margin-right: 0.25em;color: #696969;}#sk-container-id-1 label.sk-toggleable__label-arrow:hover:before {color: black;}#sk-container-id-1 div.sk-estimator:hover label.sk-toggleable__label-arrow:before {color: black;}#sk-container-id-1 div.sk-toggleable__content {max-height: 0;max-width: 0;overflow: hidden;text-align: left;background-color: #f0f8ff;}#sk-container-id-1 div.sk-toggleable__content pre {margin: 0.2em;color: black;border-radius: 0.25em;background-color: #f0f8ff;}#sk-container-id-1 input.sk-toggleable__control:checked~div.sk-toggleable__content {max-height: 200px;max-width: 100%;overflow: auto;}#sk-container-id-1 input.sk-toggleable__control:checked~label.sk-toggleable__label-arrow:before {content: \"▾\";}#sk-container-id-1 div.sk-estimator input.sk-toggleable__control:checked~label.sk-toggleable__label {background-color: #d4ebff;}#sk-container-id-1 div.sk-label input.sk-toggleable__control:checked~label.sk-toggleable__label {background-color: #d4ebff;}#sk-container-id-1 input.sk-hidden--visually {border: 0;clip: rect(1px 1px 1px 1px);clip: rect(1px, 1px, 1px, 1px);height: 1px;margin: -1px;overflow: hidden;padding: 0;position: absolute;width: 1px;}#sk-container-id-1 div.sk-estimator {font-family: monospace;background-color: #f0f8ff;border: 1px dotted black;border-radius: 0.25em;box-sizing: border-box;margin-bottom: 0.5em;}#sk-container-id-1 div.sk-estimator:hover {background-color: #d4ebff;}#sk-container-id-1 div.sk-parallel-item::after {content: \"\";width: 100%;border-bottom: 1px solid gray;flex-grow: 1;}#sk-container-id-1 div.sk-label:hover label.sk-toggleable__label {background-color: #d4ebff;}#sk-container-id-1 div.sk-serial::before {content: \"\";position: absolute;border-left: 1px solid gray;box-sizing: border-box;top: 0;bottom: 0;left: 50%;z-index: 0;}#sk-container-id-1 div.sk-serial {display: flex;flex-direction: column;align-items: center;background-color: white;padding-right: 0.2em;padding-left: 0.2em;position: relative;}#sk-container-id-1 div.sk-item {position: relative;z-index: 1;}#sk-container-id-1 div.sk-parallel {display: flex;align-items: stretch;justify-content: center;background-color: white;position: relative;}#sk-container-id-1 div.sk-item::before, #sk-container-id-1 div.sk-parallel-item::before {content: \"\";position: absolute;border-left: 1px solid gray;box-sizing: border-box;top: 0;bottom: 0;left: 50%;z-index: -1;}#sk-container-id-1 div.sk-parallel-item {display: flex;flex-direction: column;z-index: 1;position: relative;background-color: white;}#sk-container-id-1 div.sk-parallel-item:first-child::after {align-self: flex-end;width: 50%;}#sk-container-id-1 div.sk-parallel-item:last-child::after {align-self: flex-start;width: 50%;}#sk-container-id-1 div.sk-parallel-item:only-child::after {width: 0;}#sk-container-id-1 div.sk-dashed-wrapped {border: 1px dashed gray;margin: 0 0.4em 0.5em 0.4em;box-sizing: border-box;padding-bottom: 0.4em;background-color: white;}#sk-container-id-1 div.sk-label label {font-family: monospace;font-weight: bold;display: inline-block;line-height: 1.2em;}#sk-container-id-1 div.sk-label-container {text-align: center;}#sk-container-id-1 div.sk-container {/* jupyter's `normalize.less` sets `[hidden] { display: none; }` but bootstrap.min.css set `[hidden] { display: none !important; }` so we also need the `!important` here to be able to override the default hidden behavior on the sphinx rendered scikit-learn.org. See: https://github.com/scikit-learn/scikit-learn/issues/21755 */display: inline-block !important;position: relative;}#sk-container-id-1 div.sk-text-repr-fallback {display: none;}</style><div id=\"sk-container-id-1\" class=\"sk-top-container\"><div class=\"sk-text-repr-fallback\"><pre>Pipeline(steps=[(&#x27;standardscaler&#x27;, StandardScaler()),\n",
       "                (&#x27;kneighborsclassifier&#x27;, KNeighborsClassifier(n_neighbors=11))])</pre><b>In a Jupyter environment, please rerun this cell to show the HTML representation or trust the notebook. <br />On GitHub, the HTML representation is unable to render, please try loading this page with nbviewer.org.</b></div><div class=\"sk-container\" hidden><div class=\"sk-item sk-dashed-wrapped\"><div class=\"sk-label-container\"><div class=\"sk-label sk-toggleable\"><input class=\"sk-toggleable__control sk-hidden--visually\" id=\"sk-estimator-id-1\" type=\"checkbox\" ><label for=\"sk-estimator-id-1\" class=\"sk-toggleable__label sk-toggleable__label-arrow\">Pipeline</label><div class=\"sk-toggleable__content\"><pre>Pipeline(steps=[(&#x27;standardscaler&#x27;, StandardScaler()),\n",
       "                (&#x27;kneighborsclassifier&#x27;, KNeighborsClassifier(n_neighbors=11))])</pre></div></div></div><div class=\"sk-serial\"><div class=\"sk-item\"><div class=\"sk-estimator sk-toggleable\"><input class=\"sk-toggleable__control sk-hidden--visually\" id=\"sk-estimator-id-2\" type=\"checkbox\" ><label for=\"sk-estimator-id-2\" class=\"sk-toggleable__label sk-toggleable__label-arrow\">StandardScaler</label><div class=\"sk-toggleable__content\"><pre>StandardScaler()</pre></div></div></div><div class=\"sk-item\"><div class=\"sk-estimator sk-toggleable\"><input class=\"sk-toggleable__control sk-hidden--visually\" id=\"sk-estimator-id-3\" type=\"checkbox\" ><label for=\"sk-estimator-id-3\" class=\"sk-toggleable__label sk-toggleable__label-arrow\">KNeighborsClassifier</label><div class=\"sk-toggleable__content\"><pre>KNeighborsClassifier(n_neighbors=11)</pre></div></div></div></div></div></div></div>"
      ],
      "text/plain": [
       "Pipeline(steps=[('standardscaler', StandardScaler()),\n",
       "                ('kneighborsclassifier', KNeighborsClassifier(n_neighbors=11))])"
      ]
     },
     "execution_count": 9,
     "metadata": {},
     "output_type": "execute_result"
    }
   ],
   "source": [
    "clf.fit(X_train, y_train)"
   ]
  },
  {
   "cell_type": "code",
   "execution_count": 10,
   "id": "cd5591d1-bb36-4b1c-851c-2e539eb00fce",
   "metadata": {},
   "outputs": [],
   "source": [
    "y_pred = clf.predict(X_test)"
   ]
  },
  {
   "cell_type": "code",
   "execution_count": 13,
   "id": "250981c9-98ea-46fe-b5d8-7fa9c061cb43",
   "metadata": {},
   "outputs": [
    {
     "data": {
      "text/plain": [
       "0.9228738333445369"
      ]
     },
     "execution_count": 13,
     "metadata": {},
     "output_type": "execute_result"
    }
   ],
   "source": [
    "f1 = f1_score(y_test, y_pred, average='macro')\n",
    "f1"
   ]
  },
  {
   "cell_type": "markdown",
   "id": "b2c240f3-172b-4690-9dce-a8f8831fdb28",
   "metadata": {},
   "source": [
    "Oh my... that is much, much better than LSVC..."
   ]
  },
  {
   "cell_type": "code",
   "execution_count": 14,
   "id": "c417e417-8afd-4ea3-8134-a91202900c29",
   "metadata": {},
   "outputs": [
    {
     "data": {
      "text/html": [
       "<div>\n",
       "<style scoped>\n",
       "    .dataframe tbody tr th:only-of-type {\n",
       "        vertical-align: middle;\n",
       "    }\n",
       "\n",
       "    .dataframe tbody tr th {\n",
       "        vertical-align: top;\n",
       "    }\n",
       "\n",
       "    .dataframe thead th {\n",
       "        text-align: right;\n",
       "    }\n",
       "</style>\n",
       "<table border=\"1\" class=\"dataframe\">\n",
       "  <thead>\n",
       "    <tr style=\"text-align: right;\">\n",
       "      <th></th>\n",
       "      <th>lon</th>\n",
       "      <th>lat</th>\n",
       "      <th>elev</th>\n",
       "      <th>actual_class</th>\n",
       "      <th>predicted_class</th>\n",
       "    </tr>\n",
       "  </thead>\n",
       "  <tbody>\n",
       "    <tr>\n",
       "      <th>0</th>\n",
       "      <td>95.778572</td>\n",
       "      <td>-27.574751</td>\n",
       "      <td>0.0</td>\n",
       "      <td>252</td>\n",
       "      <td>252</td>\n",
       "    </tr>\n",
       "    <tr>\n",
       "      <th>1</th>\n",
       "      <td>73.837952</td>\n",
       "      <td>38.089542</td>\n",
       "      <td>3947.0</td>\n",
       "      <td>222</td>\n",
       "      <td>222</td>\n",
       "    </tr>\n",
       "    <tr>\n",
       "      <th>2</th>\n",
       "      <td>-91.832222</td>\n",
       "      <td>14.493006</td>\n",
       "      <td>76.0</td>\n",
       "      <td>95</td>\n",
       "      <td>95</td>\n",
       "    </tr>\n",
       "    <tr>\n",
       "      <th>3</th>\n",
       "      <td>-3.954260</td>\n",
       "      <td>8.924938</td>\n",
       "      <td>245.0</td>\n",
       "      <td>57</td>\n",
       "      <td>57</td>\n",
       "    </tr>\n",
       "    <tr>\n",
       "      <th>4</th>\n",
       "      <td>50.563255</td>\n",
       "      <td>26.122250</td>\n",
       "      <td>41.0</td>\n",
       "      <td>18</td>\n",
       "      <td>18</td>\n",
       "    </tr>\n",
       "    <tr>\n",
       "      <th>5</th>\n",
       "      <td>-77.554466</td>\n",
       "      <td>23.758369</td>\n",
       "      <td>4.0</td>\n",
       "      <td>17</td>\n",
       "      <td>17</td>\n",
       "    </tr>\n",
       "    <tr>\n",
       "      <th>6</th>\n",
       "      <td>15.044183</td>\n",
       "      <td>48.311150</td>\n",
       "      <td>658.0</td>\n",
       "      <td>14</td>\n",
       "      <td>14</td>\n",
       "    </tr>\n",
       "    <tr>\n",
       "      <th>7</th>\n",
       "      <td>-16.542316</td>\n",
       "      <td>13.232882</td>\n",
       "      <td>24.0</td>\n",
       "      <td>84</td>\n",
       "      <td>84</td>\n",
       "    </tr>\n",
       "    <tr>\n",
       "      <th>8</th>\n",
       "      <td>-36.376877</td>\n",
       "      <td>-54.541100</td>\n",
       "      <td>303.0</td>\n",
       "      <td>211</td>\n",
       "      <td>211</td>\n",
       "    </tr>\n",
       "    <tr>\n",
       "      <th>9</th>\n",
       "      <td>-64.713821</td>\n",
       "      <td>32.334091</td>\n",
       "      <td>4.0</td>\n",
       "      <td>25</td>\n",
       "      <td>25</td>\n",
       "    </tr>\n",
       "  </tbody>\n",
       "</table>\n",
       "</div>"
      ],
      "text/plain": [
       "         lon        lat    elev  actual_class  predicted_class\n",
       "0  95.778572 -27.574751     0.0           252              252\n",
       "1  73.837952  38.089542  3947.0           222              222\n",
       "2 -91.832222  14.493006    76.0            95               95\n",
       "3  -3.954260   8.924938   245.0            57               57\n",
       "4  50.563255  26.122250    41.0            18               18\n",
       "5 -77.554466  23.758369     4.0            17               17\n",
       "6  15.044183  48.311150   658.0            14               14\n",
       "7 -16.542316  13.232882    24.0            84               84\n",
       "8 -36.376877 -54.541100   303.0           211              211\n",
       "9 -64.713821  32.334091     4.0            25               25"
      ]
     },
     "execution_count": 14,
     "metadata": {},
     "output_type": "execute_result"
    }
   ],
   "source": [
    "predictions = clf.predict(X_test)\n",
    "\n",
    "feature_names = ['lon', 'lat', 'elev']\n",
    "\n",
    "# Convert X_test validation feature data to a Pandas DataFrame\n",
    "result = pd.DataFrame(X_test, columns=feature_names)\n",
    "\n",
    "# Add the actual classes to the DataFrame\n",
    "result[\"actual_class\"] = y_test\n",
    "\n",
    "# Add the model predictions to the DataFrame\n",
    "result[\"predicted_class\"] = predictions\n",
    "\n",
    "result[:10]"
   ]
  },
  {
   "cell_type": "markdown",
   "id": "8791bb26-68af-494a-8922-0567876d13d8",
   "metadata": {},
   "source": [
    "I don't know... this model is not going to be very fun to interact with...\n",
    "\n",
    "How about Naive Bayes?"
   ]
  },
  {
   "cell_type": "code",
   "execution_count": 55,
   "id": "98ce75f3-1ca0-4527-84b5-3c65b08e9dc8",
   "metadata": {},
   "outputs": [],
   "source": [
    "clf = GaussianNB()"
   ]
  },
  {
   "cell_type": "code",
   "execution_count": 56,
   "id": "508e422a-de20-401d-bb4d-bd274c12b01d",
   "metadata": {},
   "outputs": [
    {
     "data": {
      "text/html": [
       "<style>#sk-container-id-9 {color: black;}#sk-container-id-9 pre{padding: 0;}#sk-container-id-9 div.sk-toggleable {background-color: white;}#sk-container-id-9 label.sk-toggleable__label {cursor: pointer;display: block;width: 100%;margin-bottom: 0;padding: 0.3em;box-sizing: border-box;text-align: center;}#sk-container-id-9 label.sk-toggleable__label-arrow:before {content: \"▸\";float: left;margin-right: 0.25em;color: #696969;}#sk-container-id-9 label.sk-toggleable__label-arrow:hover:before {color: black;}#sk-container-id-9 div.sk-estimator:hover label.sk-toggleable__label-arrow:before {color: black;}#sk-container-id-9 div.sk-toggleable__content {max-height: 0;max-width: 0;overflow: hidden;text-align: left;background-color: #f0f8ff;}#sk-container-id-9 div.sk-toggleable__content pre {margin: 0.2em;color: black;border-radius: 0.25em;background-color: #f0f8ff;}#sk-container-id-9 input.sk-toggleable__control:checked~div.sk-toggleable__content {max-height: 200px;max-width: 100%;overflow: auto;}#sk-container-id-9 input.sk-toggleable__control:checked~label.sk-toggleable__label-arrow:before {content: \"▾\";}#sk-container-id-9 div.sk-estimator input.sk-toggleable__control:checked~label.sk-toggleable__label {background-color: #d4ebff;}#sk-container-id-9 div.sk-label input.sk-toggleable__control:checked~label.sk-toggleable__label {background-color: #d4ebff;}#sk-container-id-9 input.sk-hidden--visually {border: 0;clip: rect(1px 1px 1px 1px);clip: rect(1px, 1px, 1px, 1px);height: 1px;margin: -1px;overflow: hidden;padding: 0;position: absolute;width: 1px;}#sk-container-id-9 div.sk-estimator {font-family: monospace;background-color: #f0f8ff;border: 1px dotted black;border-radius: 0.25em;box-sizing: border-box;margin-bottom: 0.5em;}#sk-container-id-9 div.sk-estimator:hover {background-color: #d4ebff;}#sk-container-id-9 div.sk-parallel-item::after {content: \"\";width: 100%;border-bottom: 1px solid gray;flex-grow: 1;}#sk-container-id-9 div.sk-label:hover label.sk-toggleable__label {background-color: #d4ebff;}#sk-container-id-9 div.sk-serial::before {content: \"\";position: absolute;border-left: 1px solid gray;box-sizing: border-box;top: 0;bottom: 0;left: 50%;z-index: 0;}#sk-container-id-9 div.sk-serial {display: flex;flex-direction: column;align-items: center;background-color: white;padding-right: 0.2em;padding-left: 0.2em;position: relative;}#sk-container-id-9 div.sk-item {position: relative;z-index: 1;}#sk-container-id-9 div.sk-parallel {display: flex;align-items: stretch;justify-content: center;background-color: white;position: relative;}#sk-container-id-9 div.sk-item::before, #sk-container-id-9 div.sk-parallel-item::before {content: \"\";position: absolute;border-left: 1px solid gray;box-sizing: border-box;top: 0;bottom: 0;left: 50%;z-index: -1;}#sk-container-id-9 div.sk-parallel-item {display: flex;flex-direction: column;z-index: 1;position: relative;background-color: white;}#sk-container-id-9 div.sk-parallel-item:first-child::after {align-self: flex-end;width: 50%;}#sk-container-id-9 div.sk-parallel-item:last-child::after {align-self: flex-start;width: 50%;}#sk-container-id-9 div.sk-parallel-item:only-child::after {width: 0;}#sk-container-id-9 div.sk-dashed-wrapped {border: 1px dashed gray;margin: 0 0.4em 0.5em 0.4em;box-sizing: border-box;padding-bottom: 0.4em;background-color: white;}#sk-container-id-9 div.sk-label label {font-family: monospace;font-weight: bold;display: inline-block;line-height: 1.2em;}#sk-container-id-9 div.sk-label-container {text-align: center;}#sk-container-id-9 div.sk-container {/* jupyter's `normalize.less` sets `[hidden] { display: none; }` but bootstrap.min.css set `[hidden] { display: none !important; }` so we also need the `!important` here to be able to override the default hidden behavior on the sphinx rendered scikit-learn.org. See: https://github.com/scikit-learn/scikit-learn/issues/21755 */display: inline-block !important;position: relative;}#sk-container-id-9 div.sk-text-repr-fallback {display: none;}</style><div id=\"sk-container-id-9\" class=\"sk-top-container\"><div class=\"sk-text-repr-fallback\"><pre>GaussianNB()</pre><b>In a Jupyter environment, please rerun this cell to show the HTML representation or trust the notebook. <br />On GitHub, the HTML representation is unable to render, please try loading this page with nbviewer.org.</b></div><div class=\"sk-container\" hidden><div class=\"sk-item\"><div class=\"sk-estimator sk-toggleable\"><input class=\"sk-toggleable__control sk-hidden--visually\" id=\"sk-estimator-id-25\" type=\"checkbox\" checked><label for=\"sk-estimator-id-25\" class=\"sk-toggleable__label sk-toggleable__label-arrow\">GaussianNB</label><div class=\"sk-toggleable__content\"><pre>GaussianNB()</pre></div></div></div></div></div>"
      ],
      "text/plain": [
       "GaussianNB()"
      ]
     },
     "execution_count": 56,
     "metadata": {},
     "output_type": "execute_result"
    }
   ],
   "source": [
    "clf.fit(X_train, y_train)"
   ]
  },
  {
   "cell_type": "code",
   "execution_count": 57,
   "id": "2c2fbcff-2680-44f3-a623-b8df59a264fd",
   "metadata": {},
   "outputs": [],
   "source": [
    "y_pred = clf.predict(X_test)"
   ]
  },
  {
   "cell_type": "code",
   "execution_count": 58,
   "id": "9e8d5146-2d22-4ff7-8bee-f44b0b3bd009",
   "metadata": {},
   "outputs": [
    {
     "data": {
      "text/plain": [
       "0.9108835990451875"
      ]
     },
     "execution_count": 58,
     "metadata": {},
     "output_type": "execute_result"
    }
   ],
   "source": [
    "f1 = f1_score(y_test, y_pred, average='macro')\n",
    "f1"
   ]
  },
  {
   "cell_type": "markdown",
   "id": "d94acf3c-2a13-4a62-8889-74eb0f0655fe",
   "metadata": {},
   "source": [
    "Well, thanks to Ozy for suggesting that one! Still a little too good..."
   ]
  },
  {
   "cell_type": "code",
   "execution_count": 59,
   "id": "4c11a1df-3495-425d-abd4-2228f2340625",
   "metadata": {},
   "outputs": [],
   "source": [
    "clf = make_pipeline(StandardScaler(), KNeighborsClassifier(n_neighbors=201))"
   ]
  },
  {
   "cell_type": "code",
   "execution_count": 60,
   "id": "e13b89a3-c60d-4025-9495-9bafed00707b",
   "metadata": {},
   "outputs": [
    {
     "data": {
      "text/html": [
       "<style>#sk-container-id-10 {color: black;}#sk-container-id-10 pre{padding: 0;}#sk-container-id-10 div.sk-toggleable {background-color: white;}#sk-container-id-10 label.sk-toggleable__label {cursor: pointer;display: block;width: 100%;margin-bottom: 0;padding: 0.3em;box-sizing: border-box;text-align: center;}#sk-container-id-10 label.sk-toggleable__label-arrow:before {content: \"▸\";float: left;margin-right: 0.25em;color: #696969;}#sk-container-id-10 label.sk-toggleable__label-arrow:hover:before {color: black;}#sk-container-id-10 div.sk-estimator:hover label.sk-toggleable__label-arrow:before {color: black;}#sk-container-id-10 div.sk-toggleable__content {max-height: 0;max-width: 0;overflow: hidden;text-align: left;background-color: #f0f8ff;}#sk-container-id-10 div.sk-toggleable__content pre {margin: 0.2em;color: black;border-radius: 0.25em;background-color: #f0f8ff;}#sk-container-id-10 input.sk-toggleable__control:checked~div.sk-toggleable__content {max-height: 200px;max-width: 100%;overflow: auto;}#sk-container-id-10 input.sk-toggleable__control:checked~label.sk-toggleable__label-arrow:before {content: \"▾\";}#sk-container-id-10 div.sk-estimator input.sk-toggleable__control:checked~label.sk-toggleable__label {background-color: #d4ebff;}#sk-container-id-10 div.sk-label input.sk-toggleable__control:checked~label.sk-toggleable__label {background-color: #d4ebff;}#sk-container-id-10 input.sk-hidden--visually {border: 0;clip: rect(1px 1px 1px 1px);clip: rect(1px, 1px, 1px, 1px);height: 1px;margin: -1px;overflow: hidden;padding: 0;position: absolute;width: 1px;}#sk-container-id-10 div.sk-estimator {font-family: monospace;background-color: #f0f8ff;border: 1px dotted black;border-radius: 0.25em;box-sizing: border-box;margin-bottom: 0.5em;}#sk-container-id-10 div.sk-estimator:hover {background-color: #d4ebff;}#sk-container-id-10 div.sk-parallel-item::after {content: \"\";width: 100%;border-bottom: 1px solid gray;flex-grow: 1;}#sk-container-id-10 div.sk-label:hover label.sk-toggleable__label {background-color: #d4ebff;}#sk-container-id-10 div.sk-serial::before {content: \"\";position: absolute;border-left: 1px solid gray;box-sizing: border-box;top: 0;bottom: 0;left: 50%;z-index: 0;}#sk-container-id-10 div.sk-serial {display: flex;flex-direction: column;align-items: center;background-color: white;padding-right: 0.2em;padding-left: 0.2em;position: relative;}#sk-container-id-10 div.sk-item {position: relative;z-index: 1;}#sk-container-id-10 div.sk-parallel {display: flex;align-items: stretch;justify-content: center;background-color: white;position: relative;}#sk-container-id-10 div.sk-item::before, #sk-container-id-10 div.sk-parallel-item::before {content: \"\";position: absolute;border-left: 1px solid gray;box-sizing: border-box;top: 0;bottom: 0;left: 50%;z-index: -1;}#sk-container-id-10 div.sk-parallel-item {display: flex;flex-direction: column;z-index: 1;position: relative;background-color: white;}#sk-container-id-10 div.sk-parallel-item:first-child::after {align-self: flex-end;width: 50%;}#sk-container-id-10 div.sk-parallel-item:last-child::after {align-self: flex-start;width: 50%;}#sk-container-id-10 div.sk-parallel-item:only-child::after {width: 0;}#sk-container-id-10 div.sk-dashed-wrapped {border: 1px dashed gray;margin: 0 0.4em 0.5em 0.4em;box-sizing: border-box;padding-bottom: 0.4em;background-color: white;}#sk-container-id-10 div.sk-label label {font-family: monospace;font-weight: bold;display: inline-block;line-height: 1.2em;}#sk-container-id-10 div.sk-label-container {text-align: center;}#sk-container-id-10 div.sk-container {/* jupyter's `normalize.less` sets `[hidden] { display: none; }` but bootstrap.min.css set `[hidden] { display: none !important; }` so we also need the `!important` here to be able to override the default hidden behavior on the sphinx rendered scikit-learn.org. See: https://github.com/scikit-learn/scikit-learn/issues/21755 */display: inline-block !important;position: relative;}#sk-container-id-10 div.sk-text-repr-fallback {display: none;}</style><div id=\"sk-container-id-10\" class=\"sk-top-container\"><div class=\"sk-text-repr-fallback\"><pre>Pipeline(steps=[(&#x27;standardscaler&#x27;, StandardScaler()),\n",
       "                (&#x27;kneighborsclassifier&#x27;,\n",
       "                 KNeighborsClassifier(n_neighbors=201))])</pre><b>In a Jupyter environment, please rerun this cell to show the HTML representation or trust the notebook. <br />On GitHub, the HTML representation is unable to render, please try loading this page with nbviewer.org.</b></div><div class=\"sk-container\" hidden><div class=\"sk-item sk-dashed-wrapped\"><div class=\"sk-label-container\"><div class=\"sk-label sk-toggleable\"><input class=\"sk-toggleable__control sk-hidden--visually\" id=\"sk-estimator-id-26\" type=\"checkbox\" ><label for=\"sk-estimator-id-26\" class=\"sk-toggleable__label sk-toggleable__label-arrow\">Pipeline</label><div class=\"sk-toggleable__content\"><pre>Pipeline(steps=[(&#x27;standardscaler&#x27;, StandardScaler()),\n",
       "                (&#x27;kneighborsclassifier&#x27;,\n",
       "                 KNeighborsClassifier(n_neighbors=201))])</pre></div></div></div><div class=\"sk-serial\"><div class=\"sk-item\"><div class=\"sk-estimator sk-toggleable\"><input class=\"sk-toggleable__control sk-hidden--visually\" id=\"sk-estimator-id-27\" type=\"checkbox\" ><label for=\"sk-estimator-id-27\" class=\"sk-toggleable__label sk-toggleable__label-arrow\">StandardScaler</label><div class=\"sk-toggleable__content\"><pre>StandardScaler()</pre></div></div></div><div class=\"sk-item\"><div class=\"sk-estimator sk-toggleable\"><input class=\"sk-toggleable__control sk-hidden--visually\" id=\"sk-estimator-id-28\" type=\"checkbox\" ><label for=\"sk-estimator-id-28\" class=\"sk-toggleable__label sk-toggleable__label-arrow\">KNeighborsClassifier</label><div class=\"sk-toggleable__content\"><pre>KNeighborsClassifier(n_neighbors=201)</pre></div></div></div></div></div></div></div>"
      ],
      "text/plain": [
       "Pipeline(steps=[('standardscaler', StandardScaler()),\n",
       "                ('kneighborsclassifier',\n",
       "                 KNeighborsClassifier(n_neighbors=201))])"
      ]
     },
     "execution_count": 60,
     "metadata": {},
     "output_type": "execute_result"
    }
   ],
   "source": [
    "clf.fit(X_train, y_train)"
   ]
  },
  {
   "cell_type": "code",
   "execution_count": 61,
   "id": "e3e5a599-a55d-4c64-b7e9-76cd76eeefae",
   "metadata": {},
   "outputs": [],
   "source": [
    "y_pred = clf.predict(X_test)"
   ]
  },
  {
   "cell_type": "code",
   "execution_count": 62,
   "id": "aec1526e-b0ea-40e8-bedb-120f7769b083",
   "metadata": {},
   "outputs": [
    {
     "data": {
      "text/plain": [
       "0.739468857385424"
      ]
     },
     "execution_count": 62,
     "metadata": {},
     "output_type": "execute_result"
    }
   ],
   "source": [
    "f1 = f1_score(y_test, y_pred, average='macro')\n",
    "f1"
   ]
  },
  {
   "cell_type": "code",
   "execution_count": 63,
   "id": "d6c96615-420c-4828-a680-2679115d7141",
   "metadata": {},
   "outputs": [
    {
     "data": {
      "text/html": [
       "<div>\n",
       "<style scoped>\n",
       "    .dataframe tbody tr th:only-of-type {\n",
       "        vertical-align: middle;\n",
       "    }\n",
       "\n",
       "    .dataframe tbody tr th {\n",
       "        vertical-align: top;\n",
       "    }\n",
       "\n",
       "    .dataframe thead th {\n",
       "        text-align: right;\n",
       "    }\n",
       "</style>\n",
       "<table border=\"1\" class=\"dataframe\">\n",
       "  <thead>\n",
       "    <tr style=\"text-align: right;\">\n",
       "      <th></th>\n",
       "      <th>lon</th>\n",
       "      <th>lat</th>\n",
       "      <th>elev</th>\n",
       "      <th>actual_class</th>\n",
       "      <th>predicted_class</th>\n",
       "    </tr>\n",
       "  </thead>\n",
       "  <tbody>\n",
       "    <tr>\n",
       "      <th>0</th>\n",
       "      <td>95.778572</td>\n",
       "      <td>-27.574751</td>\n",
       "      <td>0.0</td>\n",
       "      <td>252</td>\n",
       "      <td>252</td>\n",
       "    </tr>\n",
       "    <tr>\n",
       "      <th>1</th>\n",
       "      <td>73.837952</td>\n",
       "      <td>38.089542</td>\n",
       "      <td>3947.0</td>\n",
       "      <td>222</td>\n",
       "      <td>222</td>\n",
       "    </tr>\n",
       "    <tr>\n",
       "      <th>2</th>\n",
       "      <td>-91.832222</td>\n",
       "      <td>14.493006</td>\n",
       "      <td>76.0</td>\n",
       "      <td>95</td>\n",
       "      <td>69</td>\n",
       "    </tr>\n",
       "    <tr>\n",
       "      <th>3</th>\n",
       "      <td>-3.954260</td>\n",
       "      <td>8.924938</td>\n",
       "      <td>245.0</td>\n",
       "      <td>57</td>\n",
       "      <td>57</td>\n",
       "    </tr>\n",
       "    <tr>\n",
       "      <th>4</th>\n",
       "      <td>50.563255</td>\n",
       "      <td>26.122250</td>\n",
       "      <td>41.0</td>\n",
       "      <td>18</td>\n",
       "      <td>18</td>\n",
       "    </tr>\n",
       "    <tr>\n",
       "      <th>5</th>\n",
       "      <td>-77.554466</td>\n",
       "      <td>23.758369</td>\n",
       "      <td>4.0</td>\n",
       "      <td>17</td>\n",
       "      <td>17</td>\n",
       "    </tr>\n",
       "    <tr>\n",
       "      <th>6</th>\n",
       "      <td>15.044183</td>\n",
       "      <td>48.311150</td>\n",
       "      <td>658.0</td>\n",
       "      <td>14</td>\n",
       "      <td>62</td>\n",
       "    </tr>\n",
       "    <tr>\n",
       "      <th>7</th>\n",
       "      <td>-16.542316</td>\n",
       "      <td>13.232882</td>\n",
       "      <td>24.0</td>\n",
       "      <td>84</td>\n",
       "      <td>84</td>\n",
       "    </tr>\n",
       "    <tr>\n",
       "      <th>8</th>\n",
       "      <td>-36.376877</td>\n",
       "      <td>-54.541100</td>\n",
       "      <td>303.0</td>\n",
       "      <td>211</td>\n",
       "      <td>211</td>\n",
       "    </tr>\n",
       "    <tr>\n",
       "      <th>9</th>\n",
       "      <td>-64.713821</td>\n",
       "      <td>32.334091</td>\n",
       "      <td>4.0</td>\n",
       "      <td>25</td>\n",
       "      <td>25</td>\n",
       "    </tr>\n",
       "  </tbody>\n",
       "</table>\n",
       "</div>"
      ],
      "text/plain": [
       "         lon        lat    elev  actual_class  predicted_class\n",
       "0  95.778572 -27.574751     0.0           252              252\n",
       "1  73.837952  38.089542  3947.0           222              222\n",
       "2 -91.832222  14.493006    76.0            95               69\n",
       "3  -3.954260   8.924938   245.0            57               57\n",
       "4  50.563255  26.122250    41.0            18               18\n",
       "5 -77.554466  23.758369     4.0            17               17\n",
       "6  15.044183  48.311150   658.0            14               62\n",
       "7 -16.542316  13.232882    24.0            84               84\n",
       "8 -36.376877 -54.541100   303.0           211              211\n",
       "9 -64.713821  32.334091     4.0            25               25"
      ]
     },
     "execution_count": 63,
     "metadata": {},
     "output_type": "execute_result"
    }
   ],
   "source": [
    "predictions = clf.predict(X_test)\n",
    "\n",
    "feature_names = ['lon', 'lat', 'elev']\n",
    "\n",
    "# Convert X_test validation feature data to a Pandas DataFrame\n",
    "result = pd.DataFrame(X_test, columns=feature_names)\n",
    "\n",
    "# Add the actual classes to the DataFrame\n",
    "result[\"actual_class\"] = y_test\n",
    "\n",
    "# Add the model predictions to the DataFrame\n",
    "result[\"predicted_class\"] = predictions\n",
    "\n",
    "result[:10]"
   ]
  },
  {
   "cell_type": "markdown",
   "id": "366e1465-542b-4eed-ab89-f2773f418f4d",
   "metadata": {},
   "source": [
    "That seems to be okay... it should be wrong some of the time..."
   ]
  },
  {
   "cell_type": "code",
   "execution_count": 66,
   "id": "23a45f59-3bd3-4daa-930c-54c39bbf8d97",
   "metadata": {},
   "outputs": [
    {
     "data": {
      "text/plain": [
       "['/tmp/sklearn_model.joblib']"
      ]
     },
     "execution_count": 66,
     "metadata": {},
     "output_type": "execute_result"
    }
   ],
   "source": [
    "model_directory = \"/tmp/sklearn_model.joblib\"\n",
    "dump(clf, model_directory)"
   ]
  },
  {
   "cell_type": "code",
   "execution_count": 67,
   "id": "b194a64c-ef76-4293-9270-77259cd55f32",
   "metadata": {},
   "outputs": [],
   "source": [
    "class ModelWrapper(PythonModel):\n",
    "    def __init__(self):\n",
    "        self.model = None\n",
    "\n",
    "    def load_context(self, context):\n",
    "        import sklearn\n",
    "        from joblib import load\n",
    "\n",
    "        self.model = load(context.artifacts[\"model_path\"])\n",
    "\n",
    "    # Return the country string, not the country id from the prediction method\n",
    "    def predict(self, context, model_input):\n",
    "        countries_dict = {\n",
    "             1: 'Afghanistan',\n",
    "             2: 'Albania',\n",
    "             3: 'Algeria',\n",
    "             4: 'American Samoa',\n",
    "             5: 'Andorra',\n",
    "             6: 'Angola',\n",
    "             7: 'Anguilla',\n",
    "             8: 'Antarctica',\n",
    "             9: 'Antigua and Barbuda',\n",
    "             10: 'Argentina',\n",
    "             11: 'Armenia',\n",
    "             12: 'Aruba',\n",
    "             13: 'Australia',\n",
    "             14: 'Austria',\n",
    "             15: 'Azerbaijan',\n",
    "             16: 'Azores',\n",
    "             17: 'Bahamas',\n",
    "             18: 'Bahrain',\n",
    "             19: 'Bangladesh',\n",
    "             20: 'Barbados',\n",
    "             21: 'Belarus',\n",
    "             22: 'Belgium',\n",
    "             23: 'Belize',\n",
    "             24: 'Benin',\n",
    "             25: 'Bermuda',\n",
    "             26: 'Bhutan',\n",
    "             27: 'Bolivia',\n",
    "             28: 'Bonaire',\n",
    "             29: 'Bosnia and Herzegovina',\n",
    "             30: 'Botswana',\n",
    "             31: 'Bouvet Island',\n",
    "             32: 'Brazil',\n",
    "             33: 'British Indian Ocean Territory',\n",
    "             34: 'British Virgin Islands',\n",
    "             35: 'Brunei Darussalam',\n",
    "             36: 'Bulgaria',\n",
    "             37: 'Burkina Faso',\n",
    "             38: 'Burundi',\n",
    "             39: 'Cabo Verde',\n",
    "             40: 'Cambodia',\n",
    "             41: 'Cameroon',\n",
    "             42: 'Canada',\n",
    "             43: 'Canarias',\n",
    "             44: 'Cayman Islands',\n",
    "             45: 'Central African Republic',\n",
    "             46: 'Chad',\n",
    "             47: 'Chile',\n",
    "             48: 'China',\n",
    "             49: 'Christmas Island',\n",
    "             50: 'Cocos Islands',\n",
    "             51: 'Colombia',\n",
    "             52: 'Comoros',\n",
    "             53: 'Congo',\n",
    "             54: 'Congo DRC',\n",
    "             55: 'Cook Islands',\n",
    "             56: 'Costa Rica',\n",
    "             57: \"Côte d'Ivoire\",\n",
    "             58: 'Croatia',\n",
    "             59: 'Cuba',\n",
    "             60: 'Curacao',\n",
    "             61: 'Cyprus',\n",
    "             62: 'Czech Republic',\n",
    "             63: 'Denmark',\n",
    "             64: 'Djibouti',\n",
    "             65: 'Dominica',\n",
    "             66: 'Dominican Republic',\n",
    "             67: 'Ecuador',\n",
    "             68: 'Egypt',\n",
    "             69: 'El Salvador',\n",
    "             70: 'Equatorial Guinea',\n",
    "             71: 'Eritrea',\n",
    "             72: 'Estonia',\n",
    "             73: 'Eswatini',\n",
    "             74: 'Ethiopia',\n",
    "             75: 'Falkland Islands',\n",
    "             76: 'Faroe Islands',\n",
    "             77: 'Fiji',\n",
    "             78: 'Finland',\n",
    "             79: 'France',\n",
    "             80: 'French Guiana',\n",
    "             81: 'French Polynesia',\n",
    "             82: 'French Southern Territories',\n",
    "             83: 'Gabon',\n",
    "             84: 'Gambia',\n",
    "             85: 'Georgia',\n",
    "             86: 'Germany',\n",
    "             87: 'Ghana',\n",
    "             88: 'Gibraltar',\n",
    "             89: 'Glorioso Islands',\n",
    "             90: 'Greece',\n",
    "             91: 'Greenland',\n",
    "             92: 'Grenada',\n",
    "             93: 'Guadeloupe',\n",
    "             94: 'Guam',\n",
    "             95: 'Guatemala',\n",
    "             96: 'Guernsey',\n",
    "             97: 'Guinea',\n",
    "             98: 'Guinea-Bissau',\n",
    "             99: 'Guyana',\n",
    "             100: 'Haiti',\n",
    "             101: 'Heard Island and McDonald Islands',\n",
    "             102: 'Honduras',\n",
    "             103: 'Hungary',\n",
    "             104: 'Iceland',\n",
    "             105: 'India',\n",
    "             106: 'Indonesia',\n",
    "             107: 'Iran',\n",
    "             108: 'Iraq',\n",
    "             109: 'Ireland',\n",
    "             110: 'Isle of Man',\n",
    "             111: 'Israel',\n",
    "             112: 'Italy',\n",
    "             113: 'Jamaica',\n",
    "             114: 'Japan',\n",
    "             115: 'Jersey',\n",
    "             116: 'Jordan',\n",
    "             117: 'Juan De Nova Island',\n",
    "             118: 'Kazakhstan',\n",
    "             119: 'Kenya',\n",
    "             120: 'Kiribati',\n",
    "             121: 'Kuwait',\n",
    "             122: 'Kyrgyzstan',\n",
    "             123: 'Laos',\n",
    "             124: 'Latvia',\n",
    "             125: 'Lebanon',\n",
    "             126: 'Lesotho',\n",
    "             127: 'Liberia',\n",
    "             128: 'Libya',\n",
    "             129: 'Liechtenstein',\n",
    "             130: 'Lithuania',\n",
    "             131: 'Luxembourg',\n",
    "             132: 'Madagascar',\n",
    "             133: 'Madeira',\n",
    "             134: 'Malawi',\n",
    "             135: 'Malaysia',\n",
    "             136: 'Maldives',\n",
    "             137: 'Mali',\n",
    "             138: 'Malta',\n",
    "             139: 'Marshall Islands',\n",
    "             140: 'Martinique',\n",
    "             141: 'Mauritania',\n",
    "             142: 'Mauritius',\n",
    "             143: 'Mayotte',\n",
    "             144: 'Mexico',\n",
    "             145: 'Micronesia',\n",
    "             146: 'Moldova',\n",
    "             147: 'Monaco',\n",
    "             148: 'Mongolia',\n",
    "             149: 'Montenegro',\n",
    "             150: 'Montserrat',\n",
    "             151: 'Morocco',\n",
    "             152: 'Mozambique',\n",
    "             153: 'Myanmar',\n",
    "             154: 'Namibia',\n",
    "             155: 'Nauru',\n",
    "             156: 'Nepal',\n",
    "             157: 'Netherlands',\n",
    "             158: 'New Caledonia',\n",
    "             159: 'New Zealand',\n",
    "             160: 'Nicaragua',\n",
    "             161: 'Niger',\n",
    "             162: 'Nigeria',\n",
    "             163: 'Niue',\n",
    "             164: 'Norfolk Island',\n",
    "             165: 'North Korea',\n",
    "             166: 'North Macedonia',\n",
    "             167: 'Northern Mariana Islands',\n",
    "             168: 'Norway',\n",
    "             169: 'Oman',\n",
    "             170: 'Pakistan',\n",
    "             171: 'Palau',\n",
    "             172: 'Palestinian Territory',\n",
    "             173: 'Panama',\n",
    "             174: 'Papua New Guinea',\n",
    "             175: 'Paraguay',\n",
    "             176: 'Peru',\n",
    "             177: 'Philippines',\n",
    "             178: 'Pitcairn',\n",
    "             179: 'Poland',\n",
    "             180: 'Portugal',\n",
    "             181: 'Puerto Rico',\n",
    "             182: 'Qatar',\n",
    "             183: 'Réunion',\n",
    "             184: 'Romania',\n",
    "             185: 'Russian Federation',\n",
    "             186: 'Rwanda',\n",
    "             187: 'Saba',\n",
    "             188: 'Saint Barthelemy',\n",
    "             189: 'Saint Eustatius',\n",
    "             190: 'Saint Helena',\n",
    "             191: 'Saint Kitts and Nevis',\n",
    "             192: 'Saint Lucia',\n",
    "             193: 'Saint Martin',\n",
    "             194: 'Saint Pierre and Miquelon',\n",
    "             195: 'Saint Vincent and the Grenadines',\n",
    "             196: 'Samoa',\n",
    "             197: 'San Marino',\n",
    "             198: 'Sao Tome and Principe',\n",
    "             199: 'Saudi Arabia',\n",
    "             200: 'Senegal',\n",
    "             201: 'Serbia',\n",
    "             202: 'Seychelles',\n",
    "             203: 'Sierra Leone',\n",
    "             204: 'Singapore',\n",
    "             205: 'Sint Maarten',\n",
    "             206: 'Slovakia',\n",
    "             207: 'Slovenia',\n",
    "             208: 'Solomon Islands',\n",
    "             209: 'Somalia',\n",
    "             210: 'South Africa',\n",
    "             211: 'South Georgia and South Sandwich Islands',\n",
    "             212: 'South Korea',\n",
    "             213: 'South Sudan',\n",
    "             214: 'Spain',\n",
    "             215: 'Sri Lanka',\n",
    "             216: 'Sudan',\n",
    "             217: 'Suriname',\n",
    "             218: 'Svalbard',\n",
    "             219: 'Sweden',\n",
    "             220: 'Switzerland',\n",
    "             221: 'Syria',\n",
    "             222: 'Tajikistan',\n",
    "             223: 'Tanzania',\n",
    "             224: 'Thailand',\n",
    "             225: 'Timor-Leste',\n",
    "             226: 'Togo',\n",
    "             227: 'Tokelau',\n",
    "             228: 'Tonga',\n",
    "             229: 'Trinidad and Tobago',\n",
    "             230: 'Tunisia',\n",
    "             231: 'Turkiye',\n",
    "             232: 'Turkmenistan',\n",
    "             233: 'Turks and Caicos Islands',\n",
    "             234: 'Tuvalu',\n",
    "             235: 'Uganda',\n",
    "             236: 'Ukraine',\n",
    "             237: 'United Arab Emirates',\n",
    "             238: 'United Kingdom',\n",
    "             239: 'United States',\n",
    "             240: 'United States Minor Outlying Islands',\n",
    "             241: 'Uruguay',\n",
    "             242: 'US Virgin Islands',\n",
    "             243: 'Uzbekistan',\n",
    "             244: 'Vanuatu',\n",
    "             245: 'Vatican City',\n",
    "             246: 'Venezuela',\n",
    "             247: 'Vietnam',\n",
    "             248: 'Wallis and Futuna',\n",
    "             249: 'Yemen',\n",
    "             250: 'Zambia',\n",
    "             251: 'Zimbabwe',\n",
    "             252: 'Ocean'\n",
    "        }\n",
    "        key = self.model.predict(model_input)\n",
    "        return countries_dict[key[0]] # So this is for one prediction at a time, not an array of them\n"
   ]
  },
  {
   "cell_type": "code",
   "execution_count": 68,
   "id": "a9bdfc4f-bd82-4d53-bcf8-574cd6a8540d",
   "metadata": {},
   "outputs": [],
   "source": [
    "# Define the required artifacts associated with the saved custom pyfunc\n",
    "artifacts = {\"model_path\": model_directory}\n",
    "\n",
    "# Define the signature associated with the model\n",
    "signature = infer_signature(X_train)\n"
   ]
  },
  {
   "cell_type": "code",
   "execution_count": 81,
   "id": "f9cdcc34-b19c-4d16-b4d7-6d8e454a26c6",
   "metadata": {},
   "outputs": [],
   "source": [
    "params = {\"pipeline\":True, \"scaler\": \"standard\"}"
   ]
  },
  {
   "cell_type": "code",
   "execution_count": 69,
   "id": "64c0263d-a3d2-4ece-a9f3-f08c2bdc8704",
   "metadata": {},
   "outputs": [],
   "source": [
    "mlflow.set_tracking_uri(uri=\"http://ec2-54-226-109-218.compute-1.amazonaws.com:8080\")"
   ]
  },
  {
   "cell_type": "code",
   "execution_count": 71,
   "id": "51115226-b455-499f-be9c-d89f136ece5c",
   "metadata": {
    "scrolled": true
   },
   "outputs": [
    {
     "name": "stderr",
     "output_type": "stream",
     "text": [
      "Successfully registered model 'countries_name'.\n",
      "2023/12/08 13:22:21 INFO mlflow.store.model_registry.abstract_store: Waiting up to 300 seconds for model version to finish creation. Model name: countries_name, version 1\n",
      "Created version '1' of model 'countries_name'.\n"
     ]
    }
   ],
   "source": [
    "with mlflow.start_run() as run:\n",
    "    mlflow.pyfunc.log_model(\n",
    "        python_model=ModelWrapper(),\n",
    "        input_example=X_train,\n",
    "        signature=signature,\n",
    "        artifacts=artifacts,\n",
    "        pip_requirements=[\"joblib\", \"sklearn\"],\n",
    "        artifact_path=\"countries_name\",\n",
    "        registered_model_name=\"countries_name\",\n",
    "    )\n",
    "mlflow.end_run()"
   ]
  },
  {
   "cell_type": "code",
   "execution_count": 72,
   "id": "4b839d02-dc61-4fdd-a9ac-bce3512df98d",
   "metadata": {},
   "outputs": [],
   "source": [
    "# got the uri from mlflow ui\n",
    "loaded_model = mlflow.pyfunc.load_model('mlflow-artifacts:/0/89cbbffe4129441db9f5f2bf4c269be1/artifacts/countries_name')"
   ]
  },
  {
   "cell_type": "code",
   "execution_count": 73,
   "id": "32e35e51-eef1-4d9a-b507-ee6b01669134",
   "metadata": {},
   "outputs": [
    {
     "data": {
      "text/plain": [
       "array([ 95.77857208, -27.5747509 ,   0.        ])"
      ]
     },
     "execution_count": 73,
     "metadata": {},
     "output_type": "execute_result"
    }
   ],
   "source": [
    "X_test[0]"
   ]
  },
  {
   "cell_type": "code",
   "execution_count": 75,
   "id": "26a8047e-19f5-47dd-ad0b-a7259fe04849",
   "metadata": {},
   "outputs": [
    {
     "data": {
      "text/plain": [
       "'United States'"
      ]
     },
     "execution_count": 75,
     "metadata": {},
     "output_type": "execute_result"
    }
   ],
   "source": [
    "prediction = loaded_model.predict(np.array([[-98.0, 36.0, 55.0]]))\n",
    "prediction"
   ]
  },
  {
   "cell_type": "code",
   "execution_count": 76,
   "id": "32347503-11f0-4a1d-8314-3b25c04d178e",
   "metadata": {},
   "outputs": [
    {
     "data": {
      "text/plain": [
       "'Sao Tome and Principe'"
      ]
     },
     "execution_count": 76,
     "metadata": {},
     "output_type": "execute_result"
    }
   ],
   "source": [
    "prediction = loaded_model.predict(np.array([[0.0, 0.0, 0.0]]))\n",
    "prediction"
   ]
  },
  {
   "cell_type": "markdown",
   "id": "9bd8f08c-6c9f-4788-9d2e-033766eaa710",
   "metadata": {},
   "source": [
    "So this is nice, but adding elevation is going to make inference more complicated, as I will have to have something query the DEM for the elevation wherever the userr clicks. Just easier to do away with elevation entirely."
   ]
  },
  {
   "cell_type": "code",
   "execution_count": 77,
   "id": "6ec396f7-eab1-4a8f-93c6-35b7794d64a5",
   "metadata": {},
   "outputs": [
    {
     "data": {
      "text/html": [
       "<div>\n",
       "<style scoped>\n",
       "    .dataframe tbody tr th:only-of-type {\n",
       "        vertical-align: middle;\n",
       "    }\n",
       "\n",
       "    .dataframe tbody tr th {\n",
       "        vertical-align: top;\n",
       "    }\n",
       "\n",
       "    .dataframe thead th {\n",
       "        text-align: right;\n",
       "    }\n",
       "</style>\n",
       "<table border=\"1\" class=\"dataframe\">\n",
       "  <thead>\n",
       "    <tr style=\"text-align: right;\">\n",
       "      <th></th>\n",
       "      <th>OBJECTID</th>\n",
       "      <th>CID</th>\n",
       "      <th>Longitude</th>\n",
       "      <th>Latitude</th>\n",
       "      <th>Elev</th>\n",
       "    </tr>\n",
       "  </thead>\n",
       "  <tbody>\n",
       "    <tr>\n",
       "      <th>18181</th>\n",
       "      <td>18182</td>\n",
       "      <td>10</td>\n",
       "      <td>-62.647358</td>\n",
       "      <td>-29.964741</td>\n",
       "      <td>76</td>\n",
       "    </tr>\n",
       "    <tr>\n",
       "      <th>206702</th>\n",
       "      <td>206703</td>\n",
       "      <td>96</td>\n",
       "      <td>-2.537722</td>\n",
       "      <td>49.472713</td>\n",
       "      <td>1</td>\n",
       "    </tr>\n",
       "    <tr>\n",
       "      <th>11799</th>\n",
       "      <td>11800</td>\n",
       "      <td>252</td>\n",
       "      <td>-169.961044</td>\n",
       "      <td>-16.951956</td>\n",
       "      <td>0</td>\n",
       "    </tr>\n",
       "    <tr>\n",
       "      <th>155601</th>\n",
       "      <td>155602</td>\n",
       "      <td>145</td>\n",
       "      <td>158.153061</td>\n",
       "      <td>6.895745</td>\n",
       "      <td>18</td>\n",
       "    </tr>\n",
       "    <tr>\n",
       "      <th>249520</th>\n",
       "      <td>249521</td>\n",
       "      <td>114</td>\n",
       "      <td>144.167709</td>\n",
       "      <td>43.637287</td>\n",
       "      <td>323</td>\n",
       "    </tr>\n",
       "    <tr>\n",
       "      <th>...</th>\n",
       "      <td>...</td>\n",
       "      <td>...</td>\n",
       "      <td>...</td>\n",
       "      <td>...</td>\n",
       "      <td>...</td>\n",
       "    </tr>\n",
       "    <tr>\n",
       "      <th>21617</th>\n",
       "      <td>21618</td>\n",
       "      <td>190</td>\n",
       "      <td>-5.697285</td>\n",
       "      <td>-15.914624</td>\n",
       "      <td>161</td>\n",
       "    </tr>\n",
       "    <tr>\n",
       "      <th>98494</th>\n",
       "      <td>98495</td>\n",
       "      <td>195</td>\n",
       "      <td>-61.202251</td>\n",
       "      <td>13.195112</td>\n",
       "      <td>558</td>\n",
       "    </tr>\n",
       "    <tr>\n",
       "      <th>130707</th>\n",
       "      <td>130708</td>\n",
       "      <td>45</td>\n",
       "      <td>19.150009</td>\n",
       "      <td>5.998329</td>\n",
       "      <td>517</td>\n",
       "    </tr>\n",
       "    <tr>\n",
       "      <th>103066</th>\n",
       "      <td>103067</td>\n",
       "      <td>93</td>\n",
       "      <td>-61.670029</td>\n",
       "      <td>16.189217</td>\n",
       "      <td>181</td>\n",
       "    </tr>\n",
       "    <tr>\n",
       "      <th>213934</th>\n",
       "      <td>213935</td>\n",
       "      <td>2</td>\n",
       "      <td>19.726595</td>\n",
       "      <td>42.557056</td>\n",
       "      <td>1249</td>\n",
       "    </tr>\n",
       "  </tbody>\n",
       "</table>\n",
       "<p>260999 rows × 5 columns</p>\n",
       "</div>"
      ],
      "text/plain": [
       "        OBJECTID  CID   Longitude   Latitude  Elev\n",
       "18181      18182   10  -62.647358 -29.964741    76\n",
       "206702    206703   96   -2.537722  49.472713     1\n",
       "11799      11800  252 -169.961044 -16.951956     0\n",
       "155601    155602  145  158.153061   6.895745    18\n",
       "249520    249521  114  144.167709  43.637287   323\n",
       "...          ...  ...         ...        ...   ...\n",
       "21617      21618  190   -5.697285 -15.914624   161\n",
       "98494      98495  195  -61.202251  13.195112   558\n",
       "130707    130708   45   19.150009   5.998329   517\n",
       "103066    103067   93  -61.670029  16.189217   181\n",
       "213934    213935    2   19.726595  42.557056  1249\n",
       "\n",
       "[260999 rows x 5 columns]"
      ]
     },
     "execution_count": 77,
     "metadata": {},
     "output_type": "execute_result"
    }
   ],
   "source": [
    "df"
   ]
  },
  {
   "cell_type": "code",
   "execution_count": 78,
   "id": "64e7bd7b-f7d9-43e0-9cce-57d4fb3431c2",
   "metadata": {},
   "outputs": [],
   "source": [
    "features = df[[\"Longitude\", \"Latitude\"]].to_numpy()\n",
    "target = df[[\"CID\"]].to_numpy()"
   ]
  },
  {
   "cell_type": "code",
   "execution_count": 79,
   "id": "5217172c-efc5-4a87-8d60-bb1e1c9d77ea",
   "metadata": {},
   "outputs": [],
   "source": [
    "X_train, X_test, y_train, y_test = train_test_split(features, target.ravel(), test_size=0.2, random_state=42)"
   ]
  },
  {
   "cell_type": "code",
   "execution_count": 80,
   "id": "a02dd583-4634-4703-b718-55713eaf59f0",
   "metadata": {},
   "outputs": [
    {
     "name": "stderr",
     "output_type": "stream",
     "text": [
      "2023/12/08 16:21:53 INFO mlflow.tracking.fluent: Autologging successfully enabled for sklearn.\n",
      "/usr/local/lib/python3.10/dist-packages/sklearn/metrics/_classification.py:2922: UserWarning: The y_pred values do not sum to one. Starting from 1.5 thiswill result in an error.\n",
      "  warnings.warn(\n"
     ]
    },
    {
     "name": "stdout",
     "output_type": "stream",
     "text": [
      "0.9759764486918437\n"
     ]
    }
   ],
   "source": [
    "with mlflow.start_run() as run:\n",
    "    mlflow.autolog()\n",
    "    clf = make_pipeline(StandardScaler(), KNeighborsClassifier(n_neighbors=11))\n",
    "    clf.fit(X_train, y_train)\n",
    "    y_pred = clf.predict(X_test)\n",
    "    f1 = f1_score(y_test, y_pred, average='macro')\n",
    "    print(f1)\n",
    "mlflow.end_run()    "
   ]
  },
  {
   "cell_type": "markdown",
   "id": "e9e5b297-3fb9-47cc-935e-c161d2433459",
   "metadata": {},
   "source": [
    "Oh wow. Model does even better without elevation... Let's see how Gaussian Naive Bayes does..."
   ]
  },
  {
   "cell_type": "code",
   "execution_count": 81,
   "id": "6a96caf8-fa42-4380-a270-aeae9343814f",
   "metadata": {},
   "outputs": [
    {
     "name": "stderr",
     "output_type": "stream",
     "text": [
      "2023/12/08 16:30:54 INFO mlflow.tracking.fluent: Autologging successfully enabled for sklearn.\n",
      "/usr/local/lib/python3.10/dist-packages/sklearn/metrics/_classification.py:1471: UndefinedMetricWarning: Precision is ill-defined and being set to 0.0 in labels with no predicted samples. Use `zero_division` parameter to control this behavior.\n",
      "  _warn_prf(average, modifier, msg_start, len(result))\n",
      "/usr/local/lib/python3.10/dist-packages/sklearn/metrics/_classification.py:2922: UserWarning: The y_pred values do not sum to one. Starting from 1.5 thiswill result in an error.\n",
      "  warnings.warn(\n"
     ]
    },
    {
     "name": "stdout",
     "output_type": "stream",
     "text": [
      "0.9201669956380213\n"
     ]
    }
   ],
   "source": [
    "with mlflow.start_run() as run:\n",
    "    mlflow.autolog()\n",
    "    clf = GaussianNB()\n",
    "    clf.fit(X_train, y_train)\n",
    "    y_pred = clf.predict(X_test)\n",
    "    f1 = f1_score(y_test, y_pred, average='macro')\n",
    "    print(f1)\n",
    "mlflow.end_run()    "
   ]
  },
  {
   "cell_type": "markdown",
   "id": "7e421e1c-723a-45ad-972c-3e268d3d94d1",
   "metadata": {},
   "source": [
    "So it's nice having these guys autologged and tracked so that you can look at the MLflow GUI and compare apples to apples... but I need to wrap these guys up and override the predict method to make something useful... so much for the CI/CD pipeline this thing is completely busted and I need to do everything manually..."
   ]
  },
  {
   "cell_type": "code",
   "execution_count": 82,
   "id": "44a04d18-b953-4325-9936-30342bae0773",
   "metadata": {},
   "outputs": [
    {
     "data": {
      "text/plain": [
       "['/tmp/sklearn_model.joblib']"
      ]
     },
     "execution_count": 82,
     "metadata": {},
     "output_type": "execute_result"
    }
   ],
   "source": [
    "model_directory = \"/tmp/sklearn_model.joblib\"\n",
    "dump(clf, model_directory)"
   ]
  },
  {
   "cell_type": "code",
   "execution_count": 83,
   "id": "930636ce-0f59-4e19-9e35-a295d0649903",
   "metadata": {},
   "outputs": [],
   "source": [
    "# Define the required artifacts associated with the saved custom pyfunc\n",
    "artifacts = {\"model_path\": model_directory}\n",
    "\n",
    "# Define the signature associated with the model\n",
    "signature = infer_signature(X_train)\n"
   ]
  },
  {
   "cell_type": "code",
   "execution_count": 84,
   "id": "6e2eedc3-aa61-4f05-8099-0ffee57fff6f",
   "metadata": {
    "scrolled": true
   },
   "outputs": [],
   "source": [
    "with mlflow.start_run() as run:\n",
    "    mlflow.pyfunc.log_model(\n",
    "        python_model=ModelWrapper(),\n",
    "        input_example=X_train,\n",
    "        signature=signature,\n",
    "        artifacts=artifacts,\n",
    "        artifact_path=\"countries_name\",\n",
    "    )\n",
    "mlflow.end_run()"
   ]
  },
  {
   "cell_type": "code",
   "execution_count": 85,
   "id": "a365623b-9743-4d62-b438-3f9b13a8ef80",
   "metadata": {},
   "outputs": [],
   "source": [
    "loaded_model = mlflow.pyfunc.load_model('mlflow-artifacts:/0/51c28246ab5d47b5a6a6e9e94d094996/artifacts/countries_name')"
   ]
  },
  {
   "cell_type": "code",
   "execution_count": 86,
   "id": "c08c8b0c-d053-49c9-b1c8-1ffbd26eb2f2",
   "metadata": {},
   "outputs": [
    {
     "data": {
      "text/plain": [
       "array([ 95.77857208, -27.5747509 ])"
      ]
     },
     "execution_count": 86,
     "metadata": {},
     "output_type": "execute_result"
    }
   ],
   "source": [
    "X_test[0]"
   ]
  },
  {
   "cell_type": "code",
   "execution_count": 87,
   "id": "109d05f5-f572-4f16-a50c-371b6e0b9ac6",
   "metadata": {},
   "outputs": [
    {
     "data": {
      "text/plain": [
       "'United States'"
      ]
     },
     "execution_count": 87,
     "metadata": {},
     "output_type": "execute_result"
    }
   ],
   "source": [
    "prediction = loaded_model.predict(np.array([[-98.0, 36.0]]))\n",
    "prediction"
   ]
  },
  {
   "cell_type": "code",
   "execution_count": 88,
   "id": "cd61ef47-466c-4228-90c4-8bb804475fd6",
   "metadata": {},
   "outputs": [
    {
     "data": {
      "text/plain": [
       "'Ocean'"
      ]
     },
     "execution_count": 88,
     "metadata": {},
     "output_type": "execute_result"
    }
   ],
   "source": [
    "prediction = loaded_model.predict(np.array([[0.0, 0.0]]))\n",
    "prediction"
   ]
  },
  {
   "cell_type": "markdown",
   "id": "3bbe274e-20e1-4737-9789-5662a290f791",
   "metadata": {},
   "source": [
    "Okie dokie. Let's see if we can deploy. At this point I grab a shell, navigate to that directory on the MLflow server and get\n",
    "\n",
    "`sudo mlflow sagemaker build-and-push-container`\n",
    "\n",
    "to work.\n",
    "\n",
    "Update: Yeah don't do this on a micro instance. "
   ]
  },
  {
   "cell_type": "code",
   "execution_count": null,
   "id": "cc684725-3070-4639-9658-b6d6474a9036",
   "metadata": {},
   "outputs": [],
   "source": [
    "from mlflow.deployments import get_deploy_client\n",
    "\n",
    "config = dict(\n",
    "    execution_role_arn=\"\",\n",
    "    bucket_name=\"\",\n",
    "    image_url=\"\",\n",
    "    region_name=\"us-east-1\",\n",
    "    archive=False,\n",
    "    instance_count=1,\n",
    "    synchronous=True,\n",
    "    timeout_seconds=420,\n",
    "    variant_name=\"prod-variant-1\",\n",
    "    # env={\"DISABLE_NGINX\": \"true\", \"GUNICORN_CMD_ARGS\": '\"--timeout 60\"'},\n",
    "    tags={\"training_timestamp\": \"2023-12-07T05:12:26\"},\n",
    "    instance_type=\"ml.t2.large\",\n",
    "    # serverless_config = {\n",
    "    #     \"MemorySizeInMB\": 1024,\n",
    "    #     \"MaxConcurrency\": 1,\n",
    "    # },\n",
    ")\n",
    "client = get_deploy_client(\"sagemaker\")\n",
    "client.create_deployment(\n",
    "    \"my-deployment3\",\n",
    "    model_uri=\"\",\n",
    "    flavor=\"python_function\",\n",
    "    config=config,\n",
    ")\n"
   ]
  },
  {
   "cell_type": "markdown",
   "id": "ed542533-5122-48be-b21b-86be925ba84a",
   "metadata": {},
   "source": [
    "Lovely. Looks like serverless sagemaker deployments with the python_function flavor are bugged: https://github.com/mlflow/mlflow/issues/9808\n",
    "\n",
    "I'll try to deploy the regular one...\n",
    "\n",
    "aaand this whole MLFlow thing is looking like a mistake. I should have just stuck with SageMaker."
   ]
  }
 ],
 "metadata": {
  "kernelspec": {
   "display_name": "Python 3 (ipykernel)",
   "language": "python",
   "name": "python3"
  },
  "language_info": {
   "codemirror_mode": {
    "name": "ipython",
    "version": 3
   },
   "file_extension": ".py",
   "mimetype": "text/x-python",
   "name": "python",
   "nbconvert_exporter": "python",
   "pygments_lexer": "ipython3",
   "version": "3.10.12"
  }
 },
 "nbformat": 4,
 "nbformat_minor": 5
}
