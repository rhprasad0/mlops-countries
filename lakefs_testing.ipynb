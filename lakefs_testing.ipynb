{
 "cells": [
  {
   "cell_type": "markdown",
   "id": "fc8417a7-3d74-4208-bda3-2820f8e50685",
   "metadata": {},
   "source": [
    "# Ryan messing around with lakeFS\n",
    "Hoo boy I spent hours messing with this on SageMaker. Got nowhere trying to even query my repo. This appears to go smoother locally. I'll just chalk it up to my own inexperience on AWS. Something tells me that AWS will have their own data versioning service in the future...\n",
    "\n",
    "LakeFS documentation here: https://docs.lakefs.io/v0.86/integrations/python.html\n",
    "\n",
    "Anyway let's get the client instatiated:"
   ]
  },
  {
   "cell_type": "code",
   "execution_count": 2,
   "id": "2a13043b-9763-4142-a8f2-ce252739cded",
   "metadata": {},
   "outputs": [],
   "source": [
    "import lakefs_client\n",
    "from lakefs_client import models\n",
    "from lakefs_client.client import LakeFSClient\n",
    "\n",
    "# lakeFS credentials and endpoint\n",
    "configuration = lakefs_client.Configuration()\n",
    "configuration.username = ''\n",
    "configuration.password = ''\n",
    "configuration.host = ''\n",
    "\n",
    "client = LakeFSClient(configuration)"
   ]
  },
  {
   "cell_type": "markdown",
   "id": "db14ffe1-f1c4-4f94-abcf-73e87284754d",
   "metadata": {},
   "source": [
    "Kay cool. Let's query the countries repo, which I had previously created and committed to. "
   ]
  },
  {
   "cell_type": "code",
   "execution_count": 3,
   "id": "3a02a1c1-5488-46f6-81d9-f029ccc08dea",
   "metadata": {},
   "outputs": [
    {
     "data": {
      "text/plain": [
       "{'pagination': {'has_more': False,\n",
       "                'max_per_page': 1000,\n",
       "                'next_offset': '',\n",
       "                'results': 1},\n",
       " 'results': [{'commit_id': 'cb3faebd8422a233e7d39739876167ad0a21e919c5cf7bff73d46d1d26b9089c',\n",
       "              'id': 'main'}]}"
      ]
     },
     "execution_count": 3,
     "metadata": {},
     "output_type": "execute_result"
    }
   ],
   "source": [
    "client.branches.list_branches('countries')"
   ]
  },
  {
   "cell_type": "markdown",
   "id": "21de6de3-876b-4102-a702-633a555453ee",
   "metadata": {},
   "source": [
    "That looks right, since I only have the main branch in there. Let's fork that one and work inside of it."
   ]
  },
  {
   "cell_type": "code",
   "execution_count": 4,
   "id": "51a04d30-2d31-4399-8d33-64c10dfb7a13",
   "metadata": {},
   "outputs": [
    {
     "data": {
      "text/plain": [
       "'cb3faebd8422a233e7d39739876167ad0a21e919c5cf7bff73d46d1d26b9089c'"
      ]
     },
     "execution_count": 4,
     "metadata": {},
     "output_type": "execute_result"
    }
   ],
   "source": [
    "client.branches.create_branch(repository='countries', branch_creation=models.BranchCreation(name='main-fork', source='main'))"
   ]
  },
  {
   "cell_type": "code",
   "execution_count": 5,
   "id": "3dfba46d-78b0-43a0-9ab6-7af511dc1c55",
   "metadata": {},
   "outputs": [
    {
     "data": {
      "text/plain": [
       "{'pagination': {'has_more': False,\n",
       "                'max_per_page': 1000,\n",
       "                'next_offset': '',\n",
       "                'results': 2},\n",
       " 'results': [{'commit_id': 'cb3faebd8422a233e7d39739876167ad0a21e919c5cf7bff73d46d1d26b9089c',\n",
       "              'id': 'main'},\n",
       "             {'commit_id': 'cb3faebd8422a233e7d39739876167ad0a21e919c5cf7bff73d46d1d26b9089c',\n",
       "              'id': 'main-fork'}]}"
      ]
     },
     "execution_count": 5,
     "metadata": {},
     "output_type": "execute_result"
    }
   ],
   "source": [
    "client.branches.list_branches('countries')"
   ]
  },
  {
   "cell_type": "markdown",
   "id": "b154a422-c79b-471a-88e0-e63e249cf50d",
   "metadata": {},
   "source": [
    "Well that looks right. Let's see if we can grab the data out of the newly-forked branch."
   ]
  },
  {
   "cell_type": "code",
   "execution_count": 7,
   "id": "a71c0258-99d5-484a-b54c-038570365247",
   "metadata": {},
   "outputs": [
    {
     "data": {
      "text/plain": [
       "{'pagination': {'has_more': False,\n",
       "                'max_per_page': 1000,\n",
       "                'next_offset': '',\n",
       "                'results': 0},\n",
       " 'results': []}"
      ]
     },
     "execution_count": 7,
     "metadata": {},
     "output_type": "execute_result"
    }
   ],
   "source": [
    "client.objects.list_objects('countries', 'main-fork')"
   ]
  },
  {
   "cell_type": "markdown",
   "id": "92294189-7ad6-4e96-9968-6d80bc4b889d",
   "metadata": {},
   "source": [
    "Ah shit. I did not fork it and merely created an empty branch. Let's try something different."
   ]
  },
  {
   "cell_type": "code",
   "execution_count": 8,
   "id": "02bb615a-0e76-4b34-a9ae-cf5e9268d195",
   "metadata": {},
   "outputs": [],
   "source": [
    "client.branches.delete_branch('countries', 'main-fork')"
   ]
  },
  {
   "cell_type": "code",
   "execution_count": 9,
   "id": "ee96607d-2dea-43ec-8b62-4ae47460dac4",
   "metadata": {},
   "outputs": [
    {
     "data": {
      "text/plain": [
       "{'pagination': {'has_more': False,\n",
       "                'max_per_page': 1000,\n",
       "                'next_offset': '',\n",
       "                'results': 1},\n",
       " 'results': [{'commit_id': 'cb3faebd8422a233e7d39739876167ad0a21e919c5cf7bff73d46d1d26b9089c',\n",
       "              'id': 'main'}]}"
      ]
     },
     "execution_count": 9,
     "metadata": {},
     "output_type": "execute_result"
    }
   ],
   "source": [
    "client.branches.list_branches('countries')"
   ]
  },
  {
   "cell_type": "markdown",
   "id": "932458dd-a63b-4d08-a116-9337f2782dae",
   "metadata": {},
   "source": [
    "Deleted the empty branch... what to do now... Documentation could be better for us noobs, but I digress.\n",
    "\n",
    "Well shit. Looks like I'll manually have to pull the data from the main branch over to the new branch after all..."
   ]
  },
  {
   "cell_type": "code",
   "execution_count": 10,
   "id": "c0f3574c-0dca-41b6-b469-d31c8d930838",
   "metadata": {},
   "outputs": [
    {
     "data": {
      "text/plain": [
       "'cb3faebd8422a233e7d39739876167ad0a21e919c5cf7bff73d46d1d26b9089c'"
      ]
     },
     "execution_count": 10,
     "metadata": {},
     "output_type": "execute_result"
    }
   ],
   "source": [
    "client.branches.create_branch(repository='countries', branch_creation=models.BranchCreation(name='working', source='main'))"
   ]
  },
  {
   "cell_type": "code",
   "execution_count": 14,
   "id": "1bc3786e-9309-4739-bf30-13ee8332f403",
   "metadata": {},
   "outputs": [
    {
     "data": {
      "text/plain": [
       "{'pagination': {'has_more': False,\n",
       "                'max_per_page': 1000,\n",
       "                'next_offset': '',\n",
       "                'results': 2},\n",
       " 'results': [{'commit_id': 'cb3faebd8422a233e7d39739876167ad0a21e919c5cf7bff73d46d1d26b9089c',\n",
       "              'id': 'main'},\n",
       "             {'commit_id': 'cb3faebd8422a233e7d39739876167ad0a21e919c5cf7bff73d46d1d26b9089c',\n",
       "              'id': 'working'}]}"
      ]
     },
     "execution_count": 14,
     "metadata": {},
     "output_type": "execute_result"
    }
   ],
   "source": [
    "client.branches.list_branches('countries')"
   ]
  },
  {
   "cell_type": "markdown",
   "id": "c7ea0667-1dcc-4ad0-8be8-ff2397df469c",
   "metadata": {},
   "source": [
    "*** DELETED WHINING ***"
   ]
  },
  {
   "cell_type": "code",
   "execution_count": 17,
   "id": "1857a57f-de03-4a9c-9c89-6ba929052f25",
   "metadata": {},
   "outputs": [
    {
     "data": {
      "text/plain": [
       "{'pagination': {'has_more': False,\n",
       "                'max_per_page': 1000,\n",
       "                'next_offset': '',\n",
       "                'results': 1},\n",
       " 'results': [{'checksum': '13b1d123f0cd1716b1245eaacd4e770a',\n",
       "              'content_type': 'text/csv',\n",
       "              'mtime': 1701367563,\n",
       "              'path': 'data.csv',\n",
       "              'path_type': 'object',\n",
       "              'physical_address': 's3://ryans-lakefs-test/countries/data/gjj380if4ngu7qoas2bg/clkctvif4ngu7qoas2c0',\n",
       "              'size_bytes': 16664919}]}"
      ]
     },
     "execution_count": 17,
     "metadata": {},
     "output_type": "execute_result"
    }
   ],
   "source": [
    "client.objects.list_objects('countries','main')"
   ]
  },
  {
   "cell_type": "code",
   "execution_count": 39,
   "id": "51f9449d-6695-421b-a7a3-097f347135c2",
   "metadata": {},
   "outputs": [
    {
     "data": {
      "text/plain": [
       "{'checksum': '13b1d123f0cd1716b1245eaacd4e770a',\n",
       " 'content_type': 'text/csv',\n",
       " 'mtime': 1701384696,\n",
       " 'path': 'data.csv',\n",
       " 'path_type': 'object',\n",
       " 'physical_address': 's3://ryans-lakefs-test/countries/data/gjiv2o2f4ngu7qoas2hg/clkh3u2f4ngu7qoas2ig',\n",
       " 'size_bytes': 16664919}"
      ]
     },
     "execution_count": 39,
     "metadata": {},
     "output_type": "execute_result"
    }
   ],
   "source": [
    "client.objects.copy_object('countries','working','data.csv',\n",
    "                           ObjectCopyCreation(\n",
    "                            src_path='data.csv',\n",
    "                            src_ref='main')\n",
    "                          )"
   ]
  },
  {
   "cell_type": "markdown",
   "id": "ce6b6824-f845-4baa-8532-3171adca4aae",
   "metadata": {},
   "source": [
    "Mother fuck. Not noob friendly. At least someone gets the example notebook... that I needed. Now that I have the data copied over from the main branch into the working branch, let's see if we can get this csv into pandas."
   ]
  },
  {
   "cell_type": "code",
   "execution_count": 50,
   "id": "1c7fa983-e0e2-408d-a3b6-932c2512a3d5",
   "metadata": {},
   "outputs": [],
   "source": [
    "file = client.objects.get_object('countries','working','data.csv')"
   ]
  },
  {
   "cell_type": "code",
   "execution_count": 51,
   "id": "6fdeb8e9-9ec0-40f6-9111-59d71e0c6cc6",
   "metadata": {},
   "outputs": [
    {
     "data": {
      "text/plain": [
       "<_io.BufferedReader name='/tmp/tmp1xb08017'>"
      ]
     },
     "execution_count": 51,
     "metadata": {},
     "output_type": "execute_result"
    }
   ],
   "source": [
    "file"
   ]
  },
  {
   "cell_type": "markdown",
   "id": "5dcab173-8645-4d56-8c1d-60557daf0992",
   "metadata": {},
   "source": [
    "The hell am I supposed to do with this?!"
   ]
  },
  {
   "cell_type": "code",
   "execution_count": null,
   "id": "ddec8470-3145-4786-9acc-13c7fd3d789f",
   "metadata": {},
   "outputs": [],
   "source": [
    "# file.read()\n",
    "# outputs the entire csv here as a raw string"
   ]
  },
  {
   "cell_type": "markdown",
   "id": "b2aba562-de6d-446a-b1fe-4ffd0a80c0e3",
   "metadata": {},
   "source": [
    "Hmmm... how do I get that into pandas..."
   ]
  },
  {
   "cell_type": "code",
   "execution_count": 52,
   "id": "cf38191d-801a-4775-85a1-0ebd8963221e",
   "metadata": {},
   "outputs": [],
   "source": [
    "import pandas as pd\n",
    "df = pd.read_csv(file)"
   ]
  },
  {
   "cell_type": "code",
   "execution_count": 53,
   "id": "749f76f1-dee9-4b35-baba-dac8b1cd019d",
   "metadata": {},
   "outputs": [
    {
     "data": {
      "text/html": [
       "<div>\n",
       "<style scoped>\n",
       "    .dataframe tbody tr th:only-of-type {\n",
       "        vertical-align: middle;\n",
       "    }\n",
       "\n",
       "    .dataframe tbody tr th {\n",
       "        vertical-align: top;\n",
       "    }\n",
       "\n",
       "    .dataframe thead th {\n",
       "        text-align: right;\n",
       "    }\n",
       "</style>\n",
       "<table border=\"1\" class=\"dataframe\">\n",
       "  <thead>\n",
       "    <tr style=\"text-align: right;\">\n",
       "      <th></th>\n",
       "      <th>CID</th>\n",
       "      <th>FID_countries_points</th>\n",
       "      <th>FID_L0World_Countries_Generalized</th>\n",
       "      <th>COUNTRY</th>\n",
       "      <th>ISO</th>\n",
       "      <th>COUNTRYAFF</th>\n",
       "      <th>AFF_ISO</th>\n",
       "      <th>Longitude</th>\n",
       "      <th>Latitude</th>\n",
       "    </tr>\n",
       "  </thead>\n",
       "  <tbody>\n",
       "    <tr>\n",
       "      <th>0</th>\n",
       "      <td>500</td>\n",
       "      <td>NaN</td>\n",
       "      <td>NaN</td>\n",
       "      <td>Ocean</td>\n",
       "      <td>NaN</td>\n",
       "      <td>NaN</td>\n",
       "      <td>NaN</td>\n",
       "      <td>-30.044039</td>\n",
       "      <td>24.216976</td>\n",
       "    </tr>\n",
       "    <tr>\n",
       "      <th>1</th>\n",
       "      <td>500</td>\n",
       "      <td>NaN</td>\n",
       "      <td>NaN</td>\n",
       "      <td>Ocean</td>\n",
       "      <td>NaN</td>\n",
       "      <td>NaN</td>\n",
       "      <td>NaN</td>\n",
       "      <td>150.388214</td>\n",
       "      <td>-21.728706</td>\n",
       "    </tr>\n",
       "    <tr>\n",
       "      <th>2</th>\n",
       "      <td>500</td>\n",
       "      <td>NaN</td>\n",
       "      <td>NaN</td>\n",
       "      <td>Ocean</td>\n",
       "      <td>NaN</td>\n",
       "      <td>NaN</td>\n",
       "      <td>NaN</td>\n",
       "      <td>168.733444</td>\n",
       "      <td>56.352604</td>\n",
       "    </tr>\n",
       "    <tr>\n",
       "      <th>3</th>\n",
       "      <td>500</td>\n",
       "      <td>NaN</td>\n",
       "      <td>NaN</td>\n",
       "      <td>Ocean</td>\n",
       "      <td>NaN</td>\n",
       "      <td>NaN</td>\n",
       "      <td>NaN</td>\n",
       "      <td>-34.896107</td>\n",
       "      <td>4.820187</td>\n",
       "    </tr>\n",
       "    <tr>\n",
       "      <th>4</th>\n",
       "      <td>500</td>\n",
       "      <td>NaN</td>\n",
       "      <td>NaN</td>\n",
       "      <td>Ocean</td>\n",
       "      <td>NaN</td>\n",
       "      <td>NaN</td>\n",
       "      <td>NaN</td>\n",
       "      <td>3.984333</td>\n",
       "      <td>-26.328730</td>\n",
       "    </tr>\n",
       "    <tr>\n",
       "      <th>...</th>\n",
       "      <td>...</td>\n",
       "      <td>...</td>\n",
       "      <td>...</td>\n",
       "      <td>...</td>\n",
       "      <td>...</td>\n",
       "      <td>...</td>\n",
       "      <td>...</td>\n",
       "      <td>...</td>\n",
       "      <td>...</td>\n",
       "    </tr>\n",
       "    <tr>\n",
       "      <th>260994</th>\n",
       "      <td>91</td>\n",
       "      <td>90847.0</td>\n",
       "      <td>91.0</td>\n",
       "      <td>Greenland</td>\n",
       "      <td>GL</td>\n",
       "      <td>Denmark</td>\n",
       "      <td>DK</td>\n",
       "      <td>-27.684013</td>\n",
       "      <td>83.460632</td>\n",
       "    </tr>\n",
       "    <tr>\n",
       "      <th>260995</th>\n",
       "      <td>91</td>\n",
       "      <td>90419.0</td>\n",
       "      <td>91.0</td>\n",
       "      <td>Greenland</td>\n",
       "      <td>GL</td>\n",
       "      <td>Denmark</td>\n",
       "      <td>DK</td>\n",
       "      <td>-29.777115</td>\n",
       "      <td>83.461273</td>\n",
       "    </tr>\n",
       "    <tr>\n",
       "      <th>260996</th>\n",
       "      <td>91</td>\n",
       "      <td>90501.0</td>\n",
       "      <td>91.0</td>\n",
       "      <td>Greenland</td>\n",
       "      <td>GL</td>\n",
       "      <td>Denmark</td>\n",
       "      <td>DK</td>\n",
       "      <td>-33.087837</td>\n",
       "      <td>83.464043</td>\n",
       "    </tr>\n",
       "    <tr>\n",
       "      <th>260997</th>\n",
       "      <td>91</td>\n",
       "      <td>90074.0</td>\n",
       "      <td>91.0</td>\n",
       "      <td>Greenland</td>\n",
       "      <td>GL</td>\n",
       "      <td>Denmark</td>\n",
       "      <td>DK</td>\n",
       "      <td>-33.384373</td>\n",
       "      <td>83.475655</td>\n",
       "    </tr>\n",
       "    <tr>\n",
       "      <th>260998</th>\n",
       "      <td>91</td>\n",
       "      <td>90958.0</td>\n",
       "      <td>91.0</td>\n",
       "      <td>Greenland</td>\n",
       "      <td>GL</td>\n",
       "      <td>Denmark</td>\n",
       "      <td>DK</td>\n",
       "      <td>-30.455610</td>\n",
       "      <td>83.547875</td>\n",
       "    </tr>\n",
       "  </tbody>\n",
       "</table>\n",
       "<p>260999 rows × 9 columns</p>\n",
       "</div>"
      ],
      "text/plain": [
       "        CID  FID_countries_points  FID_L0World_Countries_Generalized  \\\n",
       "0       500                   NaN                                NaN   \n",
       "1       500                   NaN                                NaN   \n",
       "2       500                   NaN                                NaN   \n",
       "3       500                   NaN                                NaN   \n",
       "4       500                   NaN                                NaN   \n",
       "...     ...                   ...                                ...   \n",
       "260994   91               90847.0                               91.0   \n",
       "260995   91               90419.0                               91.0   \n",
       "260996   91               90501.0                               91.0   \n",
       "260997   91               90074.0                               91.0   \n",
       "260998   91               90958.0                               91.0   \n",
       "\n",
       "          COUNTRY  ISO COUNTRYAFF AFF_ISO   Longitude   Latitude  \n",
       "0           Ocean  NaN        NaN     NaN  -30.044039  24.216976  \n",
       "1           Ocean  NaN        NaN     NaN  150.388214 -21.728706  \n",
       "2           Ocean  NaN        NaN     NaN  168.733444  56.352604  \n",
       "3           Ocean  NaN        NaN     NaN  -34.896107   4.820187  \n",
       "4           Ocean  NaN        NaN     NaN    3.984333 -26.328730  \n",
       "...           ...  ...        ...     ...         ...        ...  \n",
       "260994  Greenland   GL    Denmark      DK  -27.684013  83.460632  \n",
       "260995  Greenland   GL    Denmark      DK  -29.777115  83.461273  \n",
       "260996  Greenland   GL    Denmark      DK  -33.087837  83.464043  \n",
       "260997  Greenland   GL    Denmark      DK  -33.384373  83.475655  \n",
       "260998  Greenland   GL    Denmark      DK  -30.455610  83.547875  \n",
       "\n",
       "[260999 rows x 9 columns]"
      ]
     },
     "execution_count": 53,
     "metadata": {},
     "output_type": "execute_result"
    }
   ],
   "source": [
    "df"
   ]
  },
  {
   "cell_type": "markdown",
   "id": "d0a31f41-a285-42d9-8e38-60243ecb41f7",
   "metadata": {},
   "source": [
    "Hell yeah! It only took an entire day... and I was ready to call it..."
   ]
  },
  {
   "cell_type": "code",
   "execution_count": 57,
   "id": "01e7d5b1-ca26-4566-9f17-8a9581e6a969",
   "metadata": {},
   "outputs": [
    {
     "data": {
      "text/html": [
       "<div>\n",
       "<style scoped>\n",
       "    .dataframe tbody tr th:only-of-type {\n",
       "        vertical-align: middle;\n",
       "    }\n",
       "\n",
       "    .dataframe tbody tr th {\n",
       "        vertical-align: top;\n",
       "    }\n",
       "\n",
       "    .dataframe thead th {\n",
       "        text-align: right;\n",
       "    }\n",
       "</style>\n",
       "<table border=\"1\" class=\"dataframe\">\n",
       "  <thead>\n",
       "    <tr style=\"text-align: right;\">\n",
       "      <th></th>\n",
       "      <th>CID</th>\n",
       "      <th>Longitude</th>\n",
       "      <th>Latitude</th>\n",
       "    </tr>\n",
       "  </thead>\n",
       "  <tbody>\n",
       "    <tr>\n",
       "      <th>0</th>\n",
       "      <td>500</td>\n",
       "      <td>-30.044039</td>\n",
       "      <td>24.216976</td>\n",
       "    </tr>\n",
       "    <tr>\n",
       "      <th>1</th>\n",
       "      <td>500</td>\n",
       "      <td>150.388214</td>\n",
       "      <td>-21.728706</td>\n",
       "    </tr>\n",
       "    <tr>\n",
       "      <th>2</th>\n",
       "      <td>500</td>\n",
       "      <td>168.733444</td>\n",
       "      <td>56.352604</td>\n",
       "    </tr>\n",
       "    <tr>\n",
       "      <th>3</th>\n",
       "      <td>500</td>\n",
       "      <td>-34.896107</td>\n",
       "      <td>4.820187</td>\n",
       "    </tr>\n",
       "    <tr>\n",
       "      <th>4</th>\n",
       "      <td>500</td>\n",
       "      <td>3.984333</td>\n",
       "      <td>-26.328730</td>\n",
       "    </tr>\n",
       "    <tr>\n",
       "      <th>...</th>\n",
       "      <td>...</td>\n",
       "      <td>...</td>\n",
       "      <td>...</td>\n",
       "    </tr>\n",
       "    <tr>\n",
       "      <th>260994</th>\n",
       "      <td>91</td>\n",
       "      <td>-27.684013</td>\n",
       "      <td>83.460632</td>\n",
       "    </tr>\n",
       "    <tr>\n",
       "      <th>260995</th>\n",
       "      <td>91</td>\n",
       "      <td>-29.777115</td>\n",
       "      <td>83.461273</td>\n",
       "    </tr>\n",
       "    <tr>\n",
       "      <th>260996</th>\n",
       "      <td>91</td>\n",
       "      <td>-33.087837</td>\n",
       "      <td>83.464043</td>\n",
       "    </tr>\n",
       "    <tr>\n",
       "      <th>260997</th>\n",
       "      <td>91</td>\n",
       "      <td>-33.384373</td>\n",
       "      <td>83.475655</td>\n",
       "    </tr>\n",
       "    <tr>\n",
       "      <th>260998</th>\n",
       "      <td>91</td>\n",
       "      <td>-30.455610</td>\n",
       "      <td>83.547875</td>\n",
       "    </tr>\n",
       "  </tbody>\n",
       "</table>\n",
       "<p>260999 rows × 3 columns</p>\n",
       "</div>"
      ],
      "text/plain": [
       "        CID   Longitude   Latitude\n",
       "0       500  -30.044039  24.216976\n",
       "1       500  150.388214 -21.728706\n",
       "2       500  168.733444  56.352604\n",
       "3       500  -34.896107   4.820187\n",
       "4       500    3.984333 -26.328730\n",
       "...     ...         ...        ...\n",
       "260994   91  -27.684013  83.460632\n",
       "260995   91  -29.777115  83.461273\n",
       "260996   91  -33.087837  83.464043\n",
       "260997   91  -33.384373  83.475655\n",
       "260998   91  -30.455610  83.547875\n",
       "\n",
       "[260999 rows x 3 columns]"
      ]
     },
     "execution_count": 57,
     "metadata": {},
     "output_type": "execute_result"
    }
   ],
   "source": [
    "cleaned_df = df.drop(['FID_countries_points',\n",
    "         'FID_L0World_Countries_Generalized',\n",
    "         'COUNTRY',\n",
    "         'COUNTRYAFF',\n",
    "         'AFF_ISO',\n",
    "         'ISO'\n",
    "        ], axis=1)\n",
    "\n",
    "cleaned_df"
   ]
  },
  {
   "cell_type": "markdown",
   "id": "e11b8c20-d290-4ee9-b655-72878318bc3b",
   "metadata": {},
   "source": [
    "So scikit-learn should like that. There is other stuff I could do, but let's keep it simple since we are not really worried about model accuracy. Let's make another dataframe with the CID and the country, which we will need to interpret the model prediction."
   ]
  },
  {
   "cell_type": "code",
   "execution_count": 64,
   "id": "88bd1ce7-0375-48d7-9c25-1e8baf8817bb",
   "metadata": {},
   "outputs": [],
   "source": [
    "country_keys = df.drop([\n",
    "        'FID_countries_points',\n",
    "        'COUNTRYAFF',\n",
    "        'AFF_ISO',\n",
    "        'ISO',\n",
    "        'Longitude',\n",
    "        'Latitude',\n",
    "        'FID_L0World_Countries_Generalized'\n",
    "        ], axis=1).drop_duplicates().sort_values('CID')"
   ]
  },
  {
   "cell_type": "code",
   "execution_count": 65,
   "id": "778c4e14-6717-494b-8d36-3e8d2c116c95",
   "metadata": {},
   "outputs": [
    {
     "data": {
      "text/html": [
       "<div>\n",
       "<style scoped>\n",
       "    .dataframe tbody tr th:only-of-type {\n",
       "        vertical-align: middle;\n",
       "    }\n",
       "\n",
       "    .dataframe tbody tr th {\n",
       "        vertical-align: top;\n",
       "    }\n",
       "\n",
       "    .dataframe thead th {\n",
       "        text-align: right;\n",
       "    }\n",
       "</style>\n",
       "<table border=\"1\" class=\"dataframe\">\n",
       "  <thead>\n",
       "    <tr style=\"text-align: right;\">\n",
       "      <th></th>\n",
       "      <th>CID</th>\n",
       "      <th>COUNTRY</th>\n",
       "    </tr>\n",
       "  </thead>\n",
       "  <tbody>\n",
       "    <tr>\n",
       "      <th>177625</th>\n",
       "      <td>1</td>\n",
       "      <td>Afghanistan</td>\n",
       "    </tr>\n",
       "    <tr>\n",
       "      <th>202167</th>\n",
       "      <td>2</td>\n",
       "      <td>Albania</td>\n",
       "    </tr>\n",
       "    <tr>\n",
       "      <th>154943</th>\n",
       "      <td>3</td>\n",
       "      <td>Algeria</td>\n",
       "    </tr>\n",
       "    <tr>\n",
       "      <th>44461</th>\n",
       "      <td>4</td>\n",
       "      <td>American Samoa</td>\n",
       "    </tr>\n",
       "    <tr>\n",
       "      <th>212777</th>\n",
       "      <td>5</td>\n",
       "      <td>Andorra</td>\n",
       "    </tr>\n",
       "    <tr>\n",
       "      <th>...</th>\n",
       "      <td>...</td>\n",
       "      <td>...</td>\n",
       "    </tr>\n",
       "    <tr>\n",
       "      <th>44806</th>\n",
       "      <td>248</td>\n",
       "      <td>Wallis and Futuna</td>\n",
       "    </tr>\n",
       "    <tr>\n",
       "      <th>114193</th>\n",
       "      <td>249</td>\n",
       "      <td>Yemen</td>\n",
       "    </tr>\n",
       "    <tr>\n",
       "      <th>37425</th>\n",
       "      <td>250</td>\n",
       "      <td>Zambia</td>\n",
       "    </tr>\n",
       "    <tr>\n",
       "      <th>27788</th>\n",
       "      <td>251</td>\n",
       "      <td>Zimbabwe</td>\n",
       "    </tr>\n",
       "    <tr>\n",
       "      <th>0</th>\n",
       "      <td>500</td>\n",
       "      <td>Ocean</td>\n",
       "    </tr>\n",
       "  </tbody>\n",
       "</table>\n",
       "<p>252 rows × 2 columns</p>\n",
       "</div>"
      ],
      "text/plain": [
       "        CID            COUNTRY\n",
       "177625    1        Afghanistan\n",
       "202167    2            Albania\n",
       "154943    3            Algeria\n",
       "44461     4     American Samoa\n",
       "212777    5            Andorra\n",
       "...     ...                ...\n",
       "44806   248  Wallis and Futuna\n",
       "114193  249              Yemen\n",
       "37425   250             Zambia\n",
       "27788   251           Zimbabwe\n",
       "0       500              Ocean\n",
       "\n",
       "[252 rows x 2 columns]"
      ]
     },
     "execution_count": 65,
     "metadata": {},
     "output_type": "execute_result"
    }
   ],
   "source": [
    "country_keys"
   ]
  },
  {
   "cell_type": "markdown",
   "id": "e8e99147-75e3-4ea9-9709-6daf5e300797",
   "metadata": {},
   "source": [
    "Looks like the day might not be a waste after all... let's get these bad boys back into the working branch of the lakeFS repo."
   ]
  },
  {
   "cell_type": "code",
   "execution_count": 69,
   "id": "4a82357c-93aa-4af2-8ed3-899cb336a002",
   "metadata": {},
   "outputs": [
    {
     "data": {
      "text/plain": [
       "{'checksum': '3ea72619187403ade62f4eb694f90b74',\n",
       " 'content_type': 'application/octet-stream',\n",
       " 'mtime': 1701388581,\n",
       " 'path': 'data.csv',\n",
       " 'path_type': 'object',\n",
       " 'physical_address': 's3://ryans-lakefs-test/countries/data/gjiu3o2f4ngu7qoas2j0/clki282f4ngu7qoas2jg',\n",
       " 'size_bytes': 6754629}"
      ]
     },
     "execution_count": 69,
     "metadata": {},
     "output_type": "execute_result"
    }
   ],
   "source": [
    "# https://stackoverflow.com/questions/52089872/convert-pandas-dataframe-to-bytes-like-object\n",
    "# credit to Iain Hunter\n",
    "from io import BytesIO  \n",
    "\n",
    "client.objects.upload_object('countries','working','data.csv', \n",
    "                             content=BytesIO(cleaned_df.to_csv(index=False).encode('utf-8')))"
   ]
  },
  {
   "cell_type": "markdown",
   "id": "3899610b-028b-4b4f-a858-36cd90b83d11",
   "metadata": {},
   "source": [
    "That part was relatively painless... just checked in the GUI and the csv has been updated. Let's do ther other one now as well."
   ]
  },
  {
   "cell_type": "code",
   "execution_count": 70,
   "id": "dc575fcc-36fa-45fc-a350-d9cbb1e33ad3",
   "metadata": {},
   "outputs": [
    {
     "data": {
      "text/plain": [
       "{'checksum': '9d8ac4c86f669711a1fd35633d5c6f97',\n",
       " 'content_type': 'application/octet-stream',\n",
       " 'mtime': 1701388924,\n",
       " 'path': 'countries.csv',\n",
       " 'path_type': 'object',\n",
       " 'physical_address': 's3://ryans-lakefs-test/countries/data/gjiu3o2f4ngu7qoas2j0/clki4uqf4ngu7qoas2k0',\n",
       " 'size_bytes': 3609}"
      ]
     },
     "execution_count": 70,
     "metadata": {},
     "output_type": "execute_result"
    }
   ],
   "source": [
    "client.objects.upload_object('countries','working','countries.csv', \n",
    "                             content=BytesIO(country_keys.to_csv(index=False).encode('utf-8')))"
   ]
  },
  {
   "cell_type": "code",
   "execution_count": 71,
   "id": "3f2a7c0c-a403-438f-9f8f-f3738ea9d7aa",
   "metadata": {},
   "outputs": [
    {
     "data": {
      "text/plain": [
       "{'pagination': {'has_more': False,\n",
       "                'max_per_page': 1000,\n",
       "                'next_offset': '',\n",
       "                'results': 2},\n",
       " 'results': [{'checksum': '9d8ac4c86f669711a1fd35633d5c6f97',\n",
       "              'content_type': 'application/octet-stream',\n",
       "              'mtime': 1701388924,\n",
       "              'path': 'countries.csv',\n",
       "              'path_type': 'object',\n",
       "              'physical_address': 's3://ryans-lakefs-test/countries/data/gjiu3o2f4ngu7qoas2j0/clki4uqf4ngu7qoas2k0',\n",
       "              'size_bytes': 3609},\n",
       "             {'checksum': '3ea72619187403ade62f4eb694f90b74',\n",
       "              'content_type': 'application/octet-stream',\n",
       "              'mtime': 1701388581,\n",
       "              'path': 'data.csv',\n",
       "              'path_type': 'object',\n",
       "              'physical_address': 's3://ryans-lakefs-test/countries/data/gjiu3o2f4ngu7qoas2j0/clki282f4ngu7qoas2jg',\n",
       "              'size_bytes': 6754629}]}"
      ]
     },
     "execution_count": 71,
     "metadata": {},
     "output_type": "execute_result"
    }
   ],
   "source": [
    "client.objects.list_objects('countries','working')"
   ]
  },
  {
   "cell_type": "markdown",
   "id": "fef453e3-19ba-49f1-8256-916468c186de",
   "metadata": {},
   "source": [
    "Yup yup let's commit this then merge it back into the main branch."
   ]
  },
  {
   "cell_type": "code",
   "execution_count": 73,
   "id": "88040393-21c1-403e-aac7-e79054dd0d25",
   "metadata": {},
   "outputs": [
    {
     "data": {
      "text/plain": [
       "{'pagination': {'has_more': False,\n",
       "                'max_per_page': 1000,\n",
       "                'next_offset': '',\n",
       "                'results': 2},\n",
       " 'results': [{'path': 'countries.csv',\n",
       "              'path_type': 'object',\n",
       "              'size_bytes': 3609,\n",
       "              'type': 'added'},\n",
       "             {'path': 'data.csv',\n",
       "              'path_type': 'object',\n",
       "              'size_bytes': 6754629,\n",
       "              'type': 'added'}]}"
      ]
     },
     "execution_count": 73,
     "metadata": {},
     "output_type": "execute_result"
    }
   ],
   "source": [
    "client.branches_api.diff_branch(repository='countries', branch='working')"
   ]
  },
  {
   "cell_type": "code",
   "execution_count": 75,
   "id": "4335714a-9fda-450f-a88b-c2c23a43c6f1",
   "metadata": {},
   "outputs": [
    {
     "data": {
      "text/plain": [
       "{'committer': 'test-user',\n",
       " 'creation_date': 1701389508,\n",
       " 'id': '200a6679e879047bdd2225ac91a951ab39bd74356dc8471233f5d4ab99573a46',\n",
       " 'message': 'Updated data.csv, added countries.csv',\n",
       " 'meta_range_id': '',\n",
       " 'metadata': {},\n",
       " 'parents': ['cb3faebd8422a233e7d39739876167ad0a21e919c5cf7bff73d46d1d26b9089c']}"
      ]
     },
     "execution_count": 75,
     "metadata": {},
     "output_type": "execute_result"
    }
   ],
   "source": [
    "from lakefs_client.model.commit_creation import CommitCreation\n",
    "\n",
    "client.commits_api.commit('countries', 'working', \n",
    "                         CommitCreation(message='Updated data.csv, added countries.csv')\n",
    "                         )"
   ]
  },
  {
   "cell_type": "code",
   "execution_count": 76,
   "id": "0202b4c7-6d44-4bec-af40-4fc9198159ec",
   "metadata": {},
   "outputs": [
    {
     "data": {
      "text/plain": [
       "{'pagination': {'has_more': False,\n",
       "                'max_per_page': 1000,\n",
       "                'next_offset': '',\n",
       "                'results': 0},\n",
       " 'results': []}"
      ]
     },
     "execution_count": 76,
     "metadata": {},
     "output_type": "execute_result"
    }
   ],
   "source": [
    "client.branches_api.diff_branch(repository='countries', branch='working')"
   ]
  },
  {
   "cell_type": "markdown",
   "id": "71c73707-59a3-46b9-bebe-3eea4bd07f05",
   "metadata": {},
   "source": [
    "Huzzah! Now let's merge that back into the main branch."
   ]
  },
  {
   "cell_type": "code",
   "execution_count": 77,
   "id": "46fea606-07ce-4803-ae2d-7a5fe2dea457",
   "metadata": {},
   "outputs": [
    {
     "data": {
      "text/plain": [
       "{'pagination': {'has_more': False,\n",
       "                'max_per_page': 1000,\n",
       "                'next_offset': '',\n",
       "                'results': 2},\n",
       " 'results': [{'path': 'countries.csv',\n",
       "              'path_type': 'object',\n",
       "              'size_bytes': 3609,\n",
       "              'type': 'added'},\n",
       "             {'path': 'data.csv',\n",
       "              'path_type': 'object',\n",
       "              'size_bytes': 6754629,\n",
       "              'type': 'added'}]}"
      ]
     },
     "execution_count": 77,
     "metadata": {},
     "output_type": "execute_result"
    }
   ],
   "source": [
    "client.refs_api.diff_refs(repository='countries', left_ref='main', right_ref='working')"
   ]
  },
  {
   "cell_type": "code",
   "execution_count": 79,
   "id": "34bb41b2-4b5d-4109-abf4-e036731aa412",
   "metadata": {},
   "outputs": [
    {
     "data": {
      "text/plain": [
       "{'reference': '2975cc6d3d94c256ee529d0d7048bee22874c7d70f8a0cea011df3a8d70c7ee8'}"
      ]
     },
     "execution_count": 79,
     "metadata": {},
     "output_type": "execute_result"
    }
   ],
   "source": [
    "client.refs_api.merge_into_branch(repository='countries', source_ref='working', destination_branch='main')"
   ]
  },
  {
   "cell_type": "code",
   "execution_count": 80,
   "id": "eef3ee41-edb7-433d-8bb1-8896ccfc4dec",
   "metadata": {},
   "outputs": [
    {
     "data": {
      "text/plain": [
       "{'pagination': {'has_more': False,\n",
       "                'max_per_page': 1000,\n",
       "                'next_offset': '',\n",
       "                'results': 0},\n",
       " 'results': []}"
      ]
     },
     "execution_count": 80,
     "metadata": {},
     "output_type": "execute_result"
    }
   ],
   "source": [
    "client.refs_api.diff_refs(repository='countries', left_ref='main', right_ref='working')"
   ]
  },
  {
   "cell_type": "code",
   "execution_count": 81,
   "id": "66bc73c8-033c-42e4-bd37-6a03bc16f013",
   "metadata": {},
   "outputs": [
    {
     "data": {
      "text/plain": [
       "{'pagination': {'has_more': False,\n",
       "                'max_per_page': 1000,\n",
       "                'next_offset': '',\n",
       "                'results': 2},\n",
       " 'results': [{'checksum': '9d8ac4c86f669711a1fd35633d5c6f97',\n",
       "              'content_type': 'application/octet-stream',\n",
       "              'mtime': 1701388924,\n",
       "              'path': 'countries.csv',\n",
       "              'path_type': 'object',\n",
       "              'physical_address': 's3://ryans-lakefs-test/countries/data/gjiu3o2f4ngu7qoas2j0/clki4uqf4ngu7qoas2k0',\n",
       "              'size_bytes': 3609},\n",
       "             {'checksum': '3ea72619187403ade62f4eb694f90b74',\n",
       "              'content_type': 'application/octet-stream',\n",
       "              'mtime': 1701388581,\n",
       "              'path': 'data.csv',\n",
       "              'path_type': 'object',\n",
       "              'physical_address': 's3://ryans-lakefs-test/countries/data/gjiu3o2f4ngu7qoas2j0/clki282f4ngu7qoas2jg',\n",
       "              'size_bytes': 6754629}]}"
      ]
     },
     "execution_count": 81,
     "metadata": {},
     "output_type": "execute_result"
    }
   ],
   "source": [
    "client.objects.list_objects('countries','main')"
   ]
  },
  {
   "cell_type": "markdown",
   "id": "3431d2f4-5f19-4c27-9cfb-08481546bf01",
   "metadata": {},
   "source": [
    "# Conclusion\n",
    "\n",
    "And there you have it! Through struggle, we created a new branch, copied over the contents from the main branch, did work on it locally, uploaded and committed the changes to the new branch, then merged the new branch and the main branch. \n",
    "\n",
    "Since we are using version control on the data, potential conflicts with others working on the data could be avoided. Similarly, reverting data should anything go wrong is totally possible. This is some sort of MLOps best practice implemented in a sandbox of sorts. A real production implementation would look far different, I am sure."
   ]
  }
 ],
 "metadata": {
  "kernelspec": {
   "display_name": "Python 3",
   "language": "python",
   "name": "python3"
  },
  "language_info": {
   "codemirror_mode": {
    "name": "ipython",
    "version": 3
   },
   "file_extension": ".py",
   "mimetype": "text/x-python",
   "name": "python",
   "nbconvert_exporter": "python",
   "pygments_lexer": "ipython3",
   "version": "3.9.17"
  }
 },
 "nbformat": 4,
 "nbformat_minor": 5
}
