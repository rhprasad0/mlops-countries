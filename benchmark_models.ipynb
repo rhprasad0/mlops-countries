{
 "cells": [
  {
   "cell_type": "markdown",
   "id": "9bdb9e62-6201-43e5-83a5-b6104dcdae01",
   "metadata": {},
   "source": [
    "# Let's pit these puppies against each other!\n",
    "Been out of work for a few months and had time to do this stuff... but the MLOps project is being shelved for the time being (or permanently) and Data Mining with Hall is beginning to pick up. Oh yeah I found work... sort of! Maybe! Anyway I wanted to compare algorithms and this is one of the last opportunities to do it. "
   ]
  },
  {
   "cell_type": "code",
   "execution_count": 1,
   "id": "ce0054fa-3efa-4ecc-91aa-8a56c1991447",
   "metadata": {},
   "outputs": [],
   "source": [
    "import pandas as pd\n",
    "import numpy as np\n",
    "from sklearn.pipeline import make_pipeline\n",
    "from sklearn.preprocessing import StandardScaler\n",
    "from sklearn.preprocessing import MinMaxScaler\n",
    "from sklearn.neighbors import KNeighborsClassifier\n",
    "from sklearn.model_selection import train_test_split\n",
    "from sklearn.metrics import accuracy_score, precision_score, recall_score, f1_score\n",
    "from sklearn.naive_bayes import GaussianNB\n",
    "from sklearn.svm import LinearSVC\n",
    "from sklearn.svm import SVC"
   ]
  },
  {
   "cell_type": "code",
   "execution_count": 2,
   "id": "d599da35-549c-4fa1-b024-f8bf3d426732",
   "metadata": {},
   "outputs": [
    {
     "data": {
      "text/html": [
       "<div>\n",
       "<style scoped>\n",
       "    .dataframe tbody tr th:only-of-type {\n",
       "        vertical-align: middle;\n",
       "    }\n",
       "\n",
       "    .dataframe tbody tr th {\n",
       "        vertical-align: top;\n",
       "    }\n",
       "\n",
       "    .dataframe thead th {\n",
       "        text-align: right;\n",
       "    }\n",
       "</style>\n",
       "<table border=\"1\" class=\"dataframe\">\n",
       "  <thead>\n",
       "    <tr style=\"text-align: right;\">\n",
       "      <th></th>\n",
       "      <th>OBJECTID</th>\n",
       "      <th>CID</th>\n",
       "      <th>Longitude</th>\n",
       "      <th>Latitude</th>\n",
       "      <th>Elev</th>\n",
       "    </tr>\n",
       "  </thead>\n",
       "  <tbody>\n",
       "    <tr>\n",
       "      <th>110473</th>\n",
       "      <td>110474</td>\n",
       "      <td>205</td>\n",
       "      <td>-63.042030</td>\n",
       "      <td>18.009842</td>\n",
       "      <td>1</td>\n",
       "    </tr>\n",
       "    <tr>\n",
       "      <th>239277</th>\n",
       "      <td>239278</td>\n",
       "      <td>21</td>\n",
       "      <td>30.527103</td>\n",
       "      <td>54.421837</td>\n",
       "      <td>204</td>\n",
       "    </tr>\n",
       "    <tr>\n",
       "      <th>2483</th>\n",
       "      <td>2484</td>\n",
       "      <td>211</td>\n",
       "      <td>-36.726269</td>\n",
       "      <td>-54.379429</td>\n",
       "      <td>1243</td>\n",
       "    </tr>\n",
       "    <tr>\n",
       "      <th>25842</th>\n",
       "      <td>25843</td>\n",
       "      <td>73</td>\n",
       "      <td>31.296223</td>\n",
       "      <td>-26.199530</td>\n",
       "      <td>788</td>\n",
       "    </tr>\n",
       "    <tr>\n",
       "      <th>52906</th>\n",
       "      <td>52907</td>\n",
       "      <td>53</td>\n",
       "      <td>16.309074</td>\n",
       "      <td>1.977466</td>\n",
       "      <td>396</td>\n",
       "    </tr>\n",
       "    <tr>\n",
       "      <th>...</th>\n",
       "      <td>...</td>\n",
       "      <td>...</td>\n",
       "      <td>...</td>\n",
       "      <td>...</td>\n",
       "      <td>...</td>\n",
       "    </tr>\n",
       "    <tr>\n",
       "      <th>148198</th>\n",
       "      <td>148199</td>\n",
       "      <td>123</td>\n",
       "      <td>103.979218</td>\n",
       "      <td>18.629427</td>\n",
       "      <td>437</td>\n",
       "    </tr>\n",
       "    <tr>\n",
       "      <th>1375</th>\n",
       "      <td>1376</td>\n",
       "      <td>252</td>\n",
       "      <td>-159.777618</td>\n",
       "      <td>-69.063362</td>\n",
       "      <td>0</td>\n",
       "    </tr>\n",
       "    <tr>\n",
       "      <th>14099</th>\n",
       "      <td>14100</td>\n",
       "      <td>55</td>\n",
       "      <td>-157.897369</td>\n",
       "      <td>-21.913826</td>\n",
       "      <td>12</td>\n",
       "    </tr>\n",
       "    <tr>\n",
       "      <th>168190</th>\n",
       "      <td>168191</td>\n",
       "      <td>88</td>\n",
       "      <td>-5.339446</td>\n",
       "      <td>36.151806</td>\n",
       "      <td>2</td>\n",
       "    </tr>\n",
       "    <tr>\n",
       "      <th>97350</th>\n",
       "      <td>97351</td>\n",
       "      <td>60</td>\n",
       "      <td>-69.103973</td>\n",
       "      <td>12.283055</td>\n",
       "      <td>53</td>\n",
       "    </tr>\n",
       "  </tbody>\n",
       "</table>\n",
       "<p>260999 rows × 5 columns</p>\n",
       "</div>"
      ],
      "text/plain": [
       "        OBJECTID  CID   Longitude   Latitude  Elev\n",
       "110473    110474  205  -63.042030  18.009842     1\n",
       "239277    239278   21   30.527103  54.421837   204\n",
       "2483        2484  211  -36.726269 -54.379429  1243\n",
       "25842      25843   73   31.296223 -26.199530   788\n",
       "52906      52907   53   16.309074   1.977466   396\n",
       "...          ...  ...         ...        ...   ...\n",
       "148198    148199  123  103.979218  18.629427   437\n",
       "1375        1376  252 -159.777618 -69.063362     0\n",
       "14099      14100   55 -157.897369 -21.913826    12\n",
       "168190    168191   88   -5.339446  36.151806     2\n",
       "97350      97351   60  -69.103973  12.283055    53\n",
       "\n",
       "[260999 rows x 5 columns]"
      ]
     },
     "execution_count": 2,
     "metadata": {},
     "output_type": "execute_result"
    }
   ],
   "source": [
    "df = pd.read_parquet('/home/ryan/mlops-countries/data/data.parquet').sample(frac=1)\n",
    "df"
   ]
  },
  {
   "cell_type": "code",
   "execution_count": 3,
   "id": "07c14a7c-c253-4826-a0f6-a965157d6656",
   "metadata": {},
   "outputs": [],
   "source": [
    "features_with_elevations = df[[\"Longitude\", \"Latitude\", \"Elev\"]].to_numpy()\n",
    "features = df[[\"Longitude\", \"Latitude\"]].to_numpy()\n",
    "target = df[[\"CID\"]].to_numpy()\n",
    "X_train, X_test, y_train, y_test = train_test_split(features, target.ravel(), test_size=0.2, random_state=42)"
   ]
  },
  {
   "cell_type": "markdown",
   "id": "16ec0648-2c49-44fc-8aae-9301c54f6323",
   "metadata": {},
   "source": [
    "## Nearest Neighbor Without Elevations\n",
    "k = 11 arbitrarily choen"
   ]
  },
  {
   "cell_type": "code",
   "execution_count": 7,
   "id": "e78f2a6b-324a-4bdb-bbfc-f4356b16a145",
   "metadata": {},
   "outputs": [],
   "source": [
    "clf = make_pipeline(StandardScaler(), KNeighborsClassifier(n_neighbors=11))\n",
    "clf.fit(X_train, y_train)\n",
    "y_pred = clf.predict(X_test)"
   ]
  },
  {
   "cell_type": "code",
   "execution_count": 8,
   "id": "dbdf1ffe-4ef4-4ec0-9555-518643e436aa",
   "metadata": {},
   "outputs": [
    {
     "data": {
      "text/plain": [
       "0.9745074134000652"
      ]
     },
     "execution_count": 8,
     "metadata": {},
     "output_type": "execute_result"
    }
   ],
   "source": [
    "f1_score(y_test, y_pred, average='macro')"
   ]
  },
  {
   "cell_type": "code",
   "execution_count": 12,
   "id": "f43cb502-2ee1-424e-8d6e-ffbcb205fd5d",
   "metadata": {},
   "outputs": [
    {
     "data": {
      "text/plain": [
       "0.9718058802720259"
      ]
     },
     "execution_count": 12,
     "metadata": {},
     "output_type": "execute_result"
    }
   ],
   "source": [
    "precision_score(y_test, y_pred, average='macro')"
   ]
  },
  {
   "cell_type": "code",
   "execution_count": 13,
   "id": "38ae90eb-bab8-4f12-8fed-b40a924db8b2",
   "metadata": {},
   "outputs": [
    {
     "data": {
      "text/plain": [
       "0.9779712144079099"
      ]
     },
     "execution_count": 13,
     "metadata": {},
     "output_type": "execute_result"
    }
   ],
   "source": [
    "recall_score(y_test, y_pred, average='macro')"
   ]
  },
  {
   "cell_type": "code",
   "execution_count": 15,
   "id": "70d839bb-3d33-4e1c-945d-b0413a3de9fc",
   "metadata": {},
   "outputs": [
    {
     "data": {
      "text/plain": [
       "0.9714367816091954"
      ]
     },
     "execution_count": 15,
     "metadata": {},
     "output_type": "execute_result"
    }
   ],
   "source": [
    "accuracy_score(y_test, y_pred)"
   ]
  },
  {
   "cell_type": "markdown",
   "id": "a25436c3-e858-4c61-875a-12f20d3fac68",
   "metadata": {},
   "source": [
    "## Nearest Neighbor with Elevations"
   ]
  },
  {
   "cell_type": "code",
   "execution_count": 19,
   "id": "da69fb85-850e-47c0-a760-6ce81aded8a0",
   "metadata": {},
   "outputs": [
    {
     "name": "stdout",
     "output_type": "stream",
     "text": [
      "\n",
      "F1: 0.9237871292365968\n",
      "PRECISION: 0.9252180721030284\n",
      "RECALL: 0.9263696224024742\n",
      "ACCURACY: 0.9233333333333333\n",
      "\n"
     ]
    }
   ],
   "source": [
    "clf = make_pipeline(StandardScaler(), KNeighborsClassifier(n_neighbors=11))\n",
    "X_train, X_test, y_train, y_test = train_test_split(features_with_elevations, target.ravel(), test_size=0.2, random_state=42)\n",
    "clf.fit(X_train, y_train)\n",
    "y_pred = clf.predict(X_test)\n",
    "print(f\"\"\"\n",
    "F1: {f1_score(y_test, y_pred, average='macro')}\n",
    "PRECISION: {precision_score(y_test, y_pred, average='macro')}\n",
    "RECALL: {recall_score(y_test, y_pred, average='macro')}\n",
    "ACCURACY: {accuracy_score(y_test, y_pred)}\n",
    "\"\"\")"
   ]
  },
  {
   "cell_type": "markdown",
   "id": "21e74a81-4636-40e3-b344-f8afb32b5668",
   "metadata": {},
   "source": [
    "## Gaussian Naive Bayes w/o elevations"
   ]
  },
  {
   "cell_type": "code",
   "execution_count": 17,
   "id": "caef72f5-9131-45f9-b481-bff91868f00e",
   "metadata": {},
   "outputs": [
    {
     "name": "stdout",
     "output_type": "stream",
     "text": [
      "\n",
      "F1: 0.9212164450566701\n",
      "PRECISION: 0.9205906346162167\n",
      "RECALL: 0.9257871684925962\n",
      "ACCURACY: 0.9174329501915709\n",
      "\n"
     ]
    },
    {
     "name": "stderr",
     "output_type": "stream",
     "text": [
      "/usr/local/lib/python3.10/dist-packages/sklearn/metrics/_classification.py:1471: UndefinedMetricWarning: Precision is ill-defined and being set to 0.0 in labels with no predicted samples. Use `zero_division` parameter to control this behavior.\n",
      "  _warn_prf(average, modifier, msg_start, len(result))\n"
     ]
    }
   ],
   "source": [
    "clf = GaussianNB()\n",
    "X_train, X_test, y_train, y_test = train_test_split(features, target.ravel(), test_size=0.2, random_state=42)\n",
    "clf.fit(X_train, y_train)\n",
    "y_pred = clf.predict(X_test)\n",
    "print(f\"\"\"\n",
    "F1: {f1_score(y_test, y_pred, average='macro')}\n",
    "PRECISION: {precision_score(y_test, y_pred, average='macro')}\n",
    "RECALL: {recall_score(y_test, y_pred, average='macro')}\n",
    "ACCURACY: {accuracy_score(y_test, y_pred)}\n",
    "\"\"\")"
   ]
  },
  {
   "cell_type": "markdown",
   "id": "d4371da9-6401-402f-8bf2-e2fdb84dccb6",
   "metadata": {},
   "source": [
    "## Gaussian NB w/ elevations"
   ]
  },
  {
   "cell_type": "code",
   "execution_count": 18,
   "id": "5459f13d-ed7a-47f3-a41c-e090b25a3964",
   "metadata": {},
   "outputs": [
    {
     "name": "stdout",
     "output_type": "stream",
     "text": [
      "\n",
      "F1: 0.9126835510141171\n",
      "PRECISION: 0.9189715275693507\n",
      "RECALL: 0.9128103676827263\n",
      "ACCURACY: 0.9048659003831417\n",
      "\n"
     ]
    }
   ],
   "source": [
    "clf = GaussianNB()\n",
    "X_train, X_test, y_train, y_test = train_test_split(features_with_elevations, target.ravel(), test_size=0.2, random_state=42)\n",
    "clf.fit(X_train, y_train)\n",
    "y_pred = clf.predict(X_test)\n",
    "print(f\"\"\"\n",
    "F1: {f1_score(y_test, y_pred, average='macro')}\n",
    "PRECISION: {precision_score(y_test, y_pred, average='macro')}\n",
    "RECALL: {recall_score(y_test, y_pred, average='macro')}\n",
    "ACCURACY: {accuracy_score(y_test, y_pred)}\n",
    "\"\"\")"
   ]
  },
  {
   "cell_type": "markdown",
   "id": "d2afc39e-eed1-4a6c-9182-1e011cbe4f70",
   "metadata": {},
   "source": [
    "## Support Vector Classifier w/o elev - SKIP"
   ]
  },
  {
   "cell_type": "code",
   "execution_count": null,
   "id": "a509b923-9688-4019-95e7-a21d950c34f3",
   "metadata": {},
   "outputs": [],
   "source": [
    "clf = make_pipeline(StandardScaler(), SVC(gamma='auto'))\n",
    "X_train, X_test, y_train, y_test = train_test_split(features, target.ravel(), test_size=0.2, random_state=42)\n",
    "clf.fit(X_train, y_train)\n",
    "y_pred = clf.predict(X_test)\n",
    "print(f\"\"\"\n",
    "F1: {f1_score(y_test, y_pred, average='macro')}\n",
    "PRECISION: {precision_score(y_test, y_pred, average='macro')}\n",
    "RECALL: {recall_score(y_test, y_pred, average='macro')}\n",
    "ACCURACY: {accuracy_score(y_test, y_pred)}\n",
    "\"\"\")"
   ]
  },
  {
   "cell_type": "markdown",
   "id": "b2be9dac-c323-42e0-9cec-3c90d6dc6f35",
   "metadata": {},
   "source": [
    "I'll let this run a minute or two before killing it. Yeah we are moving on...\n",
    "\n",
    "## Linear SVC without elev"
   ]
  },
  {
   "cell_type": "code",
   "execution_count": 6,
   "id": "1ac8ac8f-6ded-496d-8331-76aa76211199",
   "metadata": {},
   "outputs": [
    {
     "name": "stdout",
     "output_type": "stream",
     "text": [
      "\n",
      "F1: 0.04054181020743101\n",
      "PRECISION: 0.03233512188563186\n",
      "RECALL: 0.06415672440768351\n",
      "ACCURACY: 0.07620689655172413\n",
      "\n"
     ]
    },
    {
     "name": "stderr",
     "output_type": "stream",
     "text": [
      "/usr/local/lib/python3.10/dist-packages/sklearn/metrics/_classification.py:1471: UndefinedMetricWarning: Precision is ill-defined and being set to 0.0 in labels with no predicted samples. Use `zero_division` parameter to control this behavior.\n",
      "  _warn_prf(average, modifier, msg_start, len(result))\n"
     ]
    }
   ],
   "source": [
    "clf = make_pipeline(StandardScaler(), LinearSVC(dual=\"auto\", random_state=0, tol=1e-5))\n",
    "X_train, X_test, y_train, y_test = train_test_split(features, target.ravel(), test_size=0.2, random_state=42)\n",
    "clf.fit(X_train, y_train)\n",
    "y_pred = clf.predict(X_test)\n",
    "print(f\"\"\"\n",
    "F1: {f1_score(y_test, y_pred, average='macro')}\n",
    "PRECISION: {precision_score(y_test, y_pred, average='macro')}\n",
    "RECALL: {recall_score(y_test, y_pred, average='macro')}\n",
    "ACCURACY: {accuracy_score(y_test, y_pred)}\n",
    "\"\"\")"
   ]
  },
  {
   "cell_type": "markdown",
   "id": "15f36294-a321-44f0-a81c-ad07cfe1efd5",
   "metadata": {},
   "source": [
    "## LSVC w/ elev"
   ]
  },
  {
   "cell_type": "code",
   "execution_count": 7,
   "id": "ae031c80-4179-471a-adcf-31ac14c0bc03",
   "metadata": {},
   "outputs": [
    {
     "name": "stdout",
     "output_type": "stream",
     "text": [
      "\n",
      "F1: 0.10031603522452667\n",
      "PRECISION: 0.10159411134760124\n",
      "RECALL: 0.1296581102116773\n",
      "ACCURACY: 0.14796934865900382\n",
      "\n"
     ]
    },
    {
     "name": "stderr",
     "output_type": "stream",
     "text": [
      "/usr/local/lib/python3.10/dist-packages/sklearn/metrics/_classification.py:1471: UndefinedMetricWarning: Precision is ill-defined and being set to 0.0 in labels with no predicted samples. Use `zero_division` parameter to control this behavior.\n",
      "  _warn_prf(average, modifier, msg_start, len(result))\n"
     ]
    }
   ],
   "source": [
    "clf = make_pipeline(StandardScaler(), LinearSVC(dual=\"auto\", random_state=0, tol=1e-5))\n",
    "X_train, X_test, y_train, y_test = train_test_split(features_with_elevations, target.ravel(), test_size=0.2, random_state=42)\n",
    "clf.fit(X_train, y_train)\n",
    "y_pred = clf.predict(X_test)\n",
    "print(f\"\"\"\n",
    "F1: {f1_score(y_test, y_pred, average='macro')}\n",
    "PRECISION: {precision_score(y_test, y_pred, average='macro')}\n",
    "RECALL: {recall_score(y_test, y_pred, average='macro')}\n",
    "ACCURACY: {accuracy_score(y_test, y_pred)}\n",
    "\"\"\")"
   ]
  },
  {
   "cell_type": "markdown",
   "id": "6165fdd4-38b6-4b55-837c-510e2b3b68b3",
   "metadata": {},
   "source": [
    "Oh shit. Looks like elevations made a difference!\n",
    "\n",
    "## SGD Classifier w/ elev"
   ]
  },
  {
   "cell_type": "code",
   "execution_count": 8,
   "id": "bb8dbf99-bb22-43fc-b59f-f8bc96ed330d",
   "metadata": {},
   "outputs": [
    {
     "name": "stdout",
     "output_type": "stream",
     "text": [
      "\n",
      "F1: 0.025199418544444758\n",
      "PRECISION: 0.024356535201506626\n",
      "RECALL: 0.044818898885684015\n",
      "ACCURACY: 0.056302681992337164\n",
      "\n"
     ]
    },
    {
     "name": "stderr",
     "output_type": "stream",
     "text": [
      "/usr/local/lib/python3.10/dist-packages/sklearn/metrics/_classification.py:1471: UndefinedMetricWarning: Precision is ill-defined and being set to 0.0 in labels with no predicted samples. Use `zero_division` parameter to control this behavior.\n",
      "  _warn_prf(average, modifier, msg_start, len(result))\n"
     ]
    }
   ],
   "source": [
    "from sklearn.linear_model import SGDClassifier\n",
    "\n",
    "clf = make_pipeline(StandardScaler(), SGDClassifier(max_iter=1000, tol=1e-3))\n",
    "X_train, X_test, y_train, y_test = train_test_split(features_with_elevations, target.ravel(), test_size=0.2, random_state=42)\n",
    "clf.fit(X_train, y_train)\n",
    "y_pred = clf.predict(X_test)\n",
    "print(f\"\"\"\n",
    "F1: {f1_score(y_test, y_pred, average='macro')}\n",
    "PRECISION: {precision_score(y_test, y_pred, average='macro')}\n",
    "RECALL: {recall_score(y_test, y_pred, average='macro')}\n",
    "ACCURACY: {accuracy_score(y_test, y_pred)}\n",
    "\"\"\")"
   ]
  },
  {
   "cell_type": "markdown",
   "id": "dd3bfadf-60e1-4ed4-8b6f-aa75f8ee955d",
   "metadata": {},
   "source": [
    "## SGD Classifier w/o elev"
   ]
  },
  {
   "cell_type": "code",
   "execution_count": 9,
   "id": "41f65412-a7ba-45c4-8925-256dd8c8a0eb",
   "metadata": {},
   "outputs": [
    {
     "name": "stdout",
     "output_type": "stream",
     "text": [
      "\n",
      "F1: 0.014961063543174858\n",
      "PRECISION: 0.013005711230704417\n",
      "RECALL: 0.02260213938069262\n",
      "ACCURACY: 0.02718390804597701\n",
      "\n"
     ]
    },
    {
     "name": "stderr",
     "output_type": "stream",
     "text": [
      "/usr/local/lib/python3.10/dist-packages/sklearn/metrics/_classification.py:1471: UndefinedMetricWarning: Precision is ill-defined and being set to 0.0 in labels with no predicted samples. Use `zero_division` parameter to control this behavior.\n",
      "  _warn_prf(average, modifier, msg_start, len(result))\n"
     ]
    }
   ],
   "source": [
    "from sklearn.linear_model import SGDClassifier\n",
    "\n",
    "clf = make_pipeline(StandardScaler(), SGDClassifier(max_iter=1000, tol=1e-3))\n",
    "X_train, X_test, y_train, y_test = train_test_split(features, target.ravel(), test_size=0.2, random_state=42)\n",
    "clf.fit(X_train, y_train)\n",
    "y_pred = clf.predict(X_test)\n",
    "print(f\"\"\"\n",
    "F1: {f1_score(y_test, y_pred, average='macro')}\n",
    "PRECISION: {precision_score(y_test, y_pred, average='macro')}\n",
    "RECALL: {recall_score(y_test, y_pred, average='macro')}\n",
    "ACCURACY: {accuracy_score(y_test, y_pred)}\n",
    "\"\"\")"
   ]
  },
  {
   "cell_type": "markdown",
   "id": "ed19253b-1345-471d-8331-e58f755716c4",
   "metadata": {},
   "source": [
    "## Kernel Approximation w/o elev"
   ]
  },
  {
   "cell_type": "code",
   "execution_count": null,
   "id": "a2b004b6-b3b0-4478-927f-5f961ce9230b",
   "metadata": {},
   "outputs": [],
   "source": [
    "from sklearn.kernel_approximation import RBFSampler\n",
    "\n",
    "X_train, X_test, y_train, y_test = train_test_split(features, target.ravel(), test_size=0.2, random_state=42)\n",
    "\n",
    "rbf_feature = RBFSampler(gamma=1, random_state=1)\n",
    "X_features = rbf_feature.fit_transform(X_train)\n",
    "clf = SGDClassifier(max_iter=5)\n",
    "\n",
    "clf.fit(X_features, y_train)\n",
    "y_pred = clf.predict(X_test)\n",
    "print(f\"\"\"\n",
    "F1: {f1_score(y_test, y_pred, average='macro')}\n",
    "PRECISION: {precision_score(y_test, y_pred, average='macro')}\n",
    "RECALL: {recall_score(y_test, y_pred, average='macro')}\n",
    "ACCURACY: {accuracy_score(y_test, y_pred)}\n",
    "\"\"\")"
   ]
  },
  {
   "cell_type": "markdown",
   "id": "c09e7281-72f3-45b2-bd70-fb468e1e332c",
   "metadata": {},
   "source": [
    "Yeah that didn't work this looks like crazy magic or something\n",
    "\n",
    "Okay that should be all the classifiers in scikit-learn lets see if we can get XGBoost going. I heard this puppy will cause world peace some day"
   ]
  },
  {
   "cell_type": "code",
   "execution_count": 7,
   "id": "32ab130f-3696-4ddd-af5f-408b9333266d",
   "metadata": {},
   "outputs": [
    {
     "name": "stdout",
     "output_type": "stream",
     "text": [
      "Defaulting to user installation because normal site-packages is not writeable\n",
      "Collecting xgboost\n",
      "  Downloading xgboost-2.0.2-py3-none-manylinux2014_x86_64.whl (297.1 MB)\n",
      "\u001b[2K     \u001b[90m━━━━━━━━━━━━━━━━━━━━━━━━━━━━━━━━━━━━━━\u001b[0m \u001b[32m297.1/297.1 MB\u001b[0m \u001b[31m11.5 MB/s\u001b[0m eta \u001b[36m0:00:00\u001b[0m00:01\u001b[0m00:01\u001b[0m\n",
      "\u001b[?25hRequirement already satisfied: numpy in /usr/local/lib/python3.10/dist-packages (from xgboost) (1.26.2)\n",
      "Requirement already satisfied: scipy in /usr/local/lib/python3.10/dist-packages (from xgboost) (1.11.4)\n",
      "Installing collected packages: xgboost\n",
      "Successfully installed xgboost-2.0.2\n"
     ]
    }
   ],
   "source": [
    "import sys\n",
    "!{sys.executable} -m pip install xgboost"
   ]
  },
  {
   "cell_type": "code",
   "execution_count": 10,
   "id": "4185e916-9ca5-4fc2-8d91-740f6c4e9ed0",
   "metadata": {},
   "outputs": [],
   "source": [
    "import xgboost as xgb"
   ]
  },
  {
   "cell_type": "markdown",
   "id": "31b426d8-56a3-4cee-aac6-1e85d7919930",
   "metadata": {},
   "source": [
    "Well that did the trick. Let's see if XGB is up to task."
   ]
  },
  {
   "cell_type": "code",
   "execution_count": 14,
   "id": "b173d384-0573-4ec7-b154-0129dbb6f078",
   "metadata": {},
   "outputs": [],
   "source": [
    "from xgboost import XGBClassifier\n",
    "X_train, X_test, y_train, y_test = train_test_split(features, target.ravel(), test_size=0.2, random_state=42)"
   ]
  },
  {
   "cell_type": "markdown",
   "id": "428d9378-59fb-4123-833f-9f722b1e6fb6",
   "metadata": {},
   "source": [
    "## XGB w/o elevations"
   ]
  },
  {
   "cell_type": "code",
   "execution_count": 13,
   "id": "36fd3395-3ee1-457e-8ea6-6a48ea5e8b1d",
   "metadata": {},
   "outputs": [
    {
     "ename": "ValueError",
     "evalue": "Invalid classes inferred from unique values of `y`.  Expected: [  0   1   2   3   4   5   6   7   8   9  10  11  12  13  14  15  16  17\n  18  19  20  21  22  23  24  25  26  27  28  29  30  31  32  33  34  35\n  36  37  38  39  40  41  42  43  44  45  46  47  48  49  50  51  52  53\n  54  55  56  57  58  59  60  61  62  63  64  65  66  67  68  69  70  71\n  72  73  74  75  76  77  78  79  80  81  82  83  84  85  86  87  88  89\n  90  91  92  93  94  95  96  97  98  99 100 101 102 103 104 105 106 107\n 108 109 110 111 112 113 114 115 116 117 118 119 120 121 122 123 124 125\n 126 127 128 129 130 131 132 133 134 135 136 137 138 139 140 141 142 143\n 144 145 146 147 148 149 150 151 152 153 154 155 156 157 158 159 160 161\n 162 163 164 165 166 167 168 169 170 171 172 173 174 175 176 177 178 179\n 180 181 182 183 184 185 186 187 188 189 190 191 192 193 194 195 196 197\n 198 199 200 201 202 203 204 205 206 207 208 209 210 211 212 213 214 215\n 216 217 218 219 220 221 222 223 224 225 226 227 228 229 230 231 232 233\n 234 235 236 237 238 239 240 241 242 243 244 245 246 247 248 249 250 251], got [  1   2   3   4   5   6   7   8   9  10  11  12  13  14  15  16  17  18\n  19  20  21  22  23  24  25  26  27  28  29  30  31  32  33  34  35  36\n  37  38  39  40  41  42  43  44  45  46  47  48  49  50  51  52  53  54\n  55  56  57  58  59  60  61  62  63  64  65  66  67  68  69  70  71  72\n  73  74  75  76  77  78  79  80  81  82  83  84  85  86  87  88  89  90\n  91  92  93  94  95  96  97  98  99 100 101 102 103 104 105 106 107 108\n 109 110 111 112 113 114 115 116 117 118 119 120 121 122 123 124 125 126\n 127 128 129 130 131 132 133 134 135 136 137 138 139 140 141 142 143 144\n 145 146 147 148 149 150 151 152 153 154 155 156 157 158 159 160 161 162\n 163 164 165 166 167 168 169 170 171 172 173 174 175 176 177 178 179 180\n 181 182 183 184 185 186 187 188 189 190 191 192 193 194 195 196 197 198\n 199 200 201 202 203 204 205 206 207 208 209 210 211 212 213 214 215 216\n 217 218 219 220 221 222 223 224 225 226 227 228 229 230 231 232 233 234\n 235 236 237 238 239 240 241 242 243 244 245 246 247 248 249 250 251 252]",
     "output_type": "error",
     "traceback": [
      "\u001b[0;31m---------------------------------------------------------------------------\u001b[0m",
      "\u001b[0;31mValueError\u001b[0m                                Traceback (most recent call last)",
      "Cell \u001b[0;32mIn[13], line 2\u001b[0m\n\u001b[1;32m      1\u001b[0m clf \u001b[38;5;241m=\u001b[39m xgb\u001b[38;5;241m.\u001b[39mXGBClassifier(tree_method\u001b[38;5;241m=\u001b[39m\u001b[38;5;124m\"\u001b[39m\u001b[38;5;124mhist\u001b[39m\u001b[38;5;124m\"\u001b[39m, enable_categorical\u001b[38;5;241m=\u001b[39m\u001b[38;5;28;01mTrue\u001b[39;00m, device\u001b[38;5;241m=\u001b[39m\u001b[38;5;124m\"\u001b[39m\u001b[38;5;124mcuda\u001b[39m\u001b[38;5;124m\"\u001b[39m)\n\u001b[0;32m----> 2\u001b[0m \u001b[43mclf\u001b[49m\u001b[38;5;241;43m.\u001b[39;49m\u001b[43mfit\u001b[49m\u001b[43m(\u001b[49m\u001b[43mX_train\u001b[49m\u001b[43m,\u001b[49m\u001b[43m \u001b[49m\u001b[43my_train\u001b[49m\u001b[43m)\u001b[49m\n",
      "File \u001b[0;32m~/.local/lib/python3.10/site-packages/xgboost/core.py:729\u001b[0m, in \u001b[0;36mrequire_keyword_args.<locals>.throw_if.<locals>.inner_f\u001b[0;34m(*args, **kwargs)\u001b[0m\n\u001b[1;32m    727\u001b[0m \u001b[38;5;28;01mfor\u001b[39;00m k, arg \u001b[38;5;129;01min\u001b[39;00m \u001b[38;5;28mzip\u001b[39m(sig\u001b[38;5;241m.\u001b[39mparameters, args):\n\u001b[1;32m    728\u001b[0m     kwargs[k] \u001b[38;5;241m=\u001b[39m arg\n\u001b[0;32m--> 729\u001b[0m \u001b[38;5;28;01mreturn\u001b[39;00m \u001b[43mfunc\u001b[49m\u001b[43m(\u001b[49m\u001b[38;5;241;43m*\u001b[39;49m\u001b[38;5;241;43m*\u001b[39;49m\u001b[43mkwargs\u001b[49m\u001b[43m)\u001b[49m\n",
      "File \u001b[0;32m~/.local/lib/python3.10/site-packages/xgboost/sklearn.py:1467\u001b[0m, in \u001b[0;36mXGBClassifier.fit\u001b[0;34m(self, X, y, sample_weight, base_margin, eval_set, eval_metric, early_stopping_rounds, verbose, xgb_model, sample_weight_eval_set, base_margin_eval_set, feature_weights, callbacks)\u001b[0m\n\u001b[1;32m   1462\u001b[0m     expected_classes \u001b[38;5;241m=\u001b[39m \u001b[38;5;28mself\u001b[39m\u001b[38;5;241m.\u001b[39mclasses_\n\u001b[1;32m   1463\u001b[0m \u001b[38;5;28;01mif\u001b[39;00m (\n\u001b[1;32m   1464\u001b[0m     classes\u001b[38;5;241m.\u001b[39mshape \u001b[38;5;241m!=\u001b[39m expected_classes\u001b[38;5;241m.\u001b[39mshape\n\u001b[1;32m   1465\u001b[0m     \u001b[38;5;129;01mor\u001b[39;00m \u001b[38;5;129;01mnot\u001b[39;00m (classes \u001b[38;5;241m==\u001b[39m expected_classes)\u001b[38;5;241m.\u001b[39mall()\n\u001b[1;32m   1466\u001b[0m ):\n\u001b[0;32m-> 1467\u001b[0m     \u001b[38;5;28;01mraise\u001b[39;00m \u001b[38;5;167;01mValueError\u001b[39;00m(\n\u001b[1;32m   1468\u001b[0m         \u001b[38;5;124mf\u001b[39m\u001b[38;5;124m\"\u001b[39m\u001b[38;5;124mInvalid classes inferred from unique values of `y`.  \u001b[39m\u001b[38;5;124m\"\u001b[39m\n\u001b[1;32m   1469\u001b[0m         \u001b[38;5;124mf\u001b[39m\u001b[38;5;124m\"\u001b[39m\u001b[38;5;124mExpected: \u001b[39m\u001b[38;5;132;01m{\u001b[39;00mexpected_classes\u001b[38;5;132;01m}\u001b[39;00m\u001b[38;5;124m, got \u001b[39m\u001b[38;5;132;01m{\u001b[39;00mclasses\u001b[38;5;132;01m}\u001b[39;00m\u001b[38;5;124m\"\u001b[39m\n\u001b[1;32m   1470\u001b[0m     )\n\u001b[1;32m   1472\u001b[0m params \u001b[38;5;241m=\u001b[39m \u001b[38;5;28mself\u001b[39m\u001b[38;5;241m.\u001b[39mget_xgb_params()\n\u001b[1;32m   1474\u001b[0m \u001b[38;5;28;01mif\u001b[39;00m \u001b[38;5;28mcallable\u001b[39m(\u001b[38;5;28mself\u001b[39m\u001b[38;5;241m.\u001b[39mobjective):\n",
      "\u001b[0;31mValueError\u001b[0m: Invalid classes inferred from unique values of `y`.  Expected: [  0   1   2   3   4   5   6   7   8   9  10  11  12  13  14  15  16  17\n  18  19  20  21  22  23  24  25  26  27  28  29  30  31  32  33  34  35\n  36  37  38  39  40  41  42  43  44  45  46  47  48  49  50  51  52  53\n  54  55  56  57  58  59  60  61  62  63  64  65  66  67  68  69  70  71\n  72  73  74  75  76  77  78  79  80  81  82  83  84  85  86  87  88  89\n  90  91  92  93  94  95  96  97  98  99 100 101 102 103 104 105 106 107\n 108 109 110 111 112 113 114 115 116 117 118 119 120 121 122 123 124 125\n 126 127 128 129 130 131 132 133 134 135 136 137 138 139 140 141 142 143\n 144 145 146 147 148 149 150 151 152 153 154 155 156 157 158 159 160 161\n 162 163 164 165 166 167 168 169 170 171 172 173 174 175 176 177 178 179\n 180 181 182 183 184 185 186 187 188 189 190 191 192 193 194 195 196 197\n 198 199 200 201 202 203 204 205 206 207 208 209 210 211 212 213 214 215\n 216 217 218 219 220 221 222 223 224 225 226 227 228 229 230 231 232 233\n 234 235 236 237 238 239 240 241 242 243 244 245 246 247 248 249 250 251], got [  1   2   3   4   5   6   7   8   9  10  11  12  13  14  15  16  17  18\n  19  20  21  22  23  24  25  26  27  28  29  30  31  32  33  34  35  36\n  37  38  39  40  41  42  43  44  45  46  47  48  49  50  51  52  53  54\n  55  56  57  58  59  60  61  62  63  64  65  66  67  68  69  70  71  72\n  73  74  75  76  77  78  79  80  81  82  83  84  85  86  87  88  89  90\n  91  92  93  94  95  96  97  98  99 100 101 102 103 104 105 106 107 108\n 109 110 111 112 113 114 115 116 117 118 119 120 121 122 123 124 125 126\n 127 128 129 130 131 132 133 134 135 136 137 138 139 140 141 142 143 144\n 145 146 147 148 149 150 151 152 153 154 155 156 157 158 159 160 161 162\n 163 164 165 166 167 168 169 170 171 172 173 174 175 176 177 178 179 180\n 181 182 183 184 185 186 187 188 189 190 191 192 193 194 195 196 197 198\n 199 200 201 202 203 204 205 206 207 208 209 210 211 212 213 214 215 216\n 217 218 219 220 221 222 223 224 225 226 227 228 229 230 231 232 233 234\n 235 236 237 238 239 240 241 242 243 244 245 246 247 248 249 250 251 252]"
     ]
    }
   ],
   "source": [
    "clf = xgb.XGBClassifier(tree_method=\"hist\", enable_categorical=True, device=\"cuda\")\n",
    "clf.fit(X_train, y_train)"
   ]
  },
  {
   "cell_type": "markdown",
   "id": "7fa23496-b07b-4fd2-bb70-acde59338476",
   "metadata": {},
   "source": [
    "Stack exchange to the rescue: use label encoder!"
   ]
  },
  {
   "cell_type": "code",
   "execution_count": 15,
   "id": "fa88b87a-f037-456f-ad9a-792b3c844aae",
   "metadata": {},
   "outputs": [],
   "source": [
    "from sklearn.preprocessing import LabelEncoder\n",
    "le = LabelEncoder()\n",
    "y_train = le.fit_transform(y_train)"
   ]
  },
  {
   "cell_type": "code",
   "execution_count": 16,
   "id": "c442bcad-8737-43c3-9d49-6de6f1be95f1",
   "metadata": {},
   "outputs": [
    {
     "data": {
      "text/html": [
       "<style>#sk-container-id-1 {color: black;}#sk-container-id-1 pre{padding: 0;}#sk-container-id-1 div.sk-toggleable {background-color: white;}#sk-container-id-1 label.sk-toggleable__label {cursor: pointer;display: block;width: 100%;margin-bottom: 0;padding: 0.3em;box-sizing: border-box;text-align: center;}#sk-container-id-1 label.sk-toggleable__label-arrow:before {content: \"▸\";float: left;margin-right: 0.25em;color: #696969;}#sk-container-id-1 label.sk-toggleable__label-arrow:hover:before {color: black;}#sk-container-id-1 div.sk-estimator:hover label.sk-toggleable__label-arrow:before {color: black;}#sk-container-id-1 div.sk-toggleable__content {max-height: 0;max-width: 0;overflow: hidden;text-align: left;background-color: #f0f8ff;}#sk-container-id-1 div.sk-toggleable__content pre {margin: 0.2em;color: black;border-radius: 0.25em;background-color: #f0f8ff;}#sk-container-id-1 input.sk-toggleable__control:checked~div.sk-toggleable__content {max-height: 200px;max-width: 100%;overflow: auto;}#sk-container-id-1 input.sk-toggleable__control:checked~label.sk-toggleable__label-arrow:before {content: \"▾\";}#sk-container-id-1 div.sk-estimator input.sk-toggleable__control:checked~label.sk-toggleable__label {background-color: #d4ebff;}#sk-container-id-1 div.sk-label input.sk-toggleable__control:checked~label.sk-toggleable__label {background-color: #d4ebff;}#sk-container-id-1 input.sk-hidden--visually {border: 0;clip: rect(1px 1px 1px 1px);clip: rect(1px, 1px, 1px, 1px);height: 1px;margin: -1px;overflow: hidden;padding: 0;position: absolute;width: 1px;}#sk-container-id-1 div.sk-estimator {font-family: monospace;background-color: #f0f8ff;border: 1px dotted black;border-radius: 0.25em;box-sizing: border-box;margin-bottom: 0.5em;}#sk-container-id-1 div.sk-estimator:hover {background-color: #d4ebff;}#sk-container-id-1 div.sk-parallel-item::after {content: \"\";width: 100%;border-bottom: 1px solid gray;flex-grow: 1;}#sk-container-id-1 div.sk-label:hover label.sk-toggleable__label {background-color: #d4ebff;}#sk-container-id-1 div.sk-serial::before {content: \"\";position: absolute;border-left: 1px solid gray;box-sizing: border-box;top: 0;bottom: 0;left: 50%;z-index: 0;}#sk-container-id-1 div.sk-serial {display: flex;flex-direction: column;align-items: center;background-color: white;padding-right: 0.2em;padding-left: 0.2em;position: relative;}#sk-container-id-1 div.sk-item {position: relative;z-index: 1;}#sk-container-id-1 div.sk-parallel {display: flex;align-items: stretch;justify-content: center;background-color: white;position: relative;}#sk-container-id-1 div.sk-item::before, #sk-container-id-1 div.sk-parallel-item::before {content: \"\";position: absolute;border-left: 1px solid gray;box-sizing: border-box;top: 0;bottom: 0;left: 50%;z-index: -1;}#sk-container-id-1 div.sk-parallel-item {display: flex;flex-direction: column;z-index: 1;position: relative;background-color: white;}#sk-container-id-1 div.sk-parallel-item:first-child::after {align-self: flex-end;width: 50%;}#sk-container-id-1 div.sk-parallel-item:last-child::after {align-self: flex-start;width: 50%;}#sk-container-id-1 div.sk-parallel-item:only-child::after {width: 0;}#sk-container-id-1 div.sk-dashed-wrapped {border: 1px dashed gray;margin: 0 0.4em 0.5em 0.4em;box-sizing: border-box;padding-bottom: 0.4em;background-color: white;}#sk-container-id-1 div.sk-label label {font-family: monospace;font-weight: bold;display: inline-block;line-height: 1.2em;}#sk-container-id-1 div.sk-label-container {text-align: center;}#sk-container-id-1 div.sk-container {/* jupyter's `normalize.less` sets `[hidden] { display: none; }` but bootstrap.min.css set `[hidden] { display: none !important; }` so we also need the `!important` here to be able to override the default hidden behavior on the sphinx rendered scikit-learn.org. See: https://github.com/scikit-learn/scikit-learn/issues/21755 */display: inline-block !important;position: relative;}#sk-container-id-1 div.sk-text-repr-fallback {display: none;}</style><div id=\"sk-container-id-1\" class=\"sk-top-container\"><div class=\"sk-text-repr-fallback\"><pre>XGBClassifier(base_score=None, booster=None, callbacks=None,\n",
       "              colsample_bylevel=None, colsample_bynode=None,\n",
       "              colsample_bytree=None, device=&#x27;cuda&#x27;, early_stopping_rounds=None,\n",
       "              enable_categorical=True, eval_metric=None, feature_types=None,\n",
       "              gamma=None, grow_policy=None, importance_type=None,\n",
       "              interaction_constraints=None, learning_rate=None, max_bin=None,\n",
       "              max_cat_threshold=None, max_cat_to_onehot=None,\n",
       "              max_delta_step=None, max_depth=None, max_leaves=None,\n",
       "              min_child_weight=None, missing=nan, monotone_constraints=None,\n",
       "              multi_strategy=None, n_estimators=None, n_jobs=None,\n",
       "              num_parallel_tree=None, objective=&#x27;multi:softprob&#x27;, ...)</pre><b>In a Jupyter environment, please rerun this cell to show the HTML representation or trust the notebook. <br />On GitHub, the HTML representation is unable to render, please try loading this page with nbviewer.org.</b></div><div class=\"sk-container\" hidden><div class=\"sk-item\"><div class=\"sk-estimator sk-toggleable\"><input class=\"sk-toggleable__control sk-hidden--visually\" id=\"sk-estimator-id-1\" type=\"checkbox\" checked><label for=\"sk-estimator-id-1\" class=\"sk-toggleable__label sk-toggleable__label-arrow\">XGBClassifier</label><div class=\"sk-toggleable__content\"><pre>XGBClassifier(base_score=None, booster=None, callbacks=None,\n",
       "              colsample_bylevel=None, colsample_bynode=None,\n",
       "              colsample_bytree=None, device=&#x27;cuda&#x27;, early_stopping_rounds=None,\n",
       "              enable_categorical=True, eval_metric=None, feature_types=None,\n",
       "              gamma=None, grow_policy=None, importance_type=None,\n",
       "              interaction_constraints=None, learning_rate=None, max_bin=None,\n",
       "              max_cat_threshold=None, max_cat_to_onehot=None,\n",
       "              max_delta_step=None, max_depth=None, max_leaves=None,\n",
       "              min_child_weight=None, missing=nan, monotone_constraints=None,\n",
       "              multi_strategy=None, n_estimators=None, n_jobs=None,\n",
       "              num_parallel_tree=None, objective=&#x27;multi:softprob&#x27;, ...)</pre></div></div></div></div></div>"
      ],
      "text/plain": [
       "XGBClassifier(base_score=None, booster=None, callbacks=None,\n",
       "              colsample_bylevel=None, colsample_bynode=None,\n",
       "              colsample_bytree=None, device='cuda', early_stopping_rounds=None,\n",
       "              enable_categorical=True, eval_metric=None, feature_types=None,\n",
       "              gamma=None, grow_policy=None, importance_type=None,\n",
       "              interaction_constraints=None, learning_rate=None, max_bin=None,\n",
       "              max_cat_threshold=None, max_cat_to_onehot=None,\n",
       "              max_delta_step=None, max_depth=None, max_leaves=None,\n",
       "              min_child_weight=None, missing=nan, monotone_constraints=None,\n",
       "              multi_strategy=None, n_estimators=None, n_jobs=None,\n",
       "              num_parallel_tree=None, objective='multi:softprob', ...)"
      ]
     },
     "execution_count": 16,
     "metadata": {},
     "output_type": "execute_result"
    }
   ],
   "source": [
    "clf = xgb.XGBClassifier(tree_method=\"hist\", enable_categorical=True, device=\"cuda\")\n",
    "clf.fit(X_train, y_train)"
   ]
  },
  {
   "cell_type": "markdown",
   "id": "5fd1dec1-abd0-459e-9bdc-ac7112dd1eb0",
   "metadata": {},
   "source": [
    "Well this is kinda cool watching the GPU get hammered. Took a minute or so."
   ]
  },
  {
   "cell_type": "code",
   "execution_count": 17,
   "id": "6d1bf93f-091f-4d29-a0e5-3d0bcadaa333",
   "metadata": {},
   "outputs": [
    {
     "name": "stderr",
     "output_type": "stream",
     "text": [
      "/home/ryan/.local/lib/python3.10/site-packages/xgboost/core.py:160: UserWarning: [18:46:30] WARNING: /workspace/src/common/error_msg.cc:58: Falling back to prediction using DMatrix due to mismatched devices. This might lead to higher memory usage and slower performance. XGBoost is running on: cuda:0, while the input data is on: cpu.\n",
      "Potential solutions:\n",
      "- Use a data structure that matches the device ordinal in the booster.\n",
      "- Set the device for booster before call to inplace_predict.\n",
      "\n",
      "This warning will only be shown once.\n",
      "\n",
      "  warnings.warn(smsg, UserWarning)\n"
     ]
    }
   ],
   "source": [
    "y_pred = clf.predict(X_test)"
   ]
  },
  {
   "cell_type": "markdown",
   "id": "115373dc-25c4-4b03-957c-d69bfbc681b5",
   "metadata": {},
   "source": [
    "Oh shaddup gimme scores"
   ]
  },
  {
   "cell_type": "code",
   "execution_count": 18,
   "id": "3749f31e-b2f3-4a79-977c-49ff0cdf5089",
   "metadata": {},
   "outputs": [
    {
     "name": "stdout",
     "output_type": "stream",
     "text": [
      "\n",
      "F1: 0.00027205924992678056\n",
      "PRECISION: 0.00021147234054590973\n",
      "RECALL: 0.0005501141019841459\n",
      "ACCURACY: 0.0005363984674329502\n",
      "\n"
     ]
    },
    {
     "name": "stderr",
     "output_type": "stream",
     "text": [
      "/usr/local/lib/python3.10/dist-packages/sklearn/metrics/_classification.py:1471: UndefinedMetricWarning: Precision is ill-defined and being set to 0.0 in labels with no predicted samples. Use `zero_division` parameter to control this behavior.\n",
      "  _warn_prf(average, modifier, msg_start, len(result))\n"
     ]
    }
   ],
   "source": [
    "print(f\"\"\"\n",
    "F1: {f1_score(y_test, y_pred, average='macro')}\n",
    "PRECISION: {precision_score(y_test, y_pred, average='macro')}\n",
    "RECALL: {recall_score(y_test, y_pred, average='macro')}\n",
    "ACCURACY: {accuracy_score(y_test, y_pred)}\n",
    "\"\"\")"
   ]
  },
  {
   "cell_type": "markdown",
   "id": "b1766b1e-a12b-4ad8-8b56-d85582d8b568",
   "metadata": {},
   "source": [
    "I am amazed that thing even fit a model... remarkable.\n",
    "\n",
    "## XGB w/ elev"
   ]
  },
  {
   "cell_type": "code",
   "execution_count": 19,
   "id": "612e17c6-924f-4a50-a598-3659b2134b09",
   "metadata": {},
   "outputs": [
    {
     "name": "stdout",
     "output_type": "stream",
     "text": [
      "\n",
      "F1: 0.0008550897893209295\n",
      "PRECISION: 0.0005152675540434538\n",
      "RECALL: 0.0036271952868678313\n",
      "ACCURACY: 0.003563218390804598\n",
      "\n"
     ]
    },
    {
     "name": "stderr",
     "output_type": "stream",
     "text": [
      "/usr/local/lib/python3.10/dist-packages/sklearn/metrics/_classification.py:1471: UndefinedMetricWarning: Precision is ill-defined and being set to 0.0 in labels with no predicted samples. Use `zero_division` parameter to control this behavior.\n",
      "  _warn_prf(average, modifier, msg_start, len(result))\n"
     ]
    }
   ],
   "source": [
    "X_train, X_test, y_train, y_test = train_test_split(features_with_elevations, target.ravel(), test_size=0.2, random_state=42)\n",
    "le = LabelEncoder()\n",
    "y_train = le.fit_transform(y_train)\n",
    "clf = xgb.XGBClassifier(tree_method=\"hist\", enable_categorical=True, device=\"cuda\")\n",
    "clf.fit(X_train, y_train)\n",
    "y_pred = clf.predict(X_test)\n",
    "print(f\"\"\"\n",
    "F1: {f1_score(y_test, y_pred, average='macro')}\n",
    "PRECISION: {precision_score(y_test, y_pred, average='macro')}\n",
    "RECALL: {recall_score(y_test, y_pred, average='macro')}\n",
    "ACCURACY: {accuracy_score(y_test, y_pred)}\n",
    "\"\"\")"
   ]
  },
  {
   "cell_type": "code",
   "execution_count": null,
   "id": "c6e70726-288a-4f4a-921c-04fc7e2b6f3d",
   "metadata": {},
   "outputs": [],
   "source": []
  }
 ],
 "metadata": {
  "kernelspec": {
   "display_name": "Python 3 (ipykernel)",
   "language": "python",
   "name": "python3"
  },
  "language_info": {
   "codemirror_mode": {
    "name": "ipython",
    "version": 3
   },
   "file_extension": ".py",
   "mimetype": "text/x-python",
   "name": "python",
   "nbconvert_exporter": "python",
   "pygments_lexer": "ipython3",
   "version": "3.10.12"
  }
 },
 "nbformat": 4,
 "nbformat_minor": 5
}
